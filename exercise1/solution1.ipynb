{
 "cells": [
  {
   "cell_type": "markdown",
   "id": "22dbc783-4a79-4e3d-bee1-bf5a640837f5",
   "metadata": {
    "id": "22dbc783-4a79-4e3d-bee1-bf5a640837f5",
    "tags": []
   },
   "source": [
    "<!-- Badges: -->\n",
    "[![License](https://img.shields.io/github/license/QuCAI-Lab/ibm2022-quantum-spring-challenge.svg?logo=CreativeCommons&style=flat-square)](https://github.com/QuCAI-Lab/ibm2022-quantum-spring-challenge/blob/dev/LICENSE.md)\n",
    "[![Contributions](https://img.shields.io/badge/contributions-welcome-orange?style=flat-square)](https://github.com/QuCAI-Lab/ibm2022-quantum-spring-challenge/pulls)\n",
    "[![Maintenance](https://img.shields.io/badge/Maintained%3F-yes-green.svg)](https://github.com/QuCAI-Lab/ibm2022-quantum-spring-challenge/graphs/commit-activity)\n",
    "[![Release](https://img.shields.io/github/release/QuCAI-Lab/ibm2022-quantum-spring-challenge.svg)](https://github.com/QuCAI-Lab/ibm2022-quantum-spring-challenge/releases)\n",
    "\n",
    "\n",
    "<!-- Title: -->\n",
    "<div align=\"center\">\n",
    "  <h1> <a href=\"https://challenges.quantum-computing.ibm.com/spring-2022\"> IBM Quantum Spring Challenge 2022 </a> </h1>\n",
    "</div>\n",
    "<br>\n",
    "\n",
    "<!-- Author: -->\n",
    "<div align=\"center\">\n",
    "  <b>Developer: <a target=\"_blank\" href=\"https://github.com/camponogaraviera\">¹Lucas Camponogara Viera</a></b>\n",
    "<br>\n",
    "<b><a target=\"_blank\" href=\"https://en.ntnu.edu.tw/\">¹National Taiwan Normal University - NTNU, Taipei, Taiwan</a></b>.\n",
    "</div>"
   ]
  },
  {
   "cell_type": "markdown",
   "id": "9d7150b0-e064-4f2f-bbde-0c85e892a5f5",
   "metadata": {
    "id": "9d7150b0-e064-4f2f-bbde-0c85e892a5f5"
   },
   "source": [
    "<table class=\"tfo-notebook-buttons\" align=\"head\">\n",
    "  <td>\n",
    "    <a target=\"_blank\" href=\"https://github.com/QuCAI-Lab/ibm2022-quantum-spring-challenge\"><img src=\"https://www.tensorflow.org/images/GitHub-Mark-32px.png\" /></a>\n",
    "  </td>\n",
    "</table>"
   ]
  },
  {
   "cell_type": "code",
   "execution_count": 1,
   "id": "cf721bb5-71ac-40b5-89a2-1066ad9fa8df",
   "metadata": {
    "id": "cf721bb5-71ac-40b5-89a2-1066ad9fa8df",
    "outputId": "98bfa805-7a0a-4ad6-c171-f67e714116f3"
   },
   "outputs": [],
   "source": [
    "import numpy as np\n",
    "import matplotlib.pyplot as plt\n",
    "\n",
    "# Importing standard Qiskit libraries\n",
    "from qiskit import QuantumCircuit, QuantumRegister, transpile, Aer, IBMQ, execute\n",
    "from qiskit.tools.jupyter import *\n",
    "from qiskit.visualization import *\n",
    "#from ibm_quantum_widgets import *\n",
    "from qiskit.providers.aer import QasmSimulator\n",
    "from tqdm.notebook import tqdm\n",
    "\n",
    "from qiskit.providers.aer import QasmSimulator\n",
    "from qiskit.tools.monitor import job_monitor\n",
    "from qiskit.circuit import Parameter\n",
    "import qiskit.quantum_info as qi\n",
    "\n",
    "# Suppress warnings\n",
    "import warnings\n",
    "warnings.filterwarnings('ignore')\n",
    "\n",
    "import pylatexenc\n",
    "import IPython"
   ]
  },
  {
   "cell_type": "code",
   "execution_count": 2,
   "id": "c7d4d73e",
   "metadata": {},
   "outputs": [
    {
     "name": "stdout",
     "output_type": "stream",
     "text": [
      "Author: LucasCamponogaraViera\n",
      "\n",
      "Github username: QuCAI-Lab\n",
      "\n",
      "Website: https://github.com/QuCAI-Lab/ibm2022-quantum-spring-challenge\n",
      "\n",
      "Last updated: 2022-06-07\n",
      "\n",
      "Python implementation: CPython\n",
      "Python version       : 3.9.11\n",
      "IPython version      : 8.4.0\n",
      "\n",
      "Compiler    : GCC 7.5.0\n",
      "OS          : Linux\n",
      "Release     : 5.13.0-44-generic\n",
      "Machine     : x86_64\n",
      "Processor   : x86_64\n",
      "CPU cores   : 4\n",
      "Architecture: 64bit\n",
      "\n",
      "qiskit    : 0.36.2\n",
      "sys       : 3.9.11 (main, Mar 29 2022, 19:08:29) \n",
      "[GCC 7.5.0]\n",
      "IPython   : 8.4.0\n",
      "matplotlib: 3.5.1\n",
      "numpy     : 1.22.4\n",
      "pylatexenc: 2.10\n",
      "\n",
      "Watermark: 2.3.0\n",
      "\n"
     ]
    }
   ],
   "source": [
    "# If you get hit by the error \"No module named watermark\", run this cell twice!\n",
    "\n",
    "#%load_ext watermark\n",
    "%reload_ext watermark\n",
    "%watermark -a 'LucasCamponogaraViera' -gu 'QuCAI-Lab' -ws 'https://github.com/QuCAI-Lab/ibm2022-quantum-spring-challenge' -w -u -d -v -m -iv"
   ]
  },
  {
   "cell_type": "code",
   "execution_count": 3,
   "id": "dc1052d6",
   "metadata": {},
   "outputs": [
    {
     "name": "stdout",
     "output_type": "stream",
     "text": [
      "{'commit_hash': 'bf57b0a',\n",
      " 'commit_source': 'installation',\n",
      " 'default_encoding': 'utf-8',\n",
      " 'ipython_path': '/home/cesio137/anaconda3/envs/quantums/lib/python3.9/site-packages/IPython',\n",
      " 'ipython_version': '8.4.0',\n",
      " 'os_name': 'posix',\n",
      " 'platform': 'Linux-5.13.0-44-generic-x86_64-with-glibc2.31',\n",
      " 'sys_executable': '/home/cesio137/anaconda3/envs/quantums/bin/python3.9',\n",
      " 'sys_platform': 'linux',\n",
      " 'sys_version': '3.9.11 (main, Mar 29 2022, 19:08:29) \\n[GCC 7.5.0]'}\n"
     ]
    }
   ],
   "source": [
    "print(IPython.sys_info())"
   ]
  },
  {
   "cell_type": "markdown",
   "id": "3e8021b4",
   "metadata": {
    "id": "3e8021b4",
    "jp-MarkdownHeadingCollapsed": true,
    "tags": []
   },
   "source": [
    "# Tight-binding Model\n",
    "\n",
    "<div>\n",
    "<img src=\"attachment:tight-binding.png\" width=\"400\"/>\n",
    "</div>\n",
    "\n",
    "The tight-binding model is a quantum mechanical picture used to describe the conductance of electrons in solid-state materials. In this model, each atom is treated as a lattice site and the particle needs energy $\\epsilon_i$ to occupy that site. The electron can tunnel from a site to its neighbors with an energy cost of $J$. The following Hamiltonian describes this model:\n",
    "\n",
    "$$H_{\\rm tb}/\\hbar = \\sum_i \\epsilon_i Z_i + J \\sum_{\\langle i,j \\rangle} (X_i X_j + Y_i Y_j)$$\n",
    "\n",
    "The first term in the Hamiltonian describes the on-site energy of each site, and the second term describes the interaction energy between neighboring lattice sites. In the presence of a periodic lattice potential, the wavefunction of a given quantum particle overlaps neighboring lattice sites, leading to extended Bloch wavefunctions. In a uniform lattice, where all the site energies are equal ($\\epsilon_i=0$), the electron propagation is linear in time and is described by a continuous-time quantum random walk. This is in contrast to classical diffusive transport, where the propagation is quadratically slower in time.\n",
    "\n",
    "The system Hamiltonian allows us to determine how the quantum state evolves with time. This time evolution is governed by the Schrodinger equation:\n",
    "\n",
    "$$ i \\hbar \\frac{\\partial}{\\partial t}|\\psi(t)\\rangle = H |\\psi(t)\\rangle $$\n",
    "\n",
    "In case of a time-independent Hamiltonian (a Hamiltonian that doesn't change with time), the solution to the Schrodinger equation will take the form below:\n",
    "\n",
    "$$ |\\psi(t)\\rangle = e^{-i H t / \\hbar} |\\psi(0)\\rangle $$\n",
    "\n",
    "In this exercise we study the time dynamics under the tight-binding Hamiltonian, and construct a Trotterized circuit for its time evolution."
   ]
  },
  {
   "cell_type": "markdown",
   "id": "172dc11b",
   "metadata": {
    "id": "172dc11b",
    "jp-MarkdownHeadingCollapsed": true,
    "tags": []
   },
   "source": [
    "## 1. Time evolution under the tight-binding Hamiltonian\n",
    "\n",
    "First, let's consider time evolution under the tight-binding Hamiltonian with 3 sites. Here we'll set $J=1$, and $\\epsilon_i=0$ for a uniform lattice."
   ]
  },
  {
   "cell_type": "code",
   "execution_count": 4,
   "id": "c8034d3c-e2c4-4dda-aa78-e44b34ad494c",
   "metadata": {
    "id": "c8034d3c-e2c4-4dda-aa78-e44b34ad494c"
   },
   "outputs": [],
   "source": [
    "# Import Pauli operators (I, X, Y, Z)\n",
    "from qiskit.opflow import I, X, Y, Z\n",
    "\n",
    "J = 1\n",
    "\n",
    "# tight-binding Hamiltonian\n",
    "def H_tb():\n",
    "    # Interactions (I is the identity matrix; X and Y are Pauli matricies; ^ is a tensor product)\n",
    "    XXs = (I^X^X) + (X^X^I)\n",
    "    YYs = (I^Y^Y) + (Y^Y^I)\n",
    "    \n",
    "    # Sum interactions\n",
    "    H = J*(XXs + YYs)\n",
    "    \n",
    "    # Return Hamiltonian\n",
    "    return H"
   ]
  },
  {
   "cell_type": "code",
   "execution_count": 5,
   "id": "36f59aec-f85d-4898-a69d-231f7b53e2a1",
   "metadata": {
    "id": "36f59aec-f85d-4898-a69d-231f7b53e2a1"
   },
   "outputs": [],
   "source": [
    "# Unitary evolution under the tight-binding Hamiltonian\n",
    "def U_tb(t):\n",
    "    H = H_tb()\n",
    "    return (t * H).exp_i()"
   ]
  },
  {
   "cell_type": "markdown",
   "id": "b52f1e66",
   "metadata": {
    "id": "b52f1e66"
   },
   "source": [
    "We initialize the state of our system to $|100\\rangle$, and track the probabilities of the states $|100\\rangle, |010\\rangle, |001\\rangle$. These values correspond to the probability of finding the particle on each different site of our lattice."
   ]
  },
  {
   "cell_type": "code",
   "execution_count": 6,
   "id": "1a46069b-d9e6-4c73-bf3a-1fce5922b421",
   "metadata": {
    "id": "1a46069b-d9e6-4c73-bf3a-1fce5922b421",
    "outputId": "148782ec-1bb9-4b11-bf4a-85430861e5bf"
   },
   "outputs": [
    {
     "data": {
      "image/png": "[encoded data removed]",
      "text/plain": [
       "<Figure size 432x288 with 1 Axes>"
      ]
     },
     "metadata": {},
     "output_type": "display_data"
    }
   ],
   "source": [
    "# Import qubit states Zero (|0>) and One (|1>)\n",
    "from qiskit.opflow import Zero, One\n",
    "\n",
    "# Define array of time points\n",
    "ts = np.linspace(0, 3, 100) # DO NOT CHANGE THIS\n",
    "\n",
    "initial_state=One^Zero^Zero\n",
    "\n",
    "state_t=[U_tb(float(t)) @ initial_state for t in ts]\n",
    "\n",
    "p_100= [np.abs( (~(One^Zero^Zero) @ state).eval() )**2 for state in state_t]\n",
    "p_010= [np.abs( (~(Zero^One^Zero) @ state).eval() )**2 for state in state_t]\n",
    "p_001= [np.abs( (~(Zero^Zero^One) @ state).eval() )**2 for state in state_t]\n",
    "\n",
    "plt.figure(facecolor='white')\n",
    "plt.plot(ts, p_100, label=r'$p_{100}$')\n",
    "plt.plot(ts, p_010, label=r'$p_{010}$')\n",
    "plt.plot(ts, p_001, label=r'$p_{001}$')\n",
    "plt.xlabel(r'Time (1/J)')\n",
    "plt.ylabel(r'Population')\n",
    "plt.legend()\n",
    "plt.show()"
   ]
  },
  {
   "cell_type": "markdown",
   "id": "19c6ab38",
   "metadata": {
    "id": "19c6ab38",
    "jp-MarkdownHeadingCollapsed": true,
    "tags": []
   },
   "source": [
    "## 2. Trotterization\n",
    "\n",
    "To execute the unitary time evolution on a [circuit model](https://qiskit.org/documentation/apidoc/circuit.html) quantum computer, we must decompose $U_{\\text{tb}}(t)$ into a product of single and two-qubit gates that are native to the quantum computer. One method to accomplish this is [Trotterization](https://en.wikipedia.org/wiki/Hamiltonian_simulation#Product_Formulas), also refered to as Trotter-Suzuki decomposition. \n",
    "\n",
    "Below, we show an example Trotterization as outlined in \\[1-2\\].\n",
    "\n",
    "Since the [Pauli operators do not commute](https://en.wikipedia.org/wiki/Pauli_matrices#Commutation_relations) with each other, the exponential $U_{\\text{tb}}(t)$ cannot be split into a product of simpler exponentials. However, we can approximate $U_{\\text{tb}}(t)$ as a product of simpler exponentials through Trotterization. Consider a subsystem of 2 spin-1/2 particles within the larger 3 spin system. The Hamiltonian on spins $i$ and $j$ ($i,j \\in \\{0,1,2\\}$) would be $H^{(i,j)}_{\\text{tb}} = \\sigma_x^{(i)}\\sigma_x^{(j)} + \\sigma_y^{(i)}\\sigma_y^{(j)} + \\sigma_z^{(i)}\\sigma_z^{(j)}$. Rewritting $U_{\\text{tb}}(t)$ in terms of the two possible subsystems within the total $N=3$ system you will simulate,\n",
    "\n",
    "$$\n",
    "U_{\\text{tb}}(t) = \\exp\\left[-i t \\left(H^{(0,1)}_{\\text{tb}} + H^{(1,2)}_{\\text{tb}} \\right)\\right].\n",
    "$$\n",
    "\n",
    "$H^{(0,1)}_{\\text{tb}}$ and $H^{(1,2)}_{\\text{tb}}$ do not commute, so $U_{\\text{tb}}(t) \\neq \\exp\\left(-i t H^{(0,1)}_{\\text{tb}}\\right) \\exp\\left(-i t H^{(1,2)}_{\\text{tb}} \\right)$. But, this product decomposition can be approximated with Trotterization which says $U_{\\text{tb}}(t)$ is approximately a short evolution of $H^{(0,1)}_{\\text{tb}}$ (time = $t/n$) and followed by a short evolution of $H^{(1,2)}_{\\text{tb}}$ (time = $t/n$) repeated $n$ times\n",
    "\n",
    "$$\n",
    "\\begin{align}\n",
    "U_{\\text{tb}}(t) &= \\exp\\left[-i t \\left(H^{(0,1)}_{\\text{tb}} + H^{(1,2)}_{\\text{tb}} \\right)\\right] \\\\\n",
    "U_{\\text{tb}}(t) &\\approx \\left[\\exp\\left(\\dfrac{-it}{n}H^{(0,1)}_{\\text{tb}}\\right) \\exp\\left(\\dfrac{-it}{n}H^{(1,2)}_{\\text{tb}} \\right)\\right]^n.\n",
    "\\end{align}\n",
    "$$\n",
    "\n",
    "$n$ is the number of Trotter steps, and as $n$ increases, the approximation becomes more accurate. (Note that how the unitary operator is split up into subsystems for Trotterization is not necessarily unique.) The decomposition goes further. Within each 2 spin subsystems, the Pauli operator pairs ($\\sigma_x^{(i)}\\sigma_x^{(j)}$, $\\sigma_y^{(i)}\\sigma_y^{(j)}$, and $\\sigma_z^{(i)}\\sigma_z^{(j)}$) commute. This means we can decompose the exponential of a subsystem Hamiltonian ($H^{(i,j)}_{\\text{tb}}$) into a product of even simpler exponentials getting us closer to a gate implementation of $U_{\\text{tb}}(t)$\n",
    "\n",
    "$$\n",
    "\\begin{align}\n",
    "U_{\\text{tb}}(t) &\\approx \\left[\\exp\\left(\\dfrac{-it}{n}H^{(0,1)}_{\\text{tb}}\\right) \\exp\\left(\\dfrac{-it}{n}H^{(1,2)}_{\\text{tb}} \\right)\\right]^n \\\\\n",
    "U_{\\text{tb}}(t) &\\approx \\left[\\exp\\left(\\dfrac{-it}{n}\\left(\\sigma_x^{(0)}\\sigma_x^{(1)} + \\sigma_y^{(0)}\\sigma_y^{(1)} \\right)\\right) \\exp\\left(\\dfrac{-it}{n}\\left(\\sigma_x^{(1)}\\sigma_x^{(2)} + \\sigma_y^{(1)}\\sigma_y^{(2)} \\right)\\right)\\right]^{n} \\\\\n",
    "U_{\\text{tb}}(t) &\\approx \\left[\\exp\\left(\\dfrac{-it}{n}\\sigma_x^{(0)}\\sigma_x^{(1)}\\right) \\exp\\left(\\dfrac{-it}{n}\\sigma_y^{(0)}\\sigma_y^{(1)}\\right) \\exp\\left(\\dfrac{-it}{n}\\sigma_x^{(1)}\\sigma_x^{(2)}\\right) \\exp\\left(\\dfrac{-it}{n}\\sigma_y^{(1)}\\sigma_y^{(2)}\\right) \\right]^{n}\n",
    "\\end{align}\n",
    "$$\n",
    "\n",
    "For simplicity, and to use more common notation, let's rename the products with $XX(2t) = \\exp\\left(-it \\sigma_x\\sigma_x\\right)$, and $YY(2t) = \\exp\\left(-it \\sigma_y\\sigma_y\\right)$, and rewrite the Trotterized $U_{\\text{tb}}(t)$\n",
    "$$\n",
    "U_{\\text{tb}}(t) \\approx \\left[XX\\left(\\frac{2t}{n}\\right)^{(0,1)} YY\\left(\\frac{2t}{n}\\right)^{(0,1)}  XX\\left(\\frac{2t}{n}\\right)^{(1,2)} YY\\left(\\frac{2t}{n}\\right)^{(1,2)}\\right]^{n}\n",
    "$$\n",
    "And that's it! We have now approximately decomposed $U_{\\text{tb}}(t)$ into two-qubit gates $XX(t)$ and $YY(t)$. These gates are not native to superconducting qubits, but in Section 2, they will be further decomposed into native single and two-qubit gates with *further details found in the supplementary material.*\n",
    "\n",
    "\n",
    "\\[1\\] Y. Salathe, et al., *Digital Quantum Simulation of Spin Models with Circuit Quantum Electrodynamics*, [Phys. Rev. X **5**, 021027 (2015)](https://link.aps.org/doi/10.1103/PhysRevX.5.021027)\n",
    "\n",
    "\\[2\\] F. Tacchino, et al., *Quantum Computers as Universal Quantum Simulators: State-of-the-Art and Perspectives*, [Adv. Quantum Technol. *3* 3 (2020)](https://doi.org/10.1002/qute.201900052) \\[[free arxiv version](https://arxiv.org/abs/1907.03505)\\]\n"
   ]
  },
  {
   "cell_type": "markdown",
   "id": "2e7c574e",
   "metadata": {
    "id": "2e7c574e",
    "jp-MarkdownHeadingCollapsed": true,
    "tags": []
   },
   "source": [
    "### 2.1 Building the individual Pauli unitaries\n",
    "\n",
    "In this section we build ZZ(t), XX(t), and YY(t) operations using single- and two-qubit gates."
   ]
  },
  {
   "cell_type": "code",
   "execution_count": 7,
   "id": "6d790e43-7e59-40b3-9a3a-806e7df15b70",
   "metadata": {
    "id": "6d790e43-7e59-40b3-9a3a-806e7df15b70"
   },
   "outputs": [],
   "source": [
    "t = Parameter('t')"
   ]
  },
  {
   "cell_type": "code",
   "execution_count": 8,
   "id": "0c98587c-7d60-4e9e-9ccb-470381997673",
   "metadata": {
    "id": "0c98587c-7d60-4e9e-9ccb-470381997673",
    "outputId": "713940f9-563e-4ca8-985e-21af6687f874"
   },
   "outputs": [
    {
     "data": {
      "image/png": "[encoded data removed]",
      "text/plain": [
       "<Figure size 280.033x144.48 with 1 Axes>"
      ]
     },
     "execution_count": 8,
     "metadata": {},
     "output_type": "execute_result"
    }
   ],
   "source": [
    "# Build a subcircuit for ZZ(t) from single- and two-qubit gates\n",
    "\n",
    "ZZ_qr = QuantumRegister(2)\n",
    "ZZ_qc = QuantumCircuit(ZZ_qr, name='ZZ')\n",
    "\n",
    "ZZ_qc.cnot(0,1)\n",
    "ZZ_qc.rz(2 * t, 1)\n",
    "ZZ_qc.cnot(0,1)\n",
    "\n",
    "# Convert custom quantum circuit into a gate\n",
    "ZZ = ZZ_qc.to_instruction()\n",
    "\n",
    "ZZ_qc.draw(output='mpl')"
   ]
  },
  {
   "cell_type": "markdown",
   "id": "11c706da",
   "metadata": {
    "id": "11c706da",
    "jp-MarkdownHeadingCollapsed": true,
    "tags": []
   },
   "source": [
    "### 2.2 Clifford gates\n",
    "\n",
    "Clifford gates are quantum operators that map Pauli operators to other Pauli operators. The Hadamard gate ($H$) and the phase gate ($S$) are examples of single-qubit Clifford gates.\n",
    "\n",
    "$$H=\\frac{1}{\\sqrt{2}}\\begin{pmatrix} 1 & 1 \\\\1 & -1\\\\ \\end{pmatrix}$$\n",
    "\n",
    "$HZH^\\dagger=X$, and $HXH^\\dagger=Z$. Since the Hadamard gate is a Hermitian operator, $H=H^\\dagger$.\n",
    "\n",
    "$$S=\\begin{pmatrix} 1 & 0 \\\\0 & i\\\\ \\end{pmatrix}$$\n",
    "\n",
    "$SXS^\\dagger=Y$, and $SYS^\\dagger=-X$.\n",
    "\n",
    "Using the Clifford gates, we can transform the $e^{i ZZ t}$ to $e^{i XX t}$ and $e^{i YY t}$"
   ]
  },
  {
   "cell_type": "markdown",
   "id": "00ea5c84",
   "metadata": {
    "id": "00ea5c84",
    "jp-MarkdownHeadingCollapsed": true,
    "tags": []
   },
   "source": [
    "#### .\n",
    "<div class=\"alert alert-block alert-danger\">\n",
    "    \n",
    "<b>Challenge question 1a</b> \n",
    "\n",
    "Build a subcircuit for XX(t) from single- and two-qubit gates\n",
    "    \n",
    "</div>"
   ]
  },
  {
   "cell_type": "markdown",
   "id": "f640c94a-c8a9-4675-a91d-07e12b12aa1c",
   "metadata": {
    "id": "f640c94a-c8a9-4675-a91d-07e12b12aa1c",
    "jp-MarkdownHeadingCollapsed": true,
    "tags": []
   },
   "source": [
    "##### .\n",
    "<div class=\"alert alert-block alert-warning\">\n",
    "<b>Equations:</b> deriving the circuit for the XX(t) gate.\n",
    "</div>"
   ]
  },
  {
   "cell_type": "markdown",
   "id": "7e08e7df-6055-4169-907d-db244ba97a6a",
   "metadata": {
    "id": "7e08e7df-6055-4169-907d-db244ba97a6a"
   },
   "source": [
    "One should note that $e^{-itXX}$ is shorthand for $e^{-itX \\otimes X}.$ Also, recall from the spectral decomposition theorem for Normal matrices that any Normal operator $\\hat{O}$ in a Hilbert space $\\mathcal{H}$ of dimension $\\dim \\mathcal{H} =d$ is unitarily diagonalizable and has a spectral (eigenvalue) decomposition in terms of the outer product representation, and in the basis of its eigenvectors, of the form:\n",
    "\n",
    "$$ \\hat{O} = \\sum_{j=1}^{d}= o_j P_{o_j} = \\sum_{j=1}^{d} o_j |o_j \\rangle \\langle o_j|. \\tag{1} $$\n",
    "\n",
    "Where:\n",
    "\n",
    "- $o_j$ and $P_{o_j}$ are the corresponding eigenvalue and projector operator of the observable $\\hat{O}$, respectively. \n",
    "\n",
    "- $\\{o_j\\}|_{j=1}^d$ is a basis set of $d$ linearly independent orthonormal eigenvectors $|o_j\\rangle$ of $\\hat{O}$ with eigenvalue $o_j$.\n",
    "\n",
    "To see this is true, note that:\n",
    "\n",
    "$$ \\Bigg( \\sum_{j=1}^{d} o_j |o_j \\rangle \\langle o_j| \\Bigg) |o_k \\rangle =  \\sum_{j=1}^{d} o_j |o_j \\rangle \\delta_{jk}= o_k |o_k \\rangle = \\hat{O} |o_k \\rangle.$$\n",
    "\n",
    "Moving on... Since Pauli operators are all involutory operators, i.e, their eigenvalues are $o_j = \\pm 1$, one then has \n",
    "\n",
    "$$X = \\sum_{j=1}^{d} x_j |x_j \\rangle \\langle x_j| = |+\\rangle\\langle +|-|-\\rangle\\langle -|. \\tag{2}$$\n",
    "\n",
    "Where $$ |\\pm\\rangle \\equiv \\frac{1}{\\sqrt{2}}(|0\\rangle\\pm|1\\rangle) \\tag{3} $$ \n",
    "\n",
    "denotes the two orthonormal eigenstates (eigenvectors) of the Pauli $X$-gate according to:\n",
    "\n",
    "$$X |+\\rangle = \\frac{1}{\\sqrt{2}}(X|0\\rangle+X|1\\rangle)=\\frac{1}{\\sqrt{2}}(|1\\rangle+|0\\rangle)=|+\\rangle, \\tag{4}$$\n",
    "$$X |-\\rangle = \\frac{1}{\\sqrt{2}}(X|0\\rangle-X|1\\rangle) =\\frac{1}{\\sqrt{2}}(|1\\rangle-|0\\rangle)=-|-\\rangle. \\tag{5}$$\n",
    "\n",
    "With that, one has:\n",
    "\n",
    "\\begin{eqnarray}\n",
    "XX &\\equiv& X\\otimes X = (|+\\rangle\\langle +|-|-\\rangle\\langle -|)\\otimes(|+\\rangle\\langle +|-|-\\rangle\\langle -|) \\tag{6}\\\\\n",
    "&=& (|+\\rangle\\langle +|) \\otimes (|+\\rangle\\langle +|) - (|+\\rangle\\langle +|) \\otimes (|-\\rangle\\langle -|) - (|-\\rangle\\langle -|)\\otimes (|+\\rangle\\langle +|) + (|-\\rangle\\langle -|) \\otimes (|-\\rangle\\langle -|) \\tag{7} \\\\\n",
    "&=& (|++\\rangle\\langle ++|)+(|--\\rangle\\langle --|)-(|+-\\rangle\\langle +-|)+(|-+\\rangle\\langle -+|) \\tag{8} \\\\\n",
    "&\\implies & e^{-itX \\otimes X} = e^{-it}\\bigg(|++\\rangle\\langle ++|+|--\\rangle\\langle --|\\bigg)+e^{it}\\bigg(|+-\\rangle\\langle +-|+|-+\\rangle\\langle -+|\\bigg) \\tag{9}.\n",
    "\\end{eqnarray}\n",
    "\n",
    "- Eq. (7) was obtained from Eq. (6) using the distributive property:\n",
    "\n",
    "$$(|a\\rangle + |b\\rangle)\\otimes(|c\\rangle + |d\\rangle)=|a\\rangle \\otimes |c\\rangle + |a\\rangle \\otimes |d\\rangle + |b\\rangle \\otimes |c\\rangle + |b\\rangle \\otimes |d\\rangle. \\tag{10}$$\n",
    "\n",
    "- Eq. (8) was obtained from Eq. (7) using $(A\\otimes B)(C\\otimes D)=AC\\otimes BD$, or equivalently:\n",
    "\n",
    "$$|a\\rangle \\langle c| \\otimes |b\\rangle \\langle d|  = (|a\\rangle \\otimes |b\\rangle)(\\langle c| \\otimes \\langle d|) \\doteq |ab\\rangle\\langle cd|. \\tag{11}$$\n",
    "\n",
    "- Eq. (9) is left as an exercise (see the next cell for a motivation).\n",
    "\n",
    "Applying a Hadamard gate to change between the $X$ and $Z$ bases ($H|0\\rangle = R_y(\\pi/2)|0\\rangle = |+\\rangle$ and $H|1\\rangle = R_y(-\\pi/2)|0\\rangle = |-\\rangle$), yields\n",
    "\n",
    "\\begin{eqnarray}\n",
    "e^{-itX \\otimes X} &=& e^{-it}\\left[(H\\otimes H)|00\\rangle\\langle 00|(H\\otimes H)+(H\\otimes H)|11\\rangle\\langle 11|(H\\otimes H)\\right]+e^{it}\\left[(H\\otimes H)|01\\rangle\\langle 01|(H\\otimes H)+(H\\otimes H)|10\\rangle\\langle 10|(H\\otimes H)\\right] \\tag{12}\\\\\n",
    "& =& (H\\otimes H)\\left[e^{-it}(|00\\rangle\\langle 00|+|11\\rangle\\langle 11|)+e^{it}(|01\\rangle\\langle 01|+|10\\rangle\\langle 10|)\\right](H\\otimes H) \\tag{13}\\\\\n",
    "& =& (H\\otimes H)e^{-itZ\\otimes Z}(H\\otimes H) \\tag{14}\\\\\n",
    "& =& (H\\otimes H)C_{x}^{01}\\big(I\\otimes e^{-itZ}\\big)C_{x}^{01}(H\\otimes H) \\tag{15}\\\\\n",
    "&  =& (H\\otimes H)C_{x}^{01}\\big(I\\otimes RZ(2t)\\big)C_{x}^{01}(H\\otimes H). \\tag{16}\n",
    "\\end{eqnarray}"
   ]
  },
  {
   "cell_type": "markdown",
   "id": "e0a635c2-63ce-4218-8dcd-5c6ae373bee0",
   "metadata": {
    "id": "e0a635c2-63ce-4218-8dcd-5c6ae373bee0",
    "tags": []
   },
   "source": [
    "**Note**: *some steps have been omitted. I encourage the reader to verify them.*\n",
    "\n",
    "**Hint:** you can find some of the solutions in [this jupyter notebook](https://github.com/QuCAI-Lab/ibm2021-open-science-prize/blob/dev/supplementary.ipynb).\n",
    "\n",
    "\n",
    "Specifically, show that:\n",
    "\n",
    "\\begin{eqnarray}\n",
    "(|a\\rangle + |b\\rangle)\\otimes(|c\\rangle + |d\\rangle)&=&|a\\rangle \\otimes |c\\rangle + |a\\rangle \\otimes |d\\rangle + |b\\rangle \\otimes |c\\rangle + |b\\rangle \\otimes |d\\rangle, \\tag{17} \\\\\n",
    "(|a\\rangle \\langle c|) \\otimes (|b\\rangle \\langle d|)  &=& \\big(|a\\rangle \\otimes |b\\rangle\\big)\\big(\\langle c| \\otimes \\langle d|\\big), \\tag{18}\\\\\n",
    "|++\\rangle\\langle ++|&=&(H\\otimes H)|00\\rangle\\langle 00|(H\\otimes H), \\tag{19}\\\\\n",
    "|--\\rangle\\langle --|&=&(H\\otimes H)|11\\rangle\\langle 11|(H\\otimes H), \\tag{20}\\\\\n",
    "|+-\\rangle\\langle +-|&=&(H\\otimes H)|01\\rangle\\langle 01|(H\\otimes H), \\tag{21}\\\\\n",
    "|-+\\rangle\\langle -+|&=&(H\\otimes H)|10\\rangle\\langle 10|(H\\otimes H), \\tag{22}\\\\\n",
    "e^{-itZ\\otimes Z} &=& C_{x}^{01}\\big(I\\otimes e^{-itZ}\\big)C_{x}^{01}, \\tag{23}\\\\\n",
    "e^{-itZ} &=& RZ(2t) \\tag{24}.\n",
    "\\end{eqnarray}\n",
    "\n",
    "You can open a pool request to share your contribution. \n",
    "\n",
    "\n",
    "**Motivation:** To demonstrate Eq. (9), one should recall that if $\\hat{O}$ is a Hermitian or Unitary operator then it is also a Normal operator and, therefore, has a spectral decomposition in terms of the outer product representation in the form $\\hat{O} = \\sum_j o_j|o_j\\rangle \\langle o_j|$ according to the spectral decomposition theorem for Normal matrices. In this case, it is possible to write the operator function (matrix function) on a normal matrix as:\n",
    "\n",
    "$$f(\\hat{O})= \\sum_j f(o_j) |o_j\\rangle \\langle o_j|,$$\n",
    "\n",
    "which is equivalent to (writing $\\hat{O} = UDU^{\\dagger}$)\n",
    "\n",
    "\\begin{eqnarray}\n",
    "f(\\hat{O}) = Uf(D)U^{\\dagger}.\n",
    "\\end{eqnarray}\n",
    "\n",
    "\n",
    "For the exponential function over the field of the complex numbers, it becomes:\n",
    "\n",
    "$$ e^{i\\theta\\hat{O}} = \\sum_{j=1}^n e^{i\\theta o_j} |o_j\\rangle \\langle o_j| = e^{i\\theta o_1} |o_{1}\\rangle \\langle o_{1}| + \\cdots + e^{i\\theta o_n} |o_{n}\\rangle \\langle o_{n}|. \\tag{25}$$\n",
    "\n",
    "To see this is true, recall that the eigenvalues of a matrix are multiplied by a scalar when the matrix is multiplied by the same scalar, while the eigenvectors are left unchanged. One can extend this identity to a tensor product of Normal operators noting that `the tensor product of two Hermitian operators is another Hermitian operator`. With that, one should be able to obtain Eq. (9)."
   ]
  },
  {
   "cell_type": "markdown",
   "id": "29f36630-81bc-4b6f-9f3b-3bbdcddbf558",
   "metadata": {
    "id": "29f36630-81bc-4b6f-9f3b-3bbdcddbf558",
    "jp-MarkdownHeadingCollapsed": true,
    "tags": []
   },
   "source": [
    "##### .\n",
    "<div class=\"alert alert-block alert-info\">\n",
    "<b>Identities:</b> verifying some of the above identities using <b>NumPy</b>, <b>SymPy</b> and <b>Qiskit statevector</b>. \n",
    "</div>"
   ]
  },
  {
   "cell_type": "code",
   "execution_count": 8,
   "id": "db718ac6-3174-4d87-9771-5c1696fc6739",
   "metadata": {
    "id": "db718ac6-3174-4d87-9771-5c1696fc6739"
   },
   "outputs": [],
   "source": [
    "# Defining states and gates with NumPy:\n",
    "\n",
    "zero=np.array([[1,0]]) # row-like numpy array representing the state |0>.\n",
    "one=np.array([[0,1]])  # row-like numpy array representing the state |1>.\n",
    "\n",
    "zeros=np.kron(zero.T,zero.T)@np.kron(zero,zero) # Outer product |00><00|.\n",
    "ones=np.kron(one.T,one.T)@np.kron(one,one)      # Outer product |11><11|.\n",
    "zerone=np.kron(zero.T,one.T)@np.kron(zero,one)  # Outer product |01><01|.\n",
    "onezero=np.kron(one.T,zero.T)@np.kron(one,zero) # Outer product |10><10|.\n",
    "\n",
    "plus=1/(np.sqrt(2))*(zero+one)   # 1/[sqrt(2)](|0> + |1>).\n",
    "minus=1/(np.sqrt(2))*(zero-one)  # 1/[sqrt(2)](|0> - |1>).\n",
    "sigma1 = np.array([[0,1],[1,0]]) # Pauli-X gate.\n",
    "had = (1/np.sqrt(2))*np.array([[1,1],[1,-1]]) # Hadamard gate."
   ]
  },
  {
   "cell_type": "markdown",
   "id": "a8f39d7c-0407-4eaa-9b25-bec76cde9de9",
   "metadata": {
    "id": "a8f39d7c-0407-4eaa-9b25-bec76cde9de9"
   },
   "source": [
    "*Verifying Hermiticity* \n",
    "\n",
    "$X \\otimes X = (X \\otimes X)^{\\dagger}:$"
   ]
  },
  {
   "cell_type": "code",
   "execution_count": 9,
   "id": "1f333fca-210d-4f93-bb00-3dfbf8d85961",
   "metadata": {
    "id": "1f333fca-210d-4f93-bb00-3dfbf8d85961",
    "outputId": "faa647df-449d-47f8-90f7-6e065277da0c"
   },
   "outputs": [
    {
     "data": {
      "text/plain": [
       "True"
      ]
     },
     "execution_count": 9,
     "metadata": {},
     "output_type": "execute_result"
    }
   ],
   "source": [
    "(np.kron(sigma1, sigma1) == np.kron(sigma1, sigma1).conj().T).all() "
   ]
  },
  {
   "cell_type": "markdown",
   "id": "7fb2137d-da89-4235-b909-4e6c74a4a872",
   "metadata": {
    "id": "7fb2137d-da89-4235-b909-4e6c74a4a872"
   },
   "source": [
    "*Verifying Identity* \n",
    "\n",
    "$|++\\rangle\\langle ++|=(H\\otimes H)|00\\rangle\\langle 00|(H\\otimes H):$"
   ]
  },
  {
   "cell_type": "code",
   "execution_count": 10,
   "id": "49b77f90-ec76-41c7-bc21-e4bba83ec93b",
   "metadata": {
    "id": "49b77f90-ec76-41c7-bc21-e4bba83ec93b",
    "outputId": "21c85495-d79b-47c8-9479-aa805a613f26",
    "tags": []
   },
   "outputs": [
    {
     "data": {
      "text/plain": [
       "True"
      ]
     },
     "execution_count": 10,
     "metadata": {},
     "output_type": "execute_result"
    }
   ],
   "source": [
    "(np.kron(plus.T,plus.T)@np.kron(plus,plus) == (np.kron(had,had))@zeros@(np.kron(had,had))).all()"
   ]
  },
  {
   "cell_type": "markdown",
   "id": "ed3acf9f-8827-4f78-bb36-1b0572e8906a",
   "metadata": {
    "id": "ed3acf9f-8827-4f78-bb36-1b0572e8906a"
   },
   "source": [
    "*Verifying Identity* \n",
    "\n",
    "$|--\\rangle\\langle --|=(H\\otimes H)|11\\rangle\\langle 11|(H\\otimes H):$"
   ]
  },
  {
   "cell_type": "code",
   "execution_count": 11,
   "id": "b0f8f822-cb95-4de1-979b-09a329abf22d",
   "metadata": {
    "id": "b0f8f822-cb95-4de1-979b-09a329abf22d",
    "outputId": "03dbab85-7c36-4fef-96a4-ada32f402bf7"
   },
   "outputs": [
    {
     "data": {
      "text/plain": [
       "True"
      ]
     },
     "execution_count": 11,
     "metadata": {},
     "output_type": "execute_result"
    }
   ],
   "source": [
    "(np.kron(minus.T,minus.T)@np.kron(minus,minus) == (np.kron(had,had))@ones@(np.kron(had,had))).all()"
   ]
  },
  {
   "cell_type": "markdown",
   "id": "c880929d-a2dc-4c0d-848a-60f2d6619380",
   "metadata": {
    "id": "c880929d-a2dc-4c0d-848a-60f2d6619380"
   },
   "source": [
    "*Verifying Identity* \n",
    "\n",
    "$|+-\\rangle\\langle +-|=(H\\otimes H)|01\\rangle\\langle 01|(H\\otimes H):$"
   ]
  },
  {
   "cell_type": "code",
   "execution_count": 12,
   "id": "968ea01f-764d-4a2c-8b71-b8b949382e61",
   "metadata": {
    "id": "968ea01f-764d-4a2c-8b71-b8b949382e61",
    "outputId": "04a41a1e-8fc2-4e13-a736-920017b974c0"
   },
   "outputs": [
    {
     "data": {
      "text/plain": [
       "True"
      ]
     },
     "execution_count": 12,
     "metadata": {},
     "output_type": "execute_result"
    }
   ],
   "source": [
    "(np.kron(plus.T,minus.T)@np.kron(plus,minus) == (np.kron(had,had))@(zerone)@(np.kron(had,had))).all()"
   ]
  },
  {
   "cell_type": "markdown",
   "id": "48887a12-eceb-4ac8-bec6-1a5a435bd0c3",
   "metadata": {
    "id": "48887a12-eceb-4ac8-bec6-1a5a435bd0c3"
   },
   "source": [
    "*Verifying Identity* \n",
    "\n",
    "$|-+\\rangle\\langle -+|=(H\\otimes H)|10\\rangle\\langle 10|(H\\otimes H):$"
   ]
  },
  {
   "cell_type": "code",
   "execution_count": 13,
   "id": "0836f311-4593-45d1-8e67-7ad6b6c90693",
   "metadata": {
    "id": "0836f311-4593-45d1-8e67-7ad6b6c90693",
    "outputId": "9a7091c0-1225-47eb-d3d4-40f75cdb8556"
   },
   "outputs": [
    {
     "data": {
      "text/plain": [
       "True"
      ]
     },
     "execution_count": 13,
     "metadata": {},
     "output_type": "execute_result"
    }
   ],
   "source": [
    "(np.kron(minus.T,plus.T)@np.kron(minus,plus) == (np.kron(had,had))@(onezero)@(np.kron(had,had))).all()"
   ]
  },
  {
   "cell_type": "markdown",
   "id": "b7fab640-60fe-4291-ac17-51c11c156a5f",
   "metadata": {
    "id": "b7fab640-60fe-4291-ac17-51c11c156a5f"
   },
   "source": [
    "*Verifying Identity* \n",
    "\n",
    "$(|a\\rangle \\langle c|) \\otimes (|b\\rangle \\langle d|)  = \\big(|a\\rangle \\otimes |b\\rangle\\big)\\big(\\langle c| \\otimes \\langle d|\\big):$"
   ]
  },
  {
   "cell_type": "code",
   "execution_count": 14,
   "id": "db9f50b2-d246-42db-941f-6cc0bcdc9658",
   "metadata": {
    "id": "db9f50b2-d246-42db-941f-6cc0bcdc9658",
    "outputId": "0093663b-8bad-4d4c-fcec-b3bacb07f9f5"
   },
   "outputs": [
    {
     "data": {
      "text/plain": [
       "((2, 1), (2, 1), (1, 2), (1, 2))"
      ]
     },
     "execution_count": 14,
     "metadata": {},
     "output_type": "execute_result"
    }
   ],
   "source": [
    "# Using SymPy\n",
    "\n",
    "import sympy as sym\n",
    "a1,a2,b1,b2,c1,c2,d1,d2=sym.symbols('a1,a2,b1,b2,c1,c2,d1,d2')\n",
    "\n",
    "a=sym.Matrix([[a1,a2]]).T # This is a column vector.\n",
    "b=sym.Matrix([[b1,b2]]).T # This is a column vector.\n",
    "c=sym.Matrix([[c1,c2]]) # This is a row vector.\n",
    "d=sym.Matrix([[d1,d2]]) # This is a row vector.\n",
    "\n",
    "# Reading dimensions.\n",
    "a.shape, b.shape, c.shape, d.shape"
   ]
  },
  {
   "cell_type": "code",
   "execution_count": 15,
   "id": "e3e9db92-6676-43d4-b600-4a6676ff8b56",
   "metadata": {
    "id": "e3e9db92-6676-43d4-b600-4a6676ff8b56",
    "outputId": "bb592b86-477f-4294-b487-d47d42e483de"
   },
   "outputs": [
    {
     "data": {
      "text/plain": [
       "True"
      ]
     },
     "execution_count": 15,
     "metadata": {},
     "output_type": "execute_result"
    }
   ],
   "source": [
    "# Using outer product:\n",
    "\n",
    "(np.kron(np.outer(a,c),np.outer(b,d)) == (np.kron(a,b))@(np.kron(c,d))).all() "
   ]
  },
  {
   "cell_type": "code",
   "execution_count": 16,
   "id": "69e74c74-c08f-4cb3-b419-8f0a5b17db2e",
   "metadata": {
    "id": "69e74c74-c08f-4cb3-b419-8f0a5b17db2e",
    "outputId": "0a548df8-f4ea-4a39-bf4a-12acc89a6cd7"
   },
   "outputs": [
    {
     "data": {
      "text/plain": [
       "True"
      ]
     },
     "execution_count": 16,
     "metadata": {},
     "output_type": "execute_result"
    }
   ],
   "source": [
    "# Using @:\n",
    "\n",
    "(np.kron(a@c, b@d) == (np.kron(a,b))@(np.kron(c,d))).all() "
   ]
  },
  {
   "cell_type": "code",
   "execution_count": 17,
   "id": "a3412b1d-521e-4790-9fdc-f1929510d3f9",
   "metadata": {
    "id": "a3412b1d-521e-4790-9fdc-f1929510d3f9",
    "outputId": "f3e5639b-801e-4511-c6a3-19ca914bd43f"
   },
   "outputs": [
    {
     "data": {
      "text/plain": [
       "array([[a1*b1*c1*d1, a1*b1*c1*d2, a1*b1*c2*d1, a1*b1*c2*d2],\n",
       "       [a1*b2*c1*d1, a1*b2*c1*d2, a1*b2*c2*d1, a1*b2*c2*d2],\n",
       "       [a2*b1*c1*d1, a2*b1*c1*d2, a2*b1*c2*d1, a2*b1*c2*d2],\n",
       "       [a2*b2*c1*d1, a2*b2*c1*d2, a2*b2*c2*d1, a2*b2*c2*d2]], dtype=object)"
      ]
     },
     "execution_count": 17,
     "metadata": {},
     "output_type": "execute_result"
    }
   ],
   "source": [
    "# Visualizing the left side (using outer product).\n",
    "\n",
    "np.kron(np.outer(a,c),np.outer(b,d))"
   ]
  },
  {
   "cell_type": "code",
   "execution_count": 18,
   "id": "357f39c9-7e27-4361-ae0e-f534602ef056",
   "metadata": {
    "id": "357f39c9-7e27-4361-ae0e-f534602ef056",
    "outputId": "28796438-d670-4b87-8b93-cf5dd35bcafb"
   },
   "outputs": [
    {
     "data": {
      "text/plain": [
       "array([[a1*b1*c1*d1, a1*b1*c1*d2, a1*b1*c2*d1, a1*b1*c2*d2],\n",
       "       [a1*b2*c1*d1, a1*b2*c1*d2, a1*b2*c2*d1, a1*b2*c2*d2],\n",
       "       [a2*b1*c1*d1, a2*b1*c1*d2, a2*b1*c2*d1, a2*b1*c2*d2],\n",
       "       [a2*b2*c1*d1, a2*b2*c1*d2, a2*b2*c2*d1, a2*b2*c2*d2]], dtype=object)"
      ]
     },
     "execution_count": 18,
     "metadata": {},
     "output_type": "execute_result"
    }
   ],
   "source": [
    "# Visualizing the left side (using @).\n",
    "\n",
    "np.kron(a@c, b@d)"
   ]
  },
  {
   "cell_type": "code",
   "execution_count": 19,
   "id": "f5c08a0f-7932-498b-bf03-15b360a2a666",
   "metadata": {
    "id": "f5c08a0f-7932-498b-bf03-15b360a2a666",
    "outputId": "890fccc6-9fb3-4a26-f8e3-89ac9d1f2257"
   },
   "outputs": [
    {
     "data": {
      "text/plain": [
       "array([[a1*b1*c1*d1, a1*b1*c1*d2, a1*b1*c2*d1, a1*b1*c2*d2],\n",
       "       [a1*b2*c1*d1, a1*b2*c1*d2, a1*b2*c2*d1, a1*b2*c2*d2],\n",
       "       [a2*b1*c1*d1, a2*b1*c1*d2, a2*b1*c2*d1, a2*b1*c2*d2],\n",
       "       [a2*b2*c1*d1, a2*b2*c1*d2, a2*b2*c2*d1, a2*b2*c2*d2]], dtype=object)"
      ]
     },
     "execution_count": 19,
     "metadata": {},
     "output_type": "execute_result"
    }
   ],
   "source": [
    "# Visualizing the right side.\n",
    "\n",
    "(np.kron(a,b))@(np.kron(c,d))"
   ]
  },
  {
   "cell_type": "markdown",
   "id": "1e2d62d7-368d-41eb-b319-cbb80644d976",
   "metadata": {
    "id": "1e2d62d7-368d-41eb-b319-cbb80644d976"
   },
   "source": [
    "*Verifying Identity* \n",
    "\n",
    "$H|0\\rangle = R_y(\\pi/2)|0\\rangle = |+\\rangle:$\n",
    "\n",
    "Note that, in this case, there is no need to code numpy arrays as column vectors, but I will do it just for fun."
   ]
  },
  {
   "cell_type": "code",
   "execution_count": 20,
   "id": "828ed967-f2ec-4fd6-b196-86a275dd6fe1",
   "metadata": {
    "id": "828ed967-f2ec-4fd6-b196-86a275dd6fe1"
   },
   "outputs": [],
   "source": [
    "zero = np.array([[1,0]]).T # |0>.\n",
    "one = np.array([[0,1]]).T # |1>.\n",
    "\n",
    "def RY(theta):\n",
    "    '''\n",
    "    Function that defines the RX(theta) gate.\n",
    "    '''\n",
    "    RY = np.array([\n",
    "        [np.cos(theta/2),-np.sin(theta/2)],\n",
    "        [np.sin(theta/2), np.cos(theta/2)]\n",
    "                 ])\n",
    "    return RY\n",
    "\n",
    "ry_pi2 = RY(np.pi/2)\n",
    "ry_mpi2 = RY(-np.pi/2)"
   ]
  },
  {
   "cell_type": "code",
   "execution_count": 21,
   "id": "bc973b17-bc94-4dfd-a763-9dc0f63c3f66",
   "metadata": {
    "id": "bc973b17-bc94-4dfd-a763-9dc0f63c3f66",
    "outputId": "89369208-1778-4e6e-bd71-c951ab81bd1d"
   },
   "outputs": [
    {
     "data": {
      "text/plain": [
       "array([[0.70710678],\n",
       "       [0.70710678]])"
      ]
     },
     "execution_count": 21,
     "metadata": {},
     "output_type": "execute_result"
    }
   ],
   "source": [
    "had@zero # H|0>."
   ]
  },
  {
   "cell_type": "code",
   "execution_count": 22,
   "id": "b5b8e5db-6a2c-4658-8815-d8140b37e69f",
   "metadata": {
    "id": "b5b8e5db-6a2c-4658-8815-d8140b37e69f",
    "outputId": "8c3c8efc-1a1e-4153-e46d-8f8234e25f51"
   },
   "outputs": [
    {
     "data": {
      "text/plain": [
       "array([[0.70710678],\n",
       "       [0.70710678]])"
      ]
     },
     "execution_count": 22,
     "metadata": {},
     "output_type": "execute_result"
    }
   ],
   "source": [
    "ry_pi2@zero # RY(pi/2)|0>."
   ]
  },
  {
   "cell_type": "code",
   "execution_count": 23,
   "id": "7ebc9e46-7890-498c-adb7-637bc2d5572f",
   "metadata": {
    "id": "7ebc9e46-7890-498c-adb7-637bc2d5572f",
    "outputId": "b8da484f-9f3e-40f8-96ef-9b6f400a0ae3"
   },
   "outputs": [
    {
     "name": "stdout",
     "output_type": "stream",
     "text": [
      "    ┌───┐\n",
      "q1: ┤ H ├\n",
      "    └───┘\n",
      "Statevector([0.70710678+0.j, 0.70710678+0.j],\n",
      "            dims=(2,))\n"
     ]
    },
    {
     "data": {
      "image/png": "[encoded data removed]",
      "text/plain": [
       "<Figure size 206.852x84.28 with 1 Axes>"
      ]
     },
     "execution_count": 23,
     "metadata": {},
     "output_type": "execute_result"
    }
   ],
   "source": [
    "from qiskit import assemble\n",
    "sim = Aer.get_backend('aer_simulator')  # Define the simulator.\n",
    "\n",
    "qr = QuantumRegister(1)  # Define the number of qubits in the quantum circuit.\n",
    "qc = QuantumCircuit(qr)\n",
    "qc.h(0)  # Apply the Hadamard gate on qubit 0.\n",
    "print(qc)  # Print the circuit.\n",
    "qc.save_statevector()  # Save the statevector.\n",
    "qobj = assemble(qc)    # Create a Qobj from the circuit for the simulator to run.\n",
    "result = sim.run(qobj).result() # Run the simulation and return the result.\n",
    "out_state = result.get_statevector()\n",
    "print(out_state)  # Print the output statevector.\n",
    "\n",
    "qc.draw(output='mpl')  "
   ]
  },
  {
   "cell_type": "code",
   "execution_count": 24,
   "id": "f557213a-f3a8-41a9-acd1-24258ea4554f",
   "metadata": {
    "id": "f557213a-f3a8-41a9-acd1-24258ea4554f",
    "outputId": "19eb0d71-eda7-4a81-cf58-971146d431e4"
   },
   "outputs": [
    {
     "name": "stdout",
     "output_type": "stream",
     "text": [
      "    ┌─────────┐\n",
      "q2: ┤ Ry(π/2) ├\n",
      "    └─────────┘\n",
      "Statevector([0.70710678+0.j, 0.70710678+0.j],\n",
      "            dims=(2,))\n"
     ]
    },
    {
     "data": {
      "image/png": "[encoded data removed]",
      "text/plain": [
       "<Figure size 206.997x84.28 with 1 Axes>"
      ]
     },
     "execution_count": 24,
     "metadata": {},
     "output_type": "execute_result"
    }
   ],
   "source": [
    "qr = QuantumRegister(1)  # Define the number of qubits in the quantum circuit.\n",
    "qc = QuantumCircuit(qr)\n",
    "qc.ry(np.pi/2,0)  # Apply the RY(pi/2) gate on qubit 0.\n",
    "print(qc)  # Print the circuit.\n",
    "qc.save_statevector()  # Save the statevector.\n",
    "qobj = assemble(qc)    # Create a Qobj from the circuit for the simulator to run.\n",
    "result = sim.run(qobj).result() # Run the simulation and return the result.\n",
    "out_state = result.get_statevector()\n",
    "print(out_state)  # Print the output statevector.\n",
    "\n",
    "qc.draw(output='mpl')  "
   ]
  },
  {
   "cell_type": "markdown",
   "id": "ac2270ef-5017-465e-a63f-4e6a9f33b832",
   "metadata": {
    "id": "ac2270ef-5017-465e-a63f-4e6a9f33b832"
   },
   "source": [
    "*Verifying Identity* \n",
    "\n",
    "$H|1\\rangle = R_y(-\\pi/2)|0\\rangle = |-\\rangle:$"
   ]
  },
  {
   "cell_type": "code",
   "execution_count": 25,
   "id": "a371d192-84b8-4ed8-892f-e9267f113c4e",
   "metadata": {
    "id": "a371d192-84b8-4ed8-892f-e9267f113c4e",
    "outputId": "48e716a8-29ba-4fe5-94b9-a3c8ab27d171"
   },
   "outputs": [
    {
     "data": {
      "text/plain": [
       "array([[ 0.70710678],\n",
       "       [-0.70710678]])"
      ]
     },
     "execution_count": 25,
     "metadata": {},
     "output_type": "execute_result"
    }
   ],
   "source": [
    "had@one # H|1>."
   ]
  },
  {
   "cell_type": "code",
   "execution_count": 26,
   "id": "4f260424-df27-4595-8ac4-6f2a428e1bdb",
   "metadata": {
    "id": "4f260424-df27-4595-8ac4-6f2a428e1bdb",
    "outputId": "ecf3eb2f-4da0-477b-869b-2ecd78242e57"
   },
   "outputs": [
    {
     "data": {
      "text/plain": [
       "array([[ 0.70710678],\n",
       "       [-0.70710678]])"
      ]
     },
     "execution_count": 26,
     "metadata": {},
     "output_type": "execute_result"
    }
   ],
   "source": [
    "ry_mpi2@zero # RY(-pi/2)|0>."
   ]
  },
  {
   "cell_type": "code",
   "execution_count": 27,
   "id": "40ec91e6-5222-4645-a0fe-47f5e2d87b7d",
   "metadata": {
    "id": "40ec91e6-5222-4645-a0fe-47f5e2d87b7d",
    "outputId": "98120e57-0a25-49d4-b3df-6b16f0d50e72"
   },
   "outputs": [
    {
     "name": "stdout",
     "output_type": "stream",
     "text": [
      "    ┌───┐┌───┐\n",
      "q3: ┤ X ├┤ H ├\n",
      "    └───┘└───┘\n",
      "Statevector([ 0.70710678-8.65956056e-17j, -0.70710678+8.65956056e-17j],\n",
      "            dims=(2,))\n"
     ]
    },
    {
     "data": {
      "image/png": "[encoded data removed]",
      "text/plain": [
       "<Figure size 267.197x84.28 with 1 Axes>"
      ]
     },
     "execution_count": 27,
     "metadata": {},
     "output_type": "execute_result"
    }
   ],
   "source": [
    "qr = QuantumRegister(1)  # Define the number of qubits in the quantum circuit.\n",
    "qc = QuantumCircuit(qr)\n",
    "qc.x(0)  # Apply the Pauli-X gate on qubit 0.\n",
    "qc.h(0)  # Apply the Hadamard gate on qubit 0.\n",
    "print(qc)  # Print the circuit.\n",
    "qc.save_statevector()  # Save the statevector.\n",
    "qobj = assemble(qc)    # Create a Qobj from the circuit for the simulator to run.\n",
    "result = sim.run(qobj).result() # Run the simulation and return the result.\n",
    "out_state = result.get_statevector()\n",
    "print(out_state)  # Print the output statevector.\n",
    "\n",
    "qc.draw(output='mpl')  "
   ]
  },
  {
   "cell_type": "code",
   "execution_count": 28,
   "id": "564cf597-c276-4c1e-9f40-073a73bf3964",
   "metadata": {
    "id": "564cf597-c276-4c1e-9f40-073a73bf3964",
    "outputId": "07e25831-24bc-40c7-9962-8694125ffe7c"
   },
   "outputs": [
    {
     "name": "stdout",
     "output_type": "stream",
     "text": [
      "    ┌──────────┐\n",
      "q4: ┤ Ry(-π/2) ├\n",
      "    └──────────┘\n",
      "Statevector([ 0.70710678+0.j, -0.70710678+0.j],\n",
      "            dims=(2,))\n"
     ]
    },
    {
     "data": {
      "image/png": "[encoded data removed]",
      "text/plain": [
       "<Figure size 206.997x84.28 with 1 Axes>"
      ]
     },
     "execution_count": 28,
     "metadata": {},
     "output_type": "execute_result"
    }
   ],
   "source": [
    "qr = QuantumRegister(1)  # Define the number of qubits in the quantum circuit.\n",
    "qc = QuantumCircuit(qr)\n",
    "qc.ry(-np.pi/2,0)  # Apply the RY(-pi/2) gate on qubit 0.\n",
    "print(qc)  # Print the circuit.\n",
    "qc.save_statevector()  # Save the statevector.\n",
    "qobj = assemble(qc)    # Create a Qobj from the circuit for the simulator to run.\n",
    "result = sim.run(qobj).result() # Run the simulation and return the result.\n",
    "out_state = result.get_statevector()\n",
    "print(out_state)  # Print the output statevector.\n",
    "\n",
    "qc.draw(output='mpl')  "
   ]
  },
  {
   "cell_type": "markdown",
   "id": "943d24d1-0b75-4e88-8de3-833832b17b63",
   "metadata": {
    "id": "943d24d1-0b75-4e88-8de3-833832b17b63",
    "jp-MarkdownHeadingCollapsed": true,
    "tags": []
   },
   "source": [
    "##### .\n",
    "\n",
    "<div class=\"alert alert-block alert-success\">\n",
    "<b>Solution:</b> let's implement the obtained $XX(t)$ gate in qiskit.\n",
    "</div>"
   ]
  },
  {
   "cell_type": "code",
   "execution_count": 29,
   "id": "c08bcedb-6a0b-4141-810b-e5e4ab75b6c4",
   "metadata": {
    "id": "c08bcedb-6a0b-4141-810b-e5e4ab75b6c4",
    "outputId": "deb687d8-5772-4124-ffca-b93e2672fff2"
   },
   "outputs": [
    {
     "data": {
      "image/png": "[encoded data removed]",
      "text/plain": [
       "<Figure size 280.323x144.48 with 1 Axes>"
      ]
     },
     "execution_count": 29,
     "metadata": {},
     "output_type": "execute_result"
    }
   ],
   "source": [
    "XX_qr = QuantumRegister(2)\n",
    "XX_qc = QuantumCircuit(XX_qr, name='XX')\n",
    "\n",
    "###EDIT CODE BELOW (add Clifford operator)\n",
    "XX_qc.h([0,1])\n",
    "###DO NOT EDIT BELOW\n",
    "\n",
    "XX_qc.append(ZZ, [0,1])\n",
    "\n",
    "###EDIT CODE BELOW (add Clifford operator)\n",
    "XX_qc.h([0,1])\n",
    "###DO NOT EDIT BELOW\n",
    "\n",
    "# Convert custom quantum circuit into a gate\n",
    "XX = XX_qc.to_instruction()\n",
    "\n",
    "XX_qc.draw(output='mpl')"
   ]
  },
  {
   "cell_type": "code",
   "execution_count": null,
   "id": "915c22d7-89f3-4099-9acd-fe6f8721eb9f",
   "metadata": {
    "id": "915c22d7-89f3-4099-9acd-fe6f8721eb9f",
    "outputId": "cb9cc74f-7893-4808-e22c-99bc4cba8775"
   },
   "outputs": [
    {
     "name": "stdout",
     "output_type": "stream",
     "text": [
      "Submitting your answer. Please wait...\n",
      "Congratulations 🎉! Your answer is correct and has been submitted.\n"
     ]
    }
   ],
   "source": [
    "## Grade and submit your solution\n",
    "from qc_grader.challenges.spring_2022 import grade_ex1a\n",
    "\n",
    "grade_ex1a(XX_qc)"
   ]
  },
  {
   "cell_type": "markdown",
   "id": "23d9093d",
   "metadata": {
    "id": "23d9093d",
    "jp-MarkdownHeadingCollapsed": true,
    "tags": []
   },
   "source": [
    "#### .\n",
    "<div class=\"alert alert-block alert-danger\">\n",
    "    \n",
    "<b>Challenge question 1b</b> \n",
    "\n",
    "Build a subcircuit for YY(t) from single- and two-qubit gates\n",
    "    \n",
    "</div>"
   ]
  },
  {
   "cell_type": "markdown",
   "id": "e8e7e781-9bca-4a00-acc0-d920b7bf3161",
   "metadata": {
    "id": "e8e7e781-9bca-4a00-acc0-d920b7bf3161",
    "jp-MarkdownHeadingCollapsed": true,
    "tags": []
   },
   "source": [
    "##### .\n",
    "<div class=\"alert alert-block alert-warning\">\n",
    "<b>Equations:</b> deriving the circuit for the YY(t) gate.\n",
    "</div>"
   ]
  },
  {
   "cell_type": "markdown",
   "id": "8391ff44-f7df-4a49-a719-1f70fff7557a",
   "metadata": {
    "id": "8391ff44-f7df-4a49-a719-1f70fff7557a"
   },
   "source": [
    "One should note that $e^{-itYY}$ is shorthand for $e^{-itY \\otimes Y}$. Following the same thought process as before, one writes the Pauli operator $Y$ in the basis of its eigenvectors:\n",
    "\n",
    "$$Y=|\\oplus\\rangle\\langle \\oplus|-|\\ominus\\rangle\\langle \\ominus|,$$\n",
    "\n",
    "where\n",
    "\n",
    "$$|+y\\rangle \\equiv |\\oplus\\rangle = \\frac{1}{\\sqrt{2}}(|0\\rangle+i|1\\rangle) \\text{ and } |-y\\rangle \\equiv |\\ominus\\rangle = \\frac{1}{\\sqrt{2}}(|0\\rangle-i|1\\rangle).$$\n",
    "\n",
    "Therefore,\n",
    "\n",
    "\\begin{eqnarray}\n",
    "YY &\\equiv& Y \\otimes Y = (|\\oplus\\oplus\\rangle\\langle \\oplus\\oplus|+|\\ominus\\ominus\\rangle\\langle \\ominus\\ominus|)-(|\\oplus\\ominus\\rangle\\langle \\oplus\\ominus|+|\\ominus\\oplus\\rangle\\langle \\ominus\\oplus|) \\\\\n",
    "&\\implies& e^{-itY\\otimes Y} = e^{-it}(|\\oplus\\oplus\\rangle\\langle \\oplus\\oplus|+|\\ominus\\ominus\\rangle\\langle \\ominus\\ominus|) + e^{it}(|\\oplus\\ominus\\rangle\\langle \\oplus\\ominus|+|\\ominus\\oplus\\rangle\\langle \\ominus\\oplus|).\n",
    "\\end{eqnarray}\n",
    "\n",
    "The next step is to apply a basis change, as follows:\n",
    "\n",
    "$$|\\oplus\\rangle = SH|0\\rangle = R_x(-\\pi/2)|0\\rangle  \\text{ and }  |\\ominus\\rangle = SH|1\\rangle = R_x(\\pi/2)|0\\rangle,$$\n",
    "\n",
    "such that\n",
    "\n",
    "\\begin{align}\n",
    "e^{-itY\\otimes Y} & = (S\\otimes S)(H\\otimes H)\\Big(e^{-it}(|00\\rangle\\langle 00|+|11\\rangle\\langle 11|)+e^{it}(|01\\rangle\\langle 01|+|10\\rangle\\langle 10|)\\Big)(H\\otimes H)(S^{\\dagger}\\otimes S^{\\dagger}) \\\\\n",
    "& = (S\\otimes S)(H\\otimes H)e^{-itZ \\otimes Z}(H\\otimes H)(S^{\\dagger}\\otimes S^{\\dagger}) \\\\\n",
    "& = (S\\otimes S)e^{-itX\\otimes X}(S^{\\dagger}\\otimes S^{\\dagger}) \\\\\n",
    "& = (S\\otimes S)(H\\otimes H)C_{x}^{01}\\big(I\\otimes e^{-itZ}\\big)C_{x}^{01}(H\\otimes H)(S^{\\dagger}\\otimes S^{\\dagger}) \\\\\n",
    "& = (S\\otimes S)(H\\otimes H)C_{x}^{01}\\big(I\\otimes RZ(2t)\\big)C_{x}^{01}(H\\otimes H)(S^{\\dagger}\\otimes S^{\\dagger}).\n",
    "\\end{align}"
   ]
  },
  {
   "cell_type": "markdown",
   "id": "fa91a2de-987d-4375-b0ae-bbd90a8ff13b",
   "metadata": {
    "id": "fa91a2de-987d-4375-b0ae-bbd90a8ff13b",
    "jp-MarkdownHeadingCollapsed": true,
    "tags": []
   },
   "source": [
    "##### .\n",
    "<div class=\"alert alert-block alert-info\">\n",
    "<b>Identities:</b> verifying some of the above gate identities with <b>NumPy</b> and <b>Qiskit statevector</b>. \n",
    "</div>"
   ]
  },
  {
   "cell_type": "markdown",
   "id": "7a08e005-68b0-41d4-a630-fa041d05f0ee",
   "metadata": {
    "id": "7a08e005-68b0-41d4-a630-fa041d05f0ee",
    "tags": []
   },
   "source": [
    "*Verifying Identity* \n",
    "\n",
    "$SH|0\\rangle = R_x(-\\pi/2)|0\\rangle = |\\oplus\\rangle:$\n",
    "\n",
    "Note: this time I will represent ket vectors |0> and |1> using ordinary numpy arrays."
   ]
  },
  {
   "cell_type": "code",
   "execution_count": 30,
   "id": "63b8905f-d668-4bd6-99c7-6cd76611ed72",
   "metadata": {
    "id": "63b8905f-d668-4bd6-99c7-6cd76611ed72"
   },
   "outputs": [],
   "source": [
    "zero = np.array([1,0]) # NumPy array representing the state |0>.\n",
    "one = np.array([0,1]) # NumPy array representing the state |1>.\n",
    "s =  np.array([[1,0],[0,1j]]) #  Phase gate S a.k.a P gate (square-root of Pauli-Z).\n",
    "\n",
    "def RX(theta):\n",
    "    '''\n",
    "    Function that defines the RX(theta) gate.\n",
    "    '''\n",
    "    RX = np.array([\n",
    "        [np.cos(theta/2),-1j*np.sin(theta/2)],\n",
    "        [-1j*np.sin(theta/2), np.cos(theta/2)]\n",
    "                 ])\n",
    "    return RX\n",
    "\n",
    "rx_pi2 = RX(np.pi/2)\n",
    "rx_mpi2 = RX(-np.pi/2)"
   ]
  },
  {
   "cell_type": "code",
   "execution_count": 31,
   "id": "0e323e9f-f740-4fee-8598-408e43ddfa24",
   "metadata": {
    "id": "0e323e9f-f740-4fee-8598-408e43ddfa24",
    "outputId": "b14faa51-0fad-4ba8-e9c9-8d38055ed531"
   },
   "outputs": [
    {
     "data": {
      "text/plain": [
       "array([0.70710678+0.j        , 0.        +0.70710678j])"
      ]
     },
     "execution_count": 31,
     "metadata": {},
     "output_type": "execute_result"
    }
   ],
   "source": [
    "(s@had)@zero # SH|0>."
   ]
  },
  {
   "cell_type": "code",
   "execution_count": 32,
   "id": "16e5fb7d-33bb-4d80-8f3b-ccac30ccb5b8",
   "metadata": {
    "id": "16e5fb7d-33bb-4d80-8f3b-ccac30ccb5b8",
    "outputId": "b5b88bf7-0659-464c-e73d-562bbbd04c07"
   },
   "outputs": [
    {
     "data": {
      "text/plain": [
       "array([0.70710678+0.j        , 0.        +0.70710678j])"
      ]
     },
     "execution_count": 32,
     "metadata": {},
     "output_type": "execute_result"
    }
   ],
   "source": [
    "rx_mpi2@zero # RX(-pi/2)|0>."
   ]
  },
  {
   "cell_type": "code",
   "execution_count": 33,
   "id": "3fb627d7-6962-4861-84f2-c55777fde7c2",
   "metadata": {
    "id": "3fb627d7-6962-4861-84f2-c55777fde7c2",
    "outputId": "2078e0dc-8c1f-4125-b2c5-c5cc15f7f670"
   },
   "outputs": [
    {
     "name": "stdout",
     "output_type": "stream",
     "text": [
      "    ┌───┐┌───┐\n",
      "q6: ┤ H ├┤ S ├\n",
      "    └───┘└───┘\n",
      "Statevector([0.70710678+0.j        , 0.        +0.70710678j],\n",
      "            dims=(2,))\n"
     ]
    },
    {
     "data": {
      "image/png": "[encoded data removed]",
      "text/plain": [
       "<Figure size 267.052x84.28 with 1 Axes>"
      ]
     },
     "execution_count": 33,
     "metadata": {},
     "output_type": "execute_result"
    }
   ],
   "source": [
    "qr = QuantumRegister(1)  # Define the number of qubits in the quantum circuit.\n",
    "qc = QuantumCircuit(qr)\n",
    "qc.h(0)  # Apply the Hadamard gate on qubit 0.\n",
    "qc.s(0)  # Apply the S gate on qubit 0.\n",
    "print(qc)  # Print the circuit.\n",
    "qc.save_statevector()  # Save the statevector.\n",
    "qobj = assemble(qc)    # Create a Qobj from the circuit for the simulator to run.\n",
    "result = sim.run(qobj).result() # Run the simulation and return the result.\n",
    "out_state = result.get_statevector()\n",
    "print(out_state)  # Print the output statevector.\n",
    "\n",
    "qc.draw(output='mpl')  "
   ]
  },
  {
   "cell_type": "code",
   "execution_count": 34,
   "id": "4b84a2bd-b6ae-4101-a1cc-2b4eb28ed030",
   "metadata": {
    "id": "4b84a2bd-b6ae-4101-a1cc-2b4eb28ed030",
    "outputId": "d61ad9e5-8155-4994-cc0c-99bf982c24d1"
   },
   "outputs": [
    {
     "name": "stdout",
     "output_type": "stream",
     "text": [
      "    ┌──────────┐\n",
      "q7: ┤ Rx(-π/2) ├\n",
      "    └──────────┘\n",
      "Statevector([0.70710678+0.j        , 0.        +0.70710678j],\n",
      "            dims=(2,))\n"
     ]
    },
    {
     "data": {
      "image/png": "[encoded data removed]",
      "text/plain": [
       "<Figure size 206.997x84.28 with 1 Axes>"
      ]
     },
     "execution_count": 34,
     "metadata": {},
     "output_type": "execute_result"
    }
   ],
   "source": [
    "qr = QuantumRegister(1)  # Define the number of qubits in the quantum circuit.\n",
    "qc = QuantumCircuit(qr)\n",
    "qc.rx(-np.pi/2,0)  # Apply the RX(-pi/2) gate on qubit 0.\n",
    "print(qc)  # Print the circuit.\n",
    "qc.save_statevector()  # Save the statevector.\n",
    "qobj = assemble(qc)    # Create a Qobj from the circuit for the simulator to run.\n",
    "result = sim.run(qobj).result() # Run the simulation and return the result.\n",
    "out_state = result.get_statevector()\n",
    "print(out_state)  # Print the output statevector.\n",
    "\n",
    "qc.draw(output='mpl')  "
   ]
  },
  {
   "cell_type": "markdown",
   "id": "8a2c441a-59c5-45e3-84dd-e71e8f194bab",
   "metadata": {
    "id": "8a2c441a-59c5-45e3-84dd-e71e8f194bab"
   },
   "source": [
    "*Verifying Identity* \n",
    "\n",
    "$SH|1\\rangle = R_x(\\pi/2)|0\\rangle = |\\ominus\\rangle:$"
   ]
  },
  {
   "cell_type": "code",
   "execution_count": 35,
   "id": "2487853c-db3e-4fe0-a716-c92a6ff2ad47",
   "metadata": {
    "id": "2487853c-db3e-4fe0-a716-c92a6ff2ad47",
    "outputId": "b19a00cf-58e3-4ec0-fc0f-6b0f9e5365cc"
   },
   "outputs": [
    {
     "data": {
      "text/plain": [
       "array([0.70710678+0.j        , 0.        -0.70710678j])"
      ]
     },
     "execution_count": 35,
     "metadata": {},
     "output_type": "execute_result"
    }
   ],
   "source": [
    "(s@had)@one # SH|1>."
   ]
  },
  {
   "cell_type": "code",
   "execution_count": 36,
   "id": "5b4bc746-a109-45d0-8eb3-56c9e70bd200",
   "metadata": {
    "id": "5b4bc746-a109-45d0-8eb3-56c9e70bd200",
    "outputId": "76c156b4-5050-43c8-d37a-552b2a3345c2"
   },
   "outputs": [
    {
     "data": {
      "text/plain": [
       "array([0.70710678+0.j        , 0.        -0.70710678j])"
      ]
     },
     "execution_count": 36,
     "metadata": {},
     "output_type": "execute_result"
    }
   ],
   "source": [
    "rx_pi2@zero # RX(pi/2)|0>."
   ]
  },
  {
   "cell_type": "code",
   "execution_count": 37,
   "id": "743bb143-7a47-4de0-9e61-954936bca600",
   "metadata": {
    "id": "743bb143-7a47-4de0-9e61-954936bca600",
    "outputId": "21d24ace-c954-4106-a686-4371c0d25485"
   },
   "outputs": [
    {
     "name": "stdout",
     "output_type": "stream",
     "text": [
      "    ┌───┐┌───┐┌───┐\n",
      "q8: ┤ X ├┤ H ├┤ S ├\n",
      "    └───┘└───┘└───┘\n",
      "Statevector([ 7.07106781e-01-8.65956056e-17j,\n",
      "             -8.65956056e-17-7.07106781e-01j],\n",
      "            dims=(2,))\n"
     ]
    },
    {
     "data": {
      "image/png": "[encoded data removed]",
      "text/plain": [
       "<Figure size 327.252x84.28 with 1 Axes>"
      ]
     },
     "execution_count": 37,
     "metadata": {},
     "output_type": "execute_result"
    }
   ],
   "source": [
    "qr = QuantumRegister(1)  # Define the number of qubits in the quantum circuit.\n",
    "qc = QuantumCircuit(qr)\n",
    "qc.x(0)  # Apply the Pauli-X gate on qubit 0.\n",
    "qc.h(0)  # Apply the Hadamard gate on qubit 0.\n",
    "qc.s(0)  # Apply the S gate on qubit 0.\n",
    "print(qc)  # Print the circuit.\n",
    "qc.save_statevector()  # Save the statevector.\n",
    "qobj = assemble(qc)    # Create a Qobj from the circuit for the simulator to run.\n",
    "result = sim.run(qobj).result() # Run the simulation and return the result.\n",
    "out_state = result.get_statevector()\n",
    "print(out_state)  # Print the output statevector.\n",
    "\n",
    "qc.draw(output='mpl') "
   ]
  },
  {
   "cell_type": "code",
   "execution_count": 38,
   "id": "c924499f-7c19-4c97-bb05-cf93794148a8",
   "metadata": {
    "id": "c924499f-7c19-4c97-bb05-cf93794148a8",
    "outputId": "ffc93011-1cab-4094-931f-79785b73131f"
   },
   "outputs": [
    {
     "name": "stdout",
     "output_type": "stream",
     "text": [
      "    ┌─────────┐\n",
      "q9: ┤ Rx(π/2) ├\n",
      "    └─────────┘\n",
      "Statevector([0.70710678+0.j        , 0.        -0.70710678j],\n",
      "            dims=(2,))\n"
     ]
    },
    {
     "data": {
      "image/png": "[encoded data removed]",
      "text/plain": [
       "<Figure size 206.997x84.28 with 1 Axes>"
      ]
     },
     "execution_count": 38,
     "metadata": {},
     "output_type": "execute_result"
    }
   ],
   "source": [
    "qr = QuantumRegister(1)  # Define the number of qubits in the quantum circuit.\n",
    "qc = QuantumCircuit(qr)\n",
    "qc.rx(np.pi/2,0)  # Apply the RX(-pi/2) gate on qubit 0.\n",
    "print(qc)  # Print the circuit.\n",
    "qc.save_statevector()  # Save the statevector.\n",
    "qobj = assemble(qc)    # Create a Qobj from the circuit for the simulator to run.\n",
    "result = sim.run(qobj).result() # Run the simulation and return the result.\n",
    "out_state = result.get_statevector()\n",
    "print(out_state)  # Print the output statevector.\n",
    "\n",
    "qc.draw(output='mpl')  "
   ]
  },
  {
   "cell_type": "markdown",
   "id": "08e531e5-326c-4b9b-b7cf-f4c31dbd73f6",
   "metadata": {
    "id": "08e531e5-326c-4b9b-b7cf-f4c31dbd73f6",
    "jp-MarkdownHeadingCollapsed": true,
    "tags": []
   },
   "source": [
    "##### .\n",
    "<div class=\"alert alert-block alert-success\">\n",
    "<b>Solution:</b> let's implement the obtained $YY(t)$ gate in qiskit.\n",
    "</div>"
   ]
  },
  {
   "cell_type": "code",
   "execution_count": 39,
   "id": "cc04f46e-da32-423e-8f0a-58ac9d6a526e",
   "metadata": {
    "id": "cc04f46e-da32-423e-8f0a-58ac9d6a526e",
    "outputId": "e315c643-fa08-4461-872a-7bec72271c69"
   },
   "outputs": [
    {
     "data": {
      "image/png": "[encoded data removed]",
      "text/plain": [
       "<Figure size 413.559x144.48 with 1 Axes>"
      ]
     },
     "execution_count": 39,
     "metadata": {},
     "output_type": "execute_result"
    }
   ],
   "source": [
    "\n",
    "YY_qr = QuantumRegister(2)\n",
    "YY_qc = QuantumCircuit(YY_qr, name='YY')\n",
    "\n",
    "###EDIT CODE BELOW (add Clifford operator)\n",
    "YY_qc.sdg([0,1])\n",
    "YY_qc.h([0,1])\n",
    "\n",
    "###DO NOT EDIT BELOW\n",
    "\n",
    "YY_qc.append(ZZ, [0,1])\n",
    "\n",
    "###EDIT CODE BELOW (add Clifford operator)\n",
    "YY_qc.h([0,1])\n",
    "YY_qc.s([0,1])\n",
    "\n",
    "###DO NOT EDIT BELOW\n",
    "\n",
    "# Convert custom quantum circuit into a gate\n",
    "YY = YY_qc.to_instruction()\n",
    "\n",
    "YY_qc.draw(output='mpl')"
   ]
  },
  {
   "cell_type": "code",
   "execution_count": null,
   "id": "1862a53a-221a-4b41-8cc7-8ceb90e8ae3d",
   "metadata": {
    "id": "1862a53a-221a-4b41-8cc7-8ceb90e8ae3d",
    "outputId": "99538005-dae2-4cbc-d947-d81cf6d2f9d7"
   },
   "outputs": [
    {
     "name": "stdout",
     "output_type": "stream",
     "text": [
      "Submitting your answer. Please wait...\n",
      "Congratulations 🎉! Your answer is correct and has been submitted.\n"
     ]
    }
   ],
   "source": [
    "## Grade and submit your solution\n",
    "from qc_grader.challenges.spring_2022 import grade_ex1b\n",
    "\n",
    "grade_ex1b(YY_qc)"
   ]
  },
  {
   "cell_type": "markdown",
   "id": "1b5382b9",
   "metadata": {
    "id": "1b5382b9",
    "jp-MarkdownHeadingCollapsed": true,
    "tags": []
   },
   "source": [
    "### 2.3 Building the trotterizated circuit\n",
    "\n",
    "$X_iX_j$ and $Y_iY_j$ operators commute:\n",
    "\n",
    "$$[X_iX_j, Y_iY_j]= X_iX_j.Y_iY_j - Y_iY_j.X_iX_j = Z_iZ_j-(-Z_i)(-Z_j)=0.$$\n",
    "\n",
    "Therefore, we can decompose $e^{i t (X_iX_j + Y_iY_j)}$ as $e^{i t X_iX_j} e^{i t Y_iY_j}$. Furthermore, if $i\\neq j \\neq k \\neq l$ then $[X_iX_j,X_kX_l]=0$. Based on this, we can decompose each trotterized evolution time step to two blocks:\n",
    "\n",
    "$$U(\\Delta t) \\approx \\Big(\\prod_{i \\in \\rm{odd}} e^{-i \\Delta t X_iX_{i+1}} e^{-i \\Delta t Y_iY_{i+1}} \\Big)  \\Big(\\prod_{i \\in \\rm{even}} e^{-i \\Delta t X_iX_{i+1}} e^{-i \\Delta t Y_iY_{i+1}} \\Big)$$"
   ]
  },
  {
   "cell_type": "markdown",
   "id": "e2c65504-7c8c-4046-98c9-f2df5414b140",
   "metadata": {
    "id": "e2c65504-7c8c-4046-98c9-f2df5414b140"
   },
   "source": [
    "<div class=\"alert alert-block alert-info\">\n",
    "<b>Note:</b> it is important to note that\n",
    "$$e^{itX\\otimes X\\otimes I}e^{itI\\otimes Y\\otimes Y} \\ne e^{itI\\otimes Y\\otimes Y}e^{itX\\otimes X\\otimes I}.$$\n",
    "</div>"
   ]
  },
  {
   "cell_type": "code",
   "execution_count": 40,
   "id": "85d24eb2-2a44-45cb-b5ab-70c46890a3fd",
   "metadata": {
    "id": "85d24eb2-2a44-45cb-b5ab-70c46890a3fd",
    "outputId": "567f0c17-3968-4307-f5bc-4c10e2b916aa"
   },
   "outputs": [
    {
     "data": {
      "image/png": "[encoded data removed]",
      "text/plain": [
       "<Figure size 353.649x204.68 with 1 Axes>"
      ]
     },
     "execution_count": 40,
     "metadata": {},
     "output_type": "execute_result"
    }
   ],
   "source": [
    "num_qubits = 3\n",
    "\n",
    "Trot_qr = QuantumRegister(num_qubits)\n",
    "Trot_qc = QuantumCircuit(Trot_qr, name='Trot')\n",
    "\n",
    "for i in range(0, num_qubits - 1):\n",
    "    Trot_qc.append(YY, [Trot_qr[i], Trot_qr[i+1]])\n",
    "    Trot_qc.append(XX, [Trot_qr[i], Trot_qr[i+1]])\n",
    "\n",
    "# Convert custom quantum circuit into a gate\n",
    "Trot_gate = Trot_qc.to_instruction()\n",
    "\n",
    "Trot_qc.draw(output='mpl')"
   ]
  },
  {
   "cell_type": "code",
   "execution_count": 41,
   "id": "2d811e9d-bebb-4890-ac6e-fe4f09acd8d6",
   "metadata": {
    "id": "2d811e9d-bebb-4890-ac6e-fe4f09acd8d6",
    "outputId": "6d93cd42-6409-4490-b1e4-f8281e0417d5"
   },
   "outputs": [
    {
     "data": {
      "image/png": "[encoded data removed]",
      "text/plain": [
       "<Figure size 1076.05x204.68 with 1 Axes>"
      ]
     },
     "execution_count": 41,
     "metadata": {},
     "output_type": "execute_result"
    }
   ],
   "source": [
    "Trot_qc.decompose().draw(output='mpl')"
   ]
  },
  {
   "cell_type": "markdown",
   "id": "896a2f87",
   "metadata": {
    "id": "896a2f87",
    "jp-MarkdownHeadingCollapsed": true,
    "tags": []
   },
   "source": [
    "#### .\n",
    "<div class=\"alert alert-block alert-danger\">\n",
    "    \n",
    "<b>Challenge question 1c</b> \n",
    "\n",
    "Create the trotterized circuit and output the unitary associated with the circuit\n",
    "    \n",
    "</div>"
   ]
  },
  {
   "cell_type": "markdown",
   "id": "56c14cb2-2832-48f3-a049-342e1880839d",
   "metadata": {
    "id": "56c14cb2-2832-48f3-a049-342e1880839d",
    "jp-MarkdownHeadingCollapsed": true,
    "tags": []
   },
   "source": [
    "##### .\n",
    "<div class=\"alert alert-block alert-info\">\n",
    "<b>Tip:</b> for this solution, there is no need to prepare the circuit in the initial state $|100\\rangle$. \n",
    "    \n",
    "<b>Digression:</b> just for curiosity, let's see how to create and verify a circuit that prepares the initial state $|100\\rangle$ using qiskit.\n",
    "</div>"
   ]
  },
  {
   "cell_type": "code",
   "execution_count": 60,
   "id": "74bbf418-933b-4985-b91d-61a29bb3fa7a",
   "metadata": {
    "id": "74bbf418-933b-4985-b91d-61a29bb3fa7a",
    "outputId": "036095b2-863a-4665-a549-fc96dd7ea206"
   },
   "outputs": [
    {
     "name": "stdout",
     "output_type": "stream",
     "text": [
      "            \n",
      "q65_0: ─────\n",
      "            \n",
      "q65_1: ─────\n",
      "       ┌───┐\n",
      "q65_2: ┤ X ├\n",
      "       └───┘\n",
      "Statevector([0.+0.j, 0.+0.j, 0.+0.j, 0.+0.j, 1.+0.j, 0.+0.j, 0.+0.j,\n",
      "             0.+0.j],\n",
      "            dims=(2, 2, 2))\n"
     ]
    },
    {
     "data": {
      "image/png": "[encoded data removed]",
      "text/plain": [
       "<Figure size 233.395x204.68 with 1 Axes>"
      ]
     },
     "execution_count": 60,
     "metadata": {},
     "output_type": "execute_result"
    }
   ],
   "source": [
    "# Circuit that prepares the initial state |100>.\n",
    "\n",
    "from qiskit import assemble\n",
    "\n",
    "sim = Aer.get_backend('aer_simulator')  # Tell Qiskit how to simulate the circuit.\n",
    "\n",
    "qr = QuantumRegister(3)  # Define the number of qubits in the quantum circuit (0,1,2).\n",
    "qc = QuantumCircuit(qr)\n",
    "qc.x(2)  # Apply the Pauli-X gate in qubit 2.\n",
    "print(qc)  # Print the circuit.\n",
    "qc.save_statevector()  # Tell simulator to save the statevector.\n",
    "qobj = assemble(qc)    # Create a Qobj from the circuit for the simulator to run.\n",
    "result = sim.run(qobj).result() # Run the simulation and return the result.\n",
    "out_state = result.get_statevector()\n",
    "print(out_state)  # Print the output state vector.\n",
    "\n",
    "qc.draw(output='mpl')"
   ]
  },
  {
   "cell_type": "markdown",
   "id": "0f51feb3-e643-418d-89bd-3f961431f928",
   "metadata": {},
   "source": [
    "Using [qiskit.circuit.QuantumCircuit.initialize](https://qiskit.org/documentation/stubs/qiskit.circuit.QuantumCircuit.initialize.html):"
   ]
  },
  {
   "cell_type": "code",
   "execution_count": 61,
   "id": "12720702-6347-4194-a283-748005b968e3",
   "metadata": {},
   "outputs": [
    {
     "name": "stdout",
     "output_type": "stream",
     "text": [
      "Statevector([0.+0.j, 0.+0.j, 0.+0.j, 0.+0.j, 1.+0.j, 0.+0.j, 0.+0.j,\n",
      "             0.+0.j],\n",
      "            dims=(2, 2, 2))\n"
     ]
    },
    {
     "data": {
      "image/png": "[encoded data removed]",
      "text/plain": [
       "<Figure size 206.997x204.68 with 1 Axes>"
      ]
     },
     "execution_count": 61,
     "metadata": {},
     "output_type": "execute_result"
    }
   ],
   "source": [
    "init_state = [0, 1] \n",
    "qc = QuantumCircuit(3)\n",
    "qc.initialize(init_state,2)\n",
    "qc.save_statevector()  # Tell simulator to save the statevector.\n",
    "qobj = assemble(qc)    # Create a Qobj from the circuit for the simulator to run.\n",
    "result = sim.run(qobj).result() # Run the simulation and return the result.\n",
    "out_state = result.get_statevector()\n",
    "print(out_state)  # Print the output state vector.\n",
    "\n",
    "qc.draw(output='mpl')"
   ]
  },
  {
   "cell_type": "code",
   "execution_count": 42,
   "id": "26cd6dce-55f9-4bd0-a57a-fc0f11abfc75",
   "metadata": {
    "id": "26cd6dce-55f9-4bd0-a57a-fc0f11abfc75",
    "outputId": "5147bbe7-cb71-4bac-8819-7aabda5fbebd"
   },
   "outputs": [
    {
     "data": {
      "text/plain": [
       "array([0.+0.j, 0.+0.j, 0.+0.j, 0.+0.j, 1.+0.j, 0.+0.j, 0.+0.j, 0.+0.j])"
      ]
     },
     "execution_count": 42,
     "metadata": {},
     "output_type": "execute_result"
    }
   ],
   "source": [
    "# Verifying if the output state of the circuit corresponds to the resulting state from the tensor product.\n",
    "\n",
    "initial_state.to_matrix()"
   ]
  },
  {
   "cell_type": "markdown",
   "id": "09325cc0-da47-496a-bf65-1294b551bc97",
   "metadata": {
    "id": "09325cc0-da47-496a-bf65-1294b551bc97",
    "jp-MarkdownHeadingCollapsed": true,
    "tags": []
   },
   "source": [
    "##### .\n",
    "<div class=\"alert alert-block alert-success\">\n",
    "<b>Solution:</b>\n",
    "</div>"
   ]
  },
  {
   "cell_type": "code",
   "execution_count": 43,
   "id": "d3bd5759-6fa6-4305-8795-c869c95926cc",
   "metadata": {
    "id": "d3bd5759-6fa6-4305-8795-c869c95926cc"
   },
   "outputs": [],
   "source": [
    "\n",
    "def U_trotterize(t_target, trotter_steps):\n",
    "    qr = QuantumRegister(3)\n",
    "    qc = QuantumCircuit(qr)\n",
    "\n",
    "    ###EDIT CODE BELOW (Create the trotterized circuit with various number of trotter steps)\n",
    "    for _ in range(trotter_steps):\n",
    "        qc.append(Trot_gate, [qr[0], qr[1], qr[2]])\n",
    "    \n",
    "    ###DO NOT EDIT BELOW\n",
    "        \n",
    "    qc = qc.bind_parameters({t: t_target/trotter_steps})\n",
    "    \n",
    "    return qi.Operator(qc)"
   ]
  },
  {
   "cell_type": "code",
   "execution_count": 44,
   "id": "9e642289-f3e4-472a-9c55-9af5134ed027",
   "metadata": {
    "colab": {
     "referenced_widgets": [
      "64bcf8e7ae3b40c0a93d05de7f07b2f3"
     ]
    },
    "id": "9e642289-f3e4-472a-9c55-9af5134ed027",
    "outputId": "7d36102d-6c57-4c9b-dbe7-395b18af720b"
   },
   "outputs": [
    {
     "data": {
      "application/vnd.jupyter.widget-view+json": {
       "model_id": "da08df54d17c45deb2d0a047cb8b939d",
       "version_major": 2,
       "version_minor": 0
      },
      "text/plain": [
       "  0%|          | 0/50 [00:00<?, ?it/s]"
      ]
     },
     "metadata": {},
     "output_type": "display_data"
    },
    {
     "data": {
      "image/png": "[encoded data removed]",
      "text/plain": [
       "<Figure size 432x288 with 1 Axes>"
      ]
     },
     "metadata": {},
     "output_type": "display_data"
    }
   ],
   "source": [
    "t_target = 0.5\n",
    "U_target = U_tb(t_target)\n",
    "\n",
    "steps=np.arange(1,101,2)  ## DO NOT EDIT\n",
    "\n",
    "fidelities=[]\n",
    "for n in tqdm(steps):\n",
    "    U_trotter = U_trotterize(t_target, trotter_steps=n)\n",
    "    fidelity = qi.process_fidelity(U_trotter, target=U_target)\n",
    "    fidelities.append(fidelity)\n",
    "\n",
    "plt.figure(facecolor='white')\n",
    "plt.loglog(steps, 1-np.array(fidelities))\n",
    "plt.ylabel('Trotter error')\n",
    "plt.xlabel('Trotter steps')\n",
    "plt.show()"
   ]
  },
  {
   "cell_type": "code",
   "execution_count": null,
   "id": "83b36595-aea8-4a97-8e3b-43b0454b0edf",
   "metadata": {
    "id": "83b36595-aea8-4a97-8e3b-43b0454b0edf",
    "outputId": "38a0afea-c88f-4b49-f95f-8a88351fc76b",
    "scrolled": true
   },
   "outputs": [
    {
     "name": "stdout",
     "output_type": "stream",
     "text": [
      "Submitting your answer. Please wait...\n",
      "Congratulations 🎉! Your answer is correct and has been submitted.\n"
     ]
    }
   ],
   "source": [
    "## Grade and submit your solution\n",
    "from qc_grader.challenges.spring_2022 import grade_ex1c\n",
    "\n",
    "grade_ex1c(fidelities)\n",
    " "
   ]
  }
 ],
 "metadata": {
  "colab": {
   "collapsed_sections": [
    "3e8021b4",
    "172dc11b",
    "19c6ab38",
    "2e7c574e",
    "11c706da",
    "00ea5c84",
    "f640c94a-c8a9-4675-a91d-07e12b12aa1c",
    "29f36630-81bc-4b6f-9f3b-3bbdcddbf558",
    "943d24d1-0b75-4e88-8de3-833832b17b63",
    "23d9093d",
    "e8e7e781-9bca-4a00-acc0-d920b7bf3161",
    "fa91a2de-987d-4375-b0ae-bbd90a8ff13b",
    "08e531e5-326c-4b9b-b7cf-f4c31dbd73f6",
    "1b5382b9",
    "896a2f87",
    "56c14cb2-2832-48f3-a049-342e1880839d",
    "09325cc0-da47-496a-bf65-1294b551bc97"
   ],
   "name": "01.CM_trotterization.ipynb",
   "provenance": []
  },
  "kernelspec": {
   "display_name": "Python 3 (ipykernel)",
   "language": "python",
   "name": "python3"
  },
  "language_info": {
   "codemirror_mode": {
    "name": "ipython",
    "version": 3
   },
   "file_extension": ".py",
   "mimetype": "text/x-python",
   "name": "python",
   "nbconvert_exporter": "python",
   "pygments_lexer": "ipython3",
   "version": "3.9.11"
  },
  "latex_envs": {
   "LaTeX_envs_menu_present": true,
   "autoclose": false,
   "autocomplete": true,
   "bibliofile": "biblio.bib",
   "cite_by": "apalike",
   "current_citInitial": 1,
   "eqLabelWithNumbers": true,
   "eqNumInitial": 1,
   "hotkeys": {
    "equation": "Ctrl-E",
    "itemize": "Ctrl-I"
   },
   "labels_anchors": false,
   "latex_user_defs": false,
   "report_style_numbering": false,
   "user_envs_cfg": false
  },
  "widgets": {
   "application/vnd.jupyter.widget-state+json": {
    "state": {
     "0204db447749484f867a3f8effcd3c45": {
      "model_module": "@jupyter-widgets/controls",
      "model_module_version": "1.5.0",
      "model_name": "HTMLModel",
      "state": {
       "layout": "IPY_MODEL_d445d79f0ccd4ecbbc7a3a6cc477f4df",
       "style": "IPY_MODEL_02cead26b8aa47bda78195746f18a5b4",
       "value": " 50/50 [00:23&lt;00:00,  1.14it/s]"
      }
     },
     "02cead26b8aa47bda78195746f18a5b4": {
      "model_module": "@jupyter-widgets/controls",
      "model_module_version": "1.5.0",
      "model_name": "DescriptionStyleModel",
      "state": {
       "description_width": ""
      }
     },
     "03bd4ba30d014ef48ae84f3f59eb5014": {
      "model_module": "@jupyter-widgets/controls",
      "model_module_version": "1.5.0",
      "model_name": "HTMLModel",
      "state": {
       "layout": "IPY_MODEL_fe09805290b74c8cbca05359fce0de5c",
       "style": "IPY_MODEL_ab3664bfaf6c41cd9882b5274161ddea",
       "value": "<h5>Status</h5>"
      }
     },
     "090b056ba02d42cb93703cdc9569dd87": {
      "model_module": "@jupyter-widgets/controls",
      "model_module_version": "1.5.0",
      "model_name": "DescriptionStyleModel",
      "state": {
       "description_width": ""
      }
     },
     "0eff36c568c24129ac92f4636891a4b9": {
      "model_module": "@jupyter-widgets/base",
      "model_module_version": "1.2.0",
      "model_name": "LayoutModel",
      "state": {
       "margin": "0px 0px 10px 0px"
      }
     },
     "3e5bdf58e98a4e25b9b548c1daf425f8": {
      "model_module": "@jupyter-widgets/controls",
      "model_module_version": "1.5.0",
      "model_name": "DescriptionStyleModel",
      "state": {
       "description_width": ""
      }
     },
     "4180d6f3bb1443468d3e4e11cefe3000": {
      "model_module": "@jupyter-widgets/controls",
      "model_module_version": "1.5.0",
      "model_name": "HTMLModel",
      "state": {
       "layout": "IPY_MODEL_b1d60c1ab4184577bc202034e972831b",
       "style": "IPY_MODEL_3e5bdf58e98a4e25b9b548c1daf425f8",
       "value": "100%"
      }
     },
     "43af4770682047f19167c28fa826eb83": {
      "model_module": "@jupyter-widgets/controls",
      "model_module_version": "1.5.0",
      "model_name": "GridBoxModel",
      "state": {
       "children": [
        "IPY_MODEL_4ffb95f9c30d4bc5a6c0a59a5b5601ff"
       ],
       "layout": "IPY_MODEL_5fe8f340ec324dba8dbb35a11f3653c8"
      }
     },
     "4559b4c6ed8b43faa58dbc867f06a1d2": {
      "model_module": "@jupyter-widgets/base",
      "model_module_version": "1.2.0",
      "model_name": "LayoutModel",
      "state": {}
     },
     "4c4c570db11048d0968fda8ab65b9679": {
      "model_module": "@jupyter-widgets/base",
      "model_module_version": "1.2.0",
      "model_name": "LayoutModel",
      "state": {
       "width": "70px"
      }
     },
     "4ffb95f9c30d4bc5a6c0a59a5b5601ff": {
      "model_module": "@jupyter-widgets/controls",
      "model_module_version": "1.5.0",
      "model_name": "ButtonModel",
      "state": {
       "button_style": "primary",
       "description": "Clear",
       "layout": "IPY_MODEL_8e5d6176ed64490fb4895dd4c8771207",
       "style": "IPY_MODEL_e9a5ffe064ef4a97a40d6b47a84fb29e"
      }
     },
     "577cc3b62ca747f8bf603ec9433d63dc": {
      "model_module": "@jupyter-widgets/base",
      "model_module_version": "1.2.0",
      "model_name": "LayoutModel",
      "state": {}
     },
     "5fe8f340ec324dba8dbb35a11f3653c8": {
      "model_module": "@jupyter-widgets/base",
      "model_module_version": "1.2.0",
      "model_name": "LayoutModel",
      "state": {
       "grid_template_areas": "\n                                       \". . . . right \"\n                                        ",
       "grid_template_columns": "20% 20% 20% 20% 20%",
       "width": "100%"
      }
     },
     "74110c1e35444f938a9d7a44a35ec9d1": {
      "model_module": "@jupyter-widgets/controls",
      "model_module_version": "1.5.0",
      "model_name": "HTMLModel",
      "state": {
       "layout": "IPY_MODEL_4559b4c6ed8b43faa58dbc867f06a1d2",
       "style": "IPY_MODEL_86fc8e45b5e84e7f92ab3f912203f3ff",
       "value": "<h5>Message</h5>"
      }
     },
     "751f05d6ade340eaaad6330868ca4c5a": {
      "model_module": "@jupyter-widgets/controls",
      "model_module_version": "1.5.0",
      "model_name": "HTMLModel",
      "state": {
       "layout": "IPY_MODEL_afd7c11cb6fd4fe8966e2d2c1e46e211",
       "style": "IPY_MODEL_bca6c0d8a81b420eb1139f6625263d4b",
       "value": "<h5>Backend</h5>"
      }
     },
     "7905db2c468140109d55592ecc37c4d5": {
      "model_module": "@jupyter-widgets/base",
      "model_module_version": "1.2.0",
      "model_name": "LayoutModel",
      "state": {}
     },
     "82eb65f46db9406fbcb8a9aaefab083b": {
      "model_module": "@jupyter-widgets/controls",
      "model_module_version": "1.5.0",
      "model_name": "ProgressStyleModel",
      "state": {
       "description_width": ""
      }
     },
     "86fc8e45b5e84e7f92ab3f912203f3ff": {
      "model_module": "@jupyter-widgets/controls",
      "model_module_version": "1.5.0",
      "model_name": "DescriptionStyleModel",
      "state": {
       "description_width": ""
      }
     },
     "8e5d6176ed64490fb4895dd4c8771207": {
      "model_module": "@jupyter-widgets/base",
      "model_module_version": "1.2.0",
      "model_name": "LayoutModel",
      "state": {
       "grid_area": "right",
       "padding": "0px 0px 0px 0px",
       "width": "70px"
      }
     },
     "9607da6a8589479c9975e128ee954395": {
      "model_module": "@jupyter-widgets/base",
      "model_module_version": "1.2.0",
      "model_name": "LayoutModel",
      "state": {
       "width": "190px"
      }
     },
     "9748623d79ee41fca5472800e18a37c2": {
      "model_module": "@jupyter-widgets/controls",
      "model_module_version": "1.5.0",
      "model_name": "DescriptionStyleModel",
      "state": {
       "description_width": ""
      }
     },
     "9be5a48cdf1b4a70b3ec7c8399717c1b": {
      "model_module": "@jupyter-widgets/controls",
      "model_module_version": "1.5.0",
      "model_name": "HBoxModel",
      "state": {
       "children": [
        "IPY_MODEL_f4433d453521441982e7c2425530f448",
        "IPY_MODEL_751f05d6ade340eaaad6330868ca4c5a",
        "IPY_MODEL_03bd4ba30d014ef48ae84f3f59eb5014",
        "IPY_MODEL_9f3d2d5baa434392a69e79211ded13ed",
        "IPY_MODEL_74110c1e35444f938a9d7a44a35ec9d1"
       ],
       "layout": "IPY_MODEL_b61a8c9938184da190c8096630d8cf55"
      }
     },
     "9dd6647dc0f14450a3d9ed3b0faa4d3c": {
      "model_module": "@jupyter-widgets/controls",
      "model_module_version": "1.5.0",
      "model_name": "FloatProgressModel",
      "state": {
       "bar_style": "success",
       "layout": "IPY_MODEL_7905db2c468140109d55592ecc37c4d5",
       "max": 50,
       "style": "IPY_MODEL_82eb65f46db9406fbcb8a9aaefab083b",
       "value": 50
      }
     },
     "9f3d2d5baa434392a69e79211ded13ed": {
      "model_module": "@jupyter-widgets/controls",
      "model_module_version": "1.5.0",
      "model_name": "HTMLModel",
      "state": {
       "layout": "IPY_MODEL_4c4c570db11048d0968fda8ab65b9679",
       "style": "IPY_MODEL_bca30ea0a330453cb628747a2f0f4f09",
       "value": "<h5>Queue</h5>"
      }
     },
     "ab3664bfaf6c41cd9882b5274161ddea": {
      "model_module": "@jupyter-widgets/controls",
      "model_module_version": "1.5.0",
      "model_name": "DescriptionStyleModel",
      "state": {
       "description_width": ""
      }
     },
     "acd553a5e31b46d18f0ff4428782641e": {
      "model_module": "@jupyter-widgets/controls",
      "model_module_version": "1.5.0",
      "model_name": "HTMLModel",
      "state": {
       "layout": "IPY_MODEL_0eff36c568c24129ac92f4636891a4b9",
       "style": "IPY_MODEL_090b056ba02d42cb93703cdc9569dd87",
       "value": "<p style='font-family: IBM Plex Sans, Arial, Helvetica, sans-serif; font-size: 20px; font-weight: medium;'>Circuit Properties</p>"
      }
     },
     "afd7c11cb6fd4fe8966e2d2c1e46e211": {
      "model_module": "@jupyter-widgets/base",
      "model_module_version": "1.2.0",
      "model_name": "LayoutModel",
      "state": {
       "width": "145px"
      }
     },
     "b1d60c1ab4184577bc202034e972831b": {
      "model_module": "@jupyter-widgets/base",
      "model_module_version": "1.2.0",
      "model_name": "LayoutModel",
      "state": {}
     },
     "b61a8c9938184da190c8096630d8cf55": {
      "model_module": "@jupyter-widgets/base",
      "model_module_version": "1.2.0",
      "model_name": "LayoutModel",
      "state": {
       "margin": "0px 0px 0px 37px",
       "width": "600px"
      }
     },
     "bca30ea0a330453cb628747a2f0f4f09": {
      "model_module": "@jupyter-widgets/controls",
      "model_module_version": "1.5.0",
      "model_name": "DescriptionStyleModel",
      "state": {
       "description_width": ""
      }
     },
     "bca6c0d8a81b420eb1139f6625263d4b": {
      "model_module": "@jupyter-widgets/controls",
      "model_module_version": "1.5.0",
      "model_name": "DescriptionStyleModel",
      "state": {
       "description_width": ""
      }
     },
     "d445d79f0ccd4ecbbc7a3a6cc477f4df": {
      "model_module": "@jupyter-widgets/base",
      "model_module_version": "1.2.0",
      "model_name": "LayoutModel",
      "state": {}
     },
     "da08df54d17c45deb2d0a047cb8b939d": {
      "model_module": "@jupyter-widgets/controls",
      "model_module_version": "1.5.0",
      "model_name": "HBoxModel",
      "state": {
       "children": [
        "IPY_MODEL_4180d6f3bb1443468d3e4e11cefe3000",
        "IPY_MODEL_9dd6647dc0f14450a3d9ed3b0faa4d3c",
        "IPY_MODEL_0204db447749484f867a3f8effcd3c45"
       ],
       "layout": "IPY_MODEL_577cc3b62ca747f8bf603ec9433d63dc"
      }
     },
     "e9a5ffe064ef4a97a40d6b47a84fb29e": {
      "model_module": "@jupyter-widgets/controls",
      "model_module_version": "1.5.0",
      "model_name": "ButtonStyleModel",
      "state": {}
     },
     "f4433d453521441982e7c2425530f448": {
      "model_module": "@jupyter-widgets/controls",
      "model_module_version": "1.5.0",
      "model_name": "HTMLModel",
      "state": {
       "layout": "IPY_MODEL_9607da6a8589479c9975e128ee954395",
       "style": "IPY_MODEL_9748623d79ee41fca5472800e18a37c2",
       "value": "<h5>Job ID</h5>"
      }
     },
     "fe09805290b74c8cbca05359fce0de5c": {
      "model_module": "@jupyter-widgets/base",
      "model_module_version": "1.2.0",
      "model_name": "LayoutModel",
      "state": {
       "width": "95px"
      }
     }
    },
    "version_major": 2,
    "version_minor": 0
   }
  }
 },
 "nbformat": 4,
 "nbformat_minor": 5
}
