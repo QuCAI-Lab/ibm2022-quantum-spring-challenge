{
 "cells": [
  {
   "cell_type": "markdown",
   "metadata": {
    "id": "IT3xoU8Pp85F"
   },
   "source": [
    "<!-- Badges: -->\n",
    "[![License](https://img.shields.io/github/license/QuCAI-Lab/ibm2022-quantum-spring-challenge.svg?logo=CreativeCommons&style=flat-square)](https://github.com/QuCAI-Lab/ibm2022-quantum-spring-challenge/blob/dev/LICENSE.md)\n",
    "[![Contributions](https://img.shields.io/badge/contributions-welcome-orange?style=flat-square)](https://github.com/QuCAI-Lab/ibm2022-quantum-spring-challenge/pulls)\n",
    "[![Maintenance](https://img.shields.io/badge/Maintained%3F-yes-green.svg)](https://github.com/QuCAI-Lab/ibm2022-quantum-spring-challenge/graphs/commit-activity)\n",
    "[![Release](https://img.shields.io/github/release/QuCAI-Lab/ibm2022-quantum-spring-challenge.svg)](https://github.com/QuCAI-Lab/ibm2022-quantum-spring-challenge/releases)\n",
    "\n",
    "\n",
    "<!-- Title: -->\n",
    "<div align=\"center\">\n",
    "  <h1> Supplementary Material for IBM Quantum Spring Challenge 2022 </h1>\n",
    "</div>\n",
    "\n",
    "<!-- Author: -->\n",
    "<div align=\"center\">\n",
    "  <b>Author: <a target=\"_blank\" href=\"https://github.com/camponogaraviera\" rel=\"noopener noreferrer\">Lucas Camponogara Viera</a></b>\n",
    "</div>"
   ]
  },
  {
   "cell_type": "markdown",
   "metadata": {
    "id": "0U_0A5LcqCVY"
   },
   "source": [
    "<div align='center'>\n",
    "<table class=\"tfo-notebook-buttons\" align=\"head\">\n",
    "  <td>\n",
    "    <a target=\"_blank\" href=\"https://github.com/QuCAI-Lab/ibm2022-quantum-spring-challenge\"><img src=\"https://www.tensorflow.org/images/GitHub-Mark-32px.png\" /></a>\n",
    "  </td>\n",
    "</table>\n",
    "</div>"
   ]
  },
  {
   "cell_type": "markdown",
   "metadata": {
    "id": "3G4RQpd5Yj32"
   },
   "source": [
    "---\n",
    "This notebook consists of the step-by-step derivations of the quantum circuits provided as solutions to the first challenge. In addition, useful linear algebra identities are verified using matrix representation, index notation, NumPy, SymPy and Qiskit SDK. \n",
    "\n",
    "---"
   ]
  },
  {
   "cell_type": "code",
   "execution_count": null,
   "metadata": {
    "colab": {
     "base_uri": "https://localhost:8080/",
     "height": 35
    },
    "executionInfo": {
     "elapsed": 408,
     "status": "ok",
     "timestamp": 1662047146145,
     "user": {
      "displayName": "Lucas Camponogara Viera",
      "userId": "14322290658374940800"
     },
     "user_tz": -480
    },
    "id": "6V0poaqgqHa0",
    "outputId": "dd385874-040e-4620-cfb5-cb816f9a9ff7"
   },
   "outputs": [
    {
     "data": {
      "application/javascript": [
       "IPython.notebook.set_autosave_interval(60000)"
      ]
     },
     "metadata": {},
     "output_type": "display_data"
    },
    {
     "name": "stdout",
     "output_type": "stream",
     "text": [
      "Autosaving every 60 seconds\n"
     ]
    }
   ],
   "source": [
    "%autosave 60"
   ]
  },
  {
   "cell_type": "code",
   "execution_count": null,
   "metadata": {
    "id": "CcL2IFkkInTw"
   },
   "outputs": [],
   "source": [
    "#!pip install qiskit"
   ]
  },
  {
   "cell_type": "code",
   "execution_count": null,
   "metadata": {
    "id": "oDAv0OmXJW3R"
   },
   "outputs": [],
   "source": [
    "#!pip install pylatexenc # Ps: restart the runtime after installation."
   ]
  },
  {
   "cell_type": "code",
   "execution_count": null,
   "metadata": {
    "id": "WPCsJKuAsCmn"
   },
   "outputs": [],
   "source": [
    "import numpy as np\n",
    "import sympy as sym\n",
    "from sympy.physics.quantum import TensorProduct\n",
    "from qiskit import Aer, QuantumRegister, QuantumCircuit, assemble\n",
    "from qiskit.quantum_info import Statevector\n",
    "import pylatexenc # Required to use 'MatplotlibDrawer'."
   ]
  },
  {
   "cell_type": "markdown",
   "metadata": {
    "id": "2l8Al1ELgStT"
   },
   "source": [
    "# Definitions and Notation\n",
    "\n"
   ]
  },
  {
   "cell_type": "markdown",
   "metadata": {
    "id": "vRsClU6V59yo"
   },
   "source": [
    "## Kronecker Product\n",
    "\n",
    "Suppose $M^{r,s}$ denote the space of retangular matrices of dimension $r$×$s$ over any field. Let $A\\in M^{m,n}$ and $B\\in M^{p,q}$ denote $m$x$n$ and $p$x$q$ retangular matrices over any field, respectively. In matrix representation, the abstract tensor product is the Kronecker product with the following block matrix representation:\n",
    "\n",
    "\\begin{eqnarray}\n",
    "(A \\otimes B) \\doteq \\begin{bmatrix} A_{11} B && \\cdots && A_{1n} B \\\\ \n",
    "\\vdots  &&\\ddots  && \\vdots \\\\ \n",
    "A_{m1} B && \\cdots && A_{mn} B\\end{bmatrix} \\in M^{mp, nq},\n",
    "\\end{eqnarray}\n",
    "\n",
    "with dimension $(mp)$x$(nq)$. "
   ]
  },
  {
   "cell_type": "markdown",
   "metadata": {
    "id": "F3sWroElytGE"
   },
   "source": [
    "## Inner Product\n",
    "\n",
    "A function named inner product is a positive semi-definite bilinear map defined as $\\langle \\cdot,\\cdot \\rangle : \\mathbb{V}^d$ x $\\mathbb{V}^d \\rightarrow \\mathbb{C}$. The map is voiced: \"a function $\\langle \\cdot,\\cdot \\rangle$, namely inner product, takes as input two vectors from a vector space and produces a scalar quantity as output\". Every inner product induces a norm by: \n",
    "\n",
    "$$||\\mathbb{V}||=\\sqrt{\\langle \\mathbb{V},\\mathbb{V}\\rangle}.$$ \n",
    "\n",
    "In this sense, every inner product space is a normed vector space. If the normed space is also complete (a Banach space), the inner product space is a Hilbert space.\n",
    "\n",
    "- In a finite dimensional Euclidean space, the inner product between coordinate vectors $\\vec{a}$ and $\\vec{b}$ is the dot product:\n",
    "\n",
    "$$ \\vec{a} \\cdot \\vec{b} = \\sum_{i, j=1}^d a_i b_j \\delta_{ij} = \\sum_{j=1}^d a_j b_j = a_1 b_1 + a_2b_2 + \\cdots + a_db_d .$$\n",
    "\n",
    "## Matrix representation for the inner product on a Hilbert space $\\mathbb{C}^d$\n",
    "\n",
    "Let $|v\\rangle = \\sum_{i=1}^{\\dim \\mathbb{V}} v_i |i \\rangle$ and $|w\\rangle = \\sum_{j=1}^{\\dim \\mathbb{W}} w_i |j \\rangle$ be complex vectors with respect to some orthonormal basis on a Hilbert space $\\mathbb{C}^d$. Their inner product can be defined as:\n",
    "\n",
    "\\begin{eqnarray}\n",
    "\\langle v | w \\rangle \\equiv (|v\\rangle, |w\\rangle) &\\doteq& |v\\rangle^{\\dagger} |w\\rangle = \\left( \\sum_{i=1}^{\\dim \\mathbb{V}} v_i |i \\rangle \\right)^{\\dagger} \\left(\\sum_{j=1}^{\\dim \\mathbb{W}} w_j | j \\rangle\\right) = \\sum_{i=1}^{\\dim \\mathbb{V}} \\sum_{j=1}^{\\dim \\mathbb{W}}  v_i^*w_j \\langle i|j\\rangle = \\sum_{i,j=1}^d v_i^* w_j \\delta_{ij} \\\\\n",
    "&=&\n",
    "\\sum_{i=1}^d v_i^* w_i = v_1^* w_1 + v_2^* w_2 + \\cdots + v_d^* w_d \\\\\n",
    "&=& \n",
    "\\begin{pmatrix} v_1^* & v_2^* & \\cdots & v_d^* \\end{pmatrix}\n",
    "\\begin{pmatrix} w_1 \\\\ w_2 \\\\ \\vdots \\\\ w_d \\end{pmatrix}.\n",
    "\\end{eqnarray}\n",
    "\n",
    "**Note:** $\\mathbb{C}^d$ is used interchangeably to denote the field of complex scalars and a complex vector space.\n",
    "\n",
    "## Adjoint operators\n",
    "\n",
    "The inner product for the *adjoint* (a.k.a *Hermitian conjugate*) of a linear operator $A$ on a Hilbert space $\\mathbb{C}^d$ can be defined for all vectors $|v\\rangle, |w\\rangle \\in \\mathbb{C}^d$, as follows:\n",
    "\n",
    "$$\\langle v|A w\\rangle \\equiv (|v\\rangle, A|w\\rangle)=(A^{\\dagger}|v\\rangle,|w\\rangle).$$"
   ]
  },
  {
   "cell_type": "markdown",
   "metadata": {
    "id": "QzxKksEQ6MKk"
   },
   "source": [
    "## Notation\n",
    "\n",
    "Using index notation, let's define the following conventions:\n",
    "\n",
    "- $[A_{ij}]$ denotes a matrix $A$ with entries $A_{ij}$.\n",
    "- $[a_j]$ denotes a column-like vector $|a\\rangle$ with entries $a_j$.\n",
    "- $[a^*_j]$ denotes the dual vector (complex conjugate transpose) to $|a\\rangle$, i.e, the row-like (bra) vector $\\langle a|$ with complex conjugate entries $a^*_j$.\n",
    "\n",
    "## Vector representation\n",
    "\n",
    "The $i$-th entry from the result of the matrix multiplication between a matrix $A \\in M^{m,n}$ and a column vector $\\mathbb{v} \\in \\mathbb{V}^n$ can be obtained as follows:\n",
    "\n",
    "$$v'_i = [A\\mathbb{v}]_i = \\sum_{j=1}^n A_{ij}v_j \\in \\mathbb{V}^m,$$\n",
    "\n",
    "where $i=1,\\cdots, m$ is a free suffix, and $j=1,\\cdots, n$ is a dummy suffix.\n",
    "\n",
    "## Matrix representation for linear operators\n",
    "\n",
    "Suppose $A: \\mathbb{V} \\rightarrow \\mathbb{W}$ is a linear operator between vector spaces $\\mathbb{V}^n$ and $\\mathbb{W}^m$ with bases $\\{|v_j\\rangle\\}_{j=1}^n$ and $\\{|w_i\\rangle\\}_{i=1}^m$, respectively. There exist a number $A_{ij}$ that is the $(ij)$-th entry of the *matrix representation* $A \\in M^{m,n}$ of the operator $A$, such that\n",
    "\n",
    "$$A|v_j\\rangle = \\sum_{i=1}^m A_{ij} |w_i\\rangle \\in \\mathbb{W}^m,$$\n",
    "\n",
    "where $j=1,\\cdots, n$ is a free suffix, and $i=1,\\cdots, m$ is a dummy suffix.\n",
    "\n",
    "## Matrix representation for operator products\n",
    "\n",
    "The $(ij)$-th entry of the matrix representation for the linear transformation AB is the matrix product of the matrix representations for matrices $A \\in M^{m,n}$ and $B \\in M^{n,p}$, as follows (**see Exercise 2.3 of ref. [1]**):\n",
    "\n",
    "$$[AB]_{ij} = \\sum_{k=1}^n A_{ik}B_{kj} \\in M^{m,p},$$\n",
    "\n",
    "where $i = 1, \\cdots, m$ and $j=1,\\cdots, p$ are free suffixes, and $k=1,\\cdots,n$ is a dummy suffix.\n",
    "\n",
    "## Kronecker product representation\n",
    "\n",
    "The Kronecker product between matrices $A \\in M^{m,n}, B \\in M^{p,q}$ can be represented as follows:\n",
    "\n",
    "$$ A \\otimes B \\doteq [A_{ij}B] \\in M^{mp, nq}.$$\n",
    "\n",
    "The Kronecker product between vectors $|a\\rangle, |b\\rangle \\in \\mathbb{V}^n$ can be represented as follows:\n",
    "\n",
    "$$|ab\\rangle \\equiv |a\\rangle \\otimes |b\\rangle \\doteq [a_j|b\\rangle],$$\n",
    "\n",
    "$$\\langle ab| \\equiv \\langle a| \\otimes \\langle b| \\doteq [a^*_j \\langle b|].$$\n",
    "\n",
    "Note: in index notation, contraction is denoted by: $$C_{ij}\\delta_{ij}=C_{ii}.$$"
   ]
  },
  {
   "cell_type": "markdown",
   "metadata": {
    "id": "SUcD93s2h3-O"
   },
   "source": [
    "# Useful Linear Algebra Identities for Quantum Circuit\n"
   ]
  },
  {
   "cell_type": "markdown",
   "metadata": {
    "id": "M4m7mpxuLqup"
   },
   "source": [
    "## Retangular matrices\n",
    "\n",
    "Let $M^{m,n}$ denote the space of retangular matrices of dimension $m$×$n$ over the field $\\mathbb{C}^n$ of the complex numbers. And let $A\\in M^{p,q}$ and $B\\in M^{q,r}$ denote $p$x$q$ and $q$x$r$ retangular matrices, respectively. The following properties hold:\n",
    "\n",
    "- 1) Conjugate transpose of a matrix product: $$(AB)^{\\dagger} = B^{\\dagger}A^{\\dagger}.$$\n",
    "- 2) Involution: $$(A^{\\dagger})^{\\dagger} = A .$$\n",
    "\n",
    "Let $M^{i,j}$ denote the space of retangular matrices of dimension $i$×$j$ over any field (real or complex). Then, $\\forall A \\in M^{k,l}, B \\in M^{m,n}, C \\in M^{p,q}, D \\in M^{r,s}$, with dimensions such that matrix addition and multiplication are well defined, the following properties hold:\n",
    "\n",
    "- 1) The Kronecker product is right–distributive (for $k=m, l=n$): $$(A+B)\\otimes C = A\\otimes C+B\\otimes C.$$\n",
    "\n",
    "- 2) The Kronecker product is left–distributive (for $m=p, n=q$): $$A \\otimes (B+C) = A\\otimes B+A\\otimes C.$$\n",
    "\n",
    "- 3) It follows from (1) and (2): $$(A+B) \\otimes (C+D) = A\\otimes C+A\\otimes D+B\\otimes C+B\\otimes D.$$\n",
    "\n",
    "- 4) Mixed product property (for $l=p, n=r$): $$ (A\\otimes B)(C\\otimes D) = AC\\otimes BD.$$"
   ]
  },
  {
   "cell_type": "markdown",
   "metadata": {
    "id": "eHrS4GS8pzPZ"
   },
   "source": [
    "## Vectors\n",
    "\n",
    "Let $\\mathbb{V}^d$ denote a vector space with dimension $\\dim(\\mathbb{V})=d$ over the scalar field $\\mathbb{C}^d$ of the complex numbers. Then, $\\forall |a\\rangle, |b\\rangle, |c\\rangle, |d\\rangle \\in \\mathbb{V}^d$, the following identities hold (in fact regardless of the scalar field):\n",
    "\n",
    "\\begin{eqnarray}\n",
    "(|a\\rangle + |b\\rangle)\\otimes(|c\\rangle + |d\\rangle)&=&|a\\rangle \\otimes |c\\rangle + |a\\rangle \\otimes |d\\rangle + |b\\rangle \\otimes |c\\rangle + |b\\rangle \\otimes |d\\rangle.\\\\\n",
    "|a\\rangle \\otimes \\langle b| &=& |a\\rangle \\langle b|.\\\\\n",
    "(|a\\rangle \\langle c|) \\otimes (|b\\rangle \\langle d|)  &=& \\big(|a\\rangle \\otimes |b\\rangle\\big)\\big(\\langle c| \\otimes \\langle d|\\big) \\equiv |ab\\rangle \\langle cd|.\\\\\n",
    "(|a\\rangle\\langle b|)^{\\dagger}&=&|b\\rangle\\langle a|.\n",
    "\\end{eqnarray}\n",
    "\n",
    "**Note:** $\\mathbb{C}^d$ is used interchangeably to denote the field of complex scalars and a complex vector space. Here, I will stick with the $\\mathbb{V}^d$ notation for a vector space over any field."
   ]
  },
  {
   "cell_type": "markdown",
   "metadata": {
    "id": "QtKzgiXgL4g0"
   },
   "source": [
    "## Vectors and matrices\n",
    "\n",
    "For all matrices $A, B \\in M^{m,n}$ and $\\forall |v\\rangle, |w\\rangle \\in \\mathbb{V}^n$:\n",
    "\n",
    "\\begin{eqnarray}\n",
    "(A|v\\rangle)^{\\dagger} &=&\\langle v| A^{\\dagger}.\\\\\n",
    "A |v\\rangle \\otimes B |w\\rangle &=& (A\\otimes B)(|v\\rangle \\otimes |w\\rangle) \\equiv (A\\otimes B)|vw\\rangle.\n",
    "\\end{eqnarray}"
   ]
  },
  {
   "cell_type": "markdown",
   "metadata": {
    "id": "uManQMaCLtV3"
   },
   "source": [
    "## Change of basis\n",
    "\n",
    "Let $H$ and $S$ be the single-qubit Hadamard gate and single-qubit phase gate, respectively. Let $R_y$ and $R_z$ be the single-qubit standard rotation gates around the y-axis and z-axis, respectively. And let $|00\\rangle$, $|01\\rangle$, $|10\\rangle$, $|11\\rangle$ be the eigenvectors of the $ZZ$ gate.\n",
    "\n",
    "Given the eigenvectors $|++\\rangle$, $|+-\\rangle$, $|-+\\rangle$, and $|--\\rangle$ of the $XX$ gate, the following holds:\n",
    "\n",
    "\\begin{eqnarray}\n",
    "H|0\\rangle &=& R_y(\\pi/2)|0\\rangle = |+\\rangle.\\\\\n",
    "H|1\\rangle &=& R_y(-\\pi/2)|0\\rangle = |-\\rangle.\\\\\n",
    "|++\\rangle\\langle ++|&=&(H\\otimes H)|00\\rangle\\langle 00|(H\\otimes H).\\\\\n",
    "|--\\rangle\\langle --|&=&(H\\otimes H)|11\\rangle\\langle 11|(H\\otimes H).\\\\\n",
    "|+-\\rangle\\langle +-|&=&(H\\otimes H)|01\\rangle\\langle 01|(H\\otimes H).\\\\\n",
    "|-+\\rangle\\langle -+|&=&(H\\otimes H)|10\\rangle\\langle 10|(H\\otimes H).\\\\\n",
    "\\end{eqnarray}\n",
    "\n",
    "Given the eigenvectors $|\\oplus \\oplus\\rangle$, $|\\oplus\\ominus\\rangle$, $|\\ominus\\oplus\\rangle$, and $|\\ominus\\ominus\\rangle$ of the $YY$ gate, the following holds:\n",
    "\n",
    "\\begin{eqnarray}\n",
    "SH|0\\rangle &=& R_x(-\\pi/2)|0\\rangle = |\\oplus\\rangle.\\\\\n",
    "SH|1\\rangle &=& R_x(\\pi/2)|0\\rangle = |\\ominus\\rangle.\\\\\n",
    "|\\oplus\\oplus\\rangle\\langle \\oplus\\oplus|&=&(S\\otimes S)(H\\otimes H)|00\\rangle\\langle 00|(H\\otimes H)(S^{\\dagger}\\otimes S^{\\dagger}).\\\\\n",
    "|\\ominus\\ominus\\rangle\\langle \\ominus\\ominus|&=&(S\\otimes S)(H\\otimes H)|11\\rangle\\langle 11|(H\\otimes H)(S^{\\dagger}\\otimes S^{\\dagger}).\\\\\n",
    "|\\oplus\\ominus\\rangle\\langle \\oplus\\ominus|&=&(S\\otimes S)(H\\otimes H)|01\\rangle\\langle 01|(H\\otimes H)(S^{\\dagger}\\otimes S^{\\dagger}).\\\\\n",
    "|\\ominus\\oplus\\rangle\\langle \\ominus\\oplus|&=&(S\\otimes S)(H\\otimes H)|10\\rangle\\langle 10|(H\\otimes H)(S^{\\dagger}\\otimes S^{\\dagger}).\\\\\n",
    "\\end{eqnarray}\n",
    "\n"
   ]
  },
  {
   "cell_type": "markdown",
   "metadata": {
    "id": "utzuBj5057RX"
   },
   "source": [
    "# Numpy\n",
    "- Defining the eigenstates, projector operators, and gates that will be used to demonstrate the identites."
   ]
  },
  {
   "cell_type": "code",
   "execution_count": null,
   "metadata": {
    "colab": {
     "base_uri": "https://localhost:8080/"
    },
    "executionInfo": {
     "elapsed": 7,
     "status": "ok",
     "timestamp": 1662047180840,
     "user": {
      "displayName": "Lucas Camponogara Viera",
      "userId": "14322290658374940800"
     },
     "user_tz": -480
    },
    "id": "XcreQB7QtBYv",
    "outputId": "c4423159-2452-4d3d-8ddc-3eb7cc263860"
   },
   "outputs": [
    {
     "data": {
      "text/plain": [
       "((1, 2),\n",
       " (1, 2),\n",
       " (1, 2),\n",
       " (1, 2),\n",
       " (1, 2),\n",
       " (1, 2),\n",
       " (4, 4),\n",
       " (4, 4),\n",
       " (4, 4),\n",
       " (4, 4),\n",
       " (2, 2),\n",
       " (2, 2),\n",
       " (2, 2),\n",
       " (2, 2),\n",
       " (2, 2),\n",
       " (2, 2),\n",
       " (4, 4),\n",
       " (4, 4))"
      ]
     },
     "execution_count": 5,
     "metadata": {},
     "output_type": "execute_result"
    }
   ],
   "source": [
    "'''Eigenstates of the Pauli-Z gate (Z-basis):'''\n",
    "zero=np.array([[1,0]]) # A 2-D row-like (bra vector) numpy array representing the classical state <0|.\n",
    "one=np.array([[0,1]])  # A 2-D row-like (bra vector) numpy array representing the classical state <1|.\n",
    "\n",
    "'''Eigenstates of the Pauli-X gate (X-basis):'''\n",
    "plus=1/(np.sqrt(2))*(zero+one)      # 2-D row-like numpy array (bra vector) representing the superposition state <+| = 1/[sqrt(2)](<0| + <1|).\n",
    "minus=1/(np.sqrt(2))*(zero-one)     # 2-D row-like numpy array (bra vector) representing the superposition state <-| = 1/[sqrt(2)](<0| - <1|).\n",
    "\n",
    "'''Eigenstates of the Pauli-Y gate (Y-basis):'''\n",
    "oplus=1/(np.sqrt(2))*(zero+1j*one)  # 2-D row-like numpy array (bra vector) representing the superposition state <⊕| = 1/[sqrt(2)](<0| + i<1|).\n",
    "ominus=1/(np.sqrt(2))*(zero-1j*one) # 2-D row-like numpy array (bra vector) representing the superposition state <⊖| = 1/[sqrt(2)](<0| - i<1|).\n",
    "\n",
    "'''Projector operators of the ZZ gate:'''\n",
    "#zeros=np.outer(np.kron(zero,zero),np.kron(zero,zero)) # Matrix of the outer product |00><00|.\n",
    "#ones=np.outer(np.kron(one,one),np.kron(one,one))      # Matrix of the outer product |11><11|.\n",
    "#zerone=np.outer(np.kron(zero,one),np.kron(zero,one))  # Matrix of the outer product |01><01|.\n",
    "#onezero=np.outer(np.kron(one,zero),np.kron(one,zero)) # Matrix of the outer product |10><10|.\n",
    "zeros=np.kron(zero.T,zero.T)@np.kron(zero,zero) # Matrix of the outer product |00><00|.\n",
    "ones=np.kron(one.T,one.T)@np.kron(one,one)      # Matrix of the outer product |11><11|.\n",
    "zerone=np.kron(zero.T,one.T)@np.kron(zero,one)  # Matrix of the outer product |01><01|.\n",
    "onezero=np.kron(one.T,zero.T)@np.kron(one,zero) # Matrix of the outer product |10><10|.\n",
    "\n",
    "'''1-qubit gates SU(2):'''\n",
    "had = (1/np.sqrt(2))*np.array([[1,1],[1,-1]]) # Matrix of the Hadamard gate that performs a Pi radian rotation around an axis between the x and z axes.\n",
    "phase = np.array([[1,0],[0,1j]]) #  Matrix of the Phase gate S = P(pi/2) = square-root of Pauli-Z.\n",
    "sigma0 = np.identity(2) # Matrix of the identity gate.\n",
    "sigma1 = np.array([[0,1],[1,0]], dtype=(np.float32)) # Matrix of the Pauli-X gate that performs a Pi radian rotation around the x-axis.\n",
    "sigma2 = np.array([[0,-1j],[1j,0]], dtype=(np.complex64)) # Matrix of the Pauli-Y gate = iXZ.\n",
    "sigma3 = np.array([[1,0],[0,-1]], dtype=(np.float32)) # Matrix of the Pauli-Z gate = P(pi).\n",
    "\n",
    "'''2-qubit gates SU(2x2):'''\n",
    "XX = np.kron(sigma1,sigma1) # Matrix of the XX gate.\n",
    "YY = np.kron(sigma2,sigma2) # Matrix of the YY gate.\n",
    "\n",
    "'''Array dimensions:'''\n",
    "zero.shape, one.shape, plus.shape, minus.shape, oplus.shape, ominus.shape, zeros.shape, ones.shape, zerone.shape, onezero.shape, had.shape, phase.shape, sigma0.shape, sigma1.shape, sigma2.shape, sigma3.shape, XX.shape, YY.shape"
   ]
  },
  {
   "cell_type": "code",
   "execution_count": null,
   "metadata": {
    "id": "-FeWDSc3psVa"
   },
   "outputs": [],
   "source": [
    "def RY(theta: float) -> np.ndarray:\n",
    "  '''\n",
    "  Function to compute the orthogonal matrix (SO(2) group) of the RY(theta) gate that performs a rotation by theta radian around the y-axis.\n",
    "\n",
    "  Args:\n",
    "    - theta (float): angle of rotation in radians.\n",
    "  \n",
    "  Returns:\n",
    "    - RY (numpy.ndarray): the corresponding single qubit rotation matrix around the y-axis.\n",
    "  '''\n",
    "  RY = np.array([\n",
    "    [np.cos(theta/2),-np.sin(theta/2)],\n",
    "    [np.sin(theta/2), np.cos(theta/2)]\n",
    "  ])\n",
    "  return RY\n",
    "\n",
    "ry_pi2 = RY(np.pi/2) # Rotation by pi/2 radian around the y-axis.\n",
    "ry_mpi2 = RY(-np.pi/2) # Rotation by -pi/2 radian around the y-axis."
   ]
  },
  {
   "cell_type": "code",
   "execution_count": null,
   "metadata": {
    "id": "JA1qnQaSlvAU"
   },
   "outputs": [],
   "source": [
    "def RX(theta: float) -> np.ndarray:\n",
    "  '''\n",
    "  Function to compute the orthogonal matrix (SO(2) group) of the RX(theta) gate that performs a rotation by theta radian around the x-axis.\n",
    "\n",
    "  Args:\n",
    "    - theta (float): angle of rotation in radians.\n",
    "  \n",
    "  Returns:\n",
    "    - RX (numpy.ndarray): the corresponding single qubit rotation matrix around the x-axis.\n",
    "  '''\n",
    "  RX = np.array([\n",
    "  [np.cos(theta/2),-1j*np.sin(theta/2)],\n",
    "  [-1j*np.sin(theta/2), np.cos(theta/2)]\n",
    "  ])\n",
    "  return RX\n",
    "\n",
    "rx_pi2 = RX(np.pi/2) # Rotation by pi/2 radian around the x-axis.\n",
    "rx_mpi2 = RX(-np.pi/2) # Rotation by -pi/2 radian around the x-axis."
   ]
  },
  {
   "cell_type": "markdown",
   "metadata": {
    "id": "t3oYZ1YydwtD"
   },
   "source": [
    "# Proving and Verifying Identities"
   ]
  },
  {
   "cell_type": "markdown",
   "metadata": {
    "id": "dlxWB10nN7_O"
   },
   "source": [
    "## $(AB)^{\\dagger} = B^{\\dagger}A^{\\dagger}.$"
   ]
  },
  {
   "cell_type": "markdown",
   "metadata": {
    "id": "UN4S45UFUXGK"
   },
   "source": [
    "Using the matrix representation for operator products, let us denote the $(ij)$-th entry of the matrix representation for the linear transformation AB between matrices $A \\in M^{m,n}$ and  $B \\in M^{n,p}$, as follows:\n",
    "\n",
    "$$C_{ij}=[AB]_{ij} = \\sum_{k=1}^n A_{ik}B_{kj} \\in M^{m,p}.$$\n",
    "\n"
   ]
  },
  {
   "cell_type": "markdown",
   "metadata": {
    "id": "z3FdGtKXOGXa"
   },
   "source": [
    "One then has:\n",
    "\n",
    "\\begin{eqnarray}\n",
    "(C_{ij})^{\\dagger}&=&((C_{ij})^T)^*=(C_{ji})^*=\\Bigg([AB]_{ji}\\Bigg)^* = \\Bigg(\\sum_{k=1}^n A_{jk}B_{ki}\\Bigg)^* = \\sum_{k=1}^n A_{jk}^*B_{ki}^* = \\sum_{k=1}^n B_{ki}^*A_{jk}^*=\\sum_{k=1}^n {(B^T)}^*_{ik}{(A^T)}^*_{kj}\\\\\n",
    "&=&\\sum_{k=1}^n B^{\\dagger}_{ik}A^{\\dagger}_{kj}=[B^{\\dagger}A^{\\dagger}]_{ij}.\n",
    "\\end{eqnarray}\n",
    "\n",
    "Q.E.D."
   ]
  },
  {
   "cell_type": "markdown",
   "metadata": {
    "id": "n3q7o84rp5kk"
   },
   "source": [
    "**Alternative:**\n",
    "\n",
    "Consider the inner product for the *adjoint* of a linear operator $A$ on a Hilbert space $\\mathbb{C}^d$, stated as\n",
    "\n",
    "$$\\langle v|C w\\rangle \\equiv (|v\\rangle, C|w\\rangle)=(C^{\\dagger}|v\\rangle,|w\\rangle).$$\n",
    "\n",
    "one then has:\n",
    "\n",
    "$$ ((AB)^{\\dagger}|v\\rangle, |w\\rangle)=(|v\\rangle, (AB)|w\\rangle) = (|v\\rangle, A(B|w\\rangle))=(A^{\\dagger}|v\\rangle, B|w\\rangle)=(B^{\\dagger}A^{\\dagger}|v\\rangle, |w\\rangle).$$\n",
    "\n",
    "Noting the equality between the first and the last terms:\n",
    "\n",
    "$$((AB)^{\\dagger}|v\\rangle, |w\\rangle)=(B^{\\dagger}A^{\\dagger}|v\\rangle, |w\\rangle)\\implies (AB)^{\\dagger}=B^{\\dagger}A^{\\dagger}.$$\n",
    "\n",
    "Q.E.D."
   ]
  },
  {
   "cell_type": "markdown",
   "metadata": {
    "id": "8JRVm3-Jzhth"
   },
   "source": [
    "## $(A^{\\dagger})^{\\dagger}=A $"
   ]
  },
  {
   "cell_type": "markdown",
   "metadata": {
    "id": "lop9SPL_X8WC"
   },
   "source": [
    "Consider the inner product for the *adjoint* of a linear operator $A$ on a Hilbert space $\\mathbb{C}^d$, stated as\n",
    "\n",
    "$$\\langle v|A w\\rangle \\equiv (|v\\rangle, A|w\\rangle)=(A^{\\dagger}|v\\rangle,|w\\rangle).$$\n",
    "\n",
    "And recall the conjugate symmetry property of the inner product, stated as\n",
    "\n",
    "$$\\langle v|w\\rangle = (\\langle w|v\\rangle)^* \\equiv (|v\\rangle,|w\\rangle)=(|w\\rangle,|v\\rangle)^*.$$ \n",
    "\n",
    "One then has:\n",
    "\n",
    "$$(|v\\rangle, A|w\\rangle)^*=(A|w\\rangle,|v\\rangle)=(A^{\\dagger}|v\\rangle, |w\\rangle)^*=(|w\\rangle, A^{\\dagger}|v\\rangle)=((A^{\\dagger})^{\\dagger}|w\\rangle,|v\\rangle),$$\n",
    "\n",
    "where in the last term, the inner product definition was applied with the substitution $A\\rightarrow A^{\\dagger}$. \n",
    "\n",
    "Noting the equality between the second and the last terms:\n",
    "\n",
    "$$(A|w\\rangle,|v\\rangle)=((A^{\\dagger})^{\\dagger}|w\\rangle,|v\\rangle)\\implies (A^{\\dagger})^{\\dagger}=A.$$\n",
    "\n",
    "\n",
    "Q.E.D."
   ]
  },
  {
   "cell_type": "markdown",
   "metadata": {
    "id": "HZKli9mxzxGi"
   },
   "source": [
    "**Alternative:**\n",
    "\n",
    "Another way to obtain the same result is by using the property (that will be verified later) \n",
    "\n",
    "$$(A|v\\rangle)^{\\dagger} = (|v\\rangle)^{\\dagger}A^{\\dagger} = \\langle v|A^{\\dagger},$$ \n",
    "\n",
    "such that\n",
    "\n",
    "\\begin{eqnarray}\n",
    "(|v\\rangle, A|w\\rangle)&=&(A^{\\dagger}|v\\rangle,|w\\rangle) = (A^{\\dagger}|v\\rangle)^{\\dagger}|w\\rangle = |v\\rangle^{\\dagger}(A^{\\dagger})^{\\dagger}|w\\rangle = \\langle v|(A^{\\dagger})^{\\dagger}|w\\rangle = (|v\\rangle,(A^{\\dagger})^{\\dagger}|w\\rangle) \\\\\n",
    "&\\implies&  (A^\\dagger)^\\dagger=A.\n",
    "\\end{eqnarray}\n",
    "\n",
    "Q.E.D."
   ]
  },
  {
   "cell_type": "markdown",
   "metadata": {
    "id": "r8jiPap9UAvj"
   },
   "source": [
    "## $(A+B)\\otimes C = A\\otimes C+B\\otimes C$\n",
    "\n",
    "**The Kronecker product is right–distributive.**"
   ]
  },
  {
   "cell_type": "markdown",
   "metadata": {
    "id": "oARv2GpZUCcH"
   },
   "source": [
    "**Index notation approach:**\n",
    "\n",
    "\\begin{eqnarray}\n",
    "(A+B)\\otimes C &=& \\Bigg([A_{ij}] + [B_{ij}] \\Bigg) \\otimes C = [A_{ij} + B_{ij}] \\otimes C = [(A_{ij}+B_{ij})C] = [A_{ij}C+B_{ij}C] = [A_{ij}C]+[B_{ij}C] \\\\\n",
    "&=& A\\otimes C+B\\otimes C.\n",
    "\\end{eqnarray}\n",
    "\n",
    "Q.E.D."
   ]
  },
  {
   "cell_type": "markdown",
   "metadata": {
    "id": "6AfZ50Nkcur1"
   },
   "source": [
    "**Matrix approach:**\n"
   ]
  },
  {
   "cell_type": "markdown",
   "metadata": {
    "id": "7uCYy_QCcvUW"
   },
   "source": [
    "\\begin{eqnarray}\n",
    "(A+B)\\otimes C &=& \n",
    "\\Bigg(\n",
    "\\begin{bmatrix} \n",
    "a_{11} &\\cdots& a_{1n}\\\\\n",
    "\\vdots &\\ddots& \\vdots \\\\\n",
    "a_{m1} &\\cdots& a_{mn}\n",
    "\\end{bmatrix}\n",
    "+\n",
    "\\begin{bmatrix} \n",
    "b_{11} &\\cdots& b_{1n}\\\\\n",
    "\\vdots &\\ddots& \\vdots \\\\\n",
    "b_{m1} &\\cdots& b_{mn}\n",
    "\\end{bmatrix}\n",
    "\\Bigg)\n",
    "\\otimes C\n",
    "\\\\\n",
    "&=&\n",
    "\\begin{bmatrix} \n",
    "(a_{11}+b_{11}) &\\cdots& (a_{1n}+b_{1n})\\\\\n",
    "\\vdots &\\ddots& \\vdots \\\\\n",
    "(a_{m1}+b_{m1}) &\\cdots& (a_{mn}+b_{mn})\n",
    "\\end{bmatrix}\n",
    "\\otimes C \\\\\n",
    "&=&\n",
    "\\begin{bmatrix} \n",
    "(a_{11}+b_{11})C &\\cdots& (a_{1n}+b_{1n})C\\\\\n",
    "\\vdots &\\ddots& \\vdots \\\\\n",
    "(a_{m1}+b_{m1})C &\\cdots& (a_{mn}+b_{mn})C\n",
    "\\end{bmatrix} \\\\\n",
    "&=&\n",
    "\\begin{bmatrix} \n",
    "(a_{11}C+b_{11}C) &\\cdots& (a_{1n}C+b_{1n}C)\\\\\n",
    "\\vdots &\\ddots& \\vdots \\\\\n",
    "(a_{m1}C+b_{m1}C) &\\cdots& (a_{mn}C+b_{mn}C)\n",
    "\\end{bmatrix} \\\\\n",
    "&=&\n",
    "\\begin{bmatrix} \n",
    "a_{11}C &\\cdots& a_{1n}C\\\\\n",
    "\\vdots &\\ddots& \\vdots \\\\\n",
    "a_{m1}C &\\cdots& a_{mn}C\n",
    "\\end{bmatrix}\n",
    "+\n",
    "\\begin{bmatrix} \n",
    "b_{11}C &\\cdots& b_{1n}C\\\\\n",
    "\\vdots &\\ddots& \\vdots \\\\\n",
    "b_{m1}C &\\cdots& b_{mn}C\n",
    "\\end{bmatrix}\\\\\n",
    "&=& A\\otimes C+B\\otimes C\n",
    "\\end{eqnarray}\n",
    "\n",
    "Q.E.D."
   ]
  },
  {
   "cell_type": "markdown",
   "metadata": {
    "id": "DnB_dlXYUBt3"
   },
   "source": [
    "## $A \\otimes (B+C) = A\\otimes B+A\\otimes C$\n",
    "\n",
    "**The Kronecker product is left–distributive.**"
   ]
  },
  {
   "cell_type": "markdown",
   "metadata": {
    "id": "0pexjuspUDD1"
   },
   "source": [
    "**Index notation approach:**\n",
    "\n",
    "$$A \\otimes (B+C) = [A_{ij}] \\otimes (B+C) = [A_{ij}(B+C)] = [A_{ij}B + A_{ij}C] = [A_{ij}B] + [A_{ij}C] =A\\otimes B+A\\otimes C.$$\n",
    "\n",
    "Q.E.D."
   ]
  },
  {
   "cell_type": "markdown",
   "metadata": {
    "id": "rAVieW1AcxFG"
   },
   "source": [
    "**Matrix approach:**\n"
   ]
  },
  {
   "cell_type": "markdown",
   "metadata": {
    "id": "_WGo-KhzcxRY"
   },
   "source": [
    "\\begin{eqnarray}\n",
    "A\\otimes (B+C) &=&\n",
    "\\begin{bmatrix} \n",
    "a_{11} &\\cdots& a_{1n}\\\\\n",
    "\\vdots &\\ddots& \\vdots \\\\\n",
    "a_{m1} &\\cdots& a_{mn}\n",
    "\\end{bmatrix}\n",
    "\\otimes (B+C)\n",
    "\\\\\n",
    "&=&\n",
    "\\begin{bmatrix} \n",
    "a_{11}(B+C) &\\cdots& a_{1n}(B+C)\\\\\n",
    "\\vdots &\\ddots& \\vdots \\\\\n",
    "a_{m1}(B+C) &\\cdots& a_{mn}(B+C)\n",
    "\\end{bmatrix}\n",
    "\\\\\n",
    "&=&\n",
    "\\begin{bmatrix} \n",
    "(a_{11}B+a_{11}C) &\\cdots& (a_{1n}B+a_{1n}C)\\\\\n",
    "\\vdots &\\ddots& \\vdots \\\\\n",
    "(a_{m1}B+a_{m1}C) &\\cdots& (a_{mn}B+a_{mn}C)\n",
    "\\end{bmatrix} \\\\\n",
    "&=&\n",
    "\\begin{bmatrix} \n",
    "a_{11}B &\\cdots& a_{1n}B\\\\\n",
    "\\vdots &\\ddots& \\vdots \\\\\n",
    "a_{m1}B &\\cdots& a_{mn}B\n",
    "\\end{bmatrix}\n",
    "+\n",
    "\\begin{bmatrix} \n",
    "a_{11}C &\\cdots& a_{1n}C\\\\\n",
    "\\vdots &\\ddots& \\vdots \\\\\n",
    "a_{m1}C &\\cdots& a_{mn}C\n",
    "\\end{bmatrix}\\\\\n",
    "&=& A\\otimes B+A\\otimes C\n",
    "\\end{eqnarray}\n",
    "\n",
    "Q.E.D."
   ]
  },
  {
   "cell_type": "markdown",
   "metadata": {
    "id": "Sy1J816qq8Ll"
   },
   "source": [
    "## $(A+B) \\otimes (C+D) = A\\otimes C+A\\otimes D+B\\otimes C+B\\otimes D$\n"
   ]
  },
  {
   "cell_type": "markdown",
   "metadata": {
    "id": "L8w-v2_rq8jY"
   },
   "source": [
    "Using the left-distributive property, one gets\n",
    "\n",
    "$$(A+B) \\otimes (C+D) =  A\\otimes (C+D)+B\\otimes (C+D),$$\n",
    "\n",
    "finally, the right-distributive property yields\n",
    "\n",
    "$$A\\otimes (C+D)+B\\otimes (C+D) =  A\\otimes C+A\\otimes D+B\\otimes C+B\\otimes D.$$\n",
    "\n",
    "Q.E.D."
   ]
  },
  {
   "cell_type": "markdown",
   "metadata": {
    "id": "rh0zMoBap3ed"
   },
   "source": [
    "## $(A\\otimes B)(C\\otimes D) = AC\\otimes BD$\n",
    "\n",
    "**Mixed product property.**"
   ]
  },
  {
   "cell_type": "markdown",
   "metadata": {
    "id": "EmVweOi3m3ks"
   },
   "source": [
    "**Index notation approach:**\n"
   ]
  },
  {
   "cell_type": "markdown",
   "metadata": {
    "id": "qcm_rTreq4A8"
   },
   "source": [
    "Let $A \\in M^{m,n}, B \\in M^{p,q}, C \\in M^{n,s}, D \\in M^{q,r}$ be retangular matrices such that the matrix products are well defined:\n",
    "\n",
    "$$[AC]_{ij} = \\sum_{k=1}^n A_{ik}C_{kj} \\in M^{m,s},$$\n",
    "\n",
    "\n",
    "for $i=1,\\cdots,m$ and $j=1,\\cdots,s$.\n",
    "\n",
    "And \n",
    "$$[BD]_{ij} = \\sum_{k=1}^q B_{ik}D_{kj} \\in M^{p,r},$$ \n",
    "\n",
    "for $i=1,\\cdots,p$ and $j=1,\\cdots,r$.\n",
    "\n",
    "Each corresponding to the ($ij$)-th entry of their resulting matrix after multiplication.\n",
    "\n",
    "One also has\n",
    "\n",
    "$$ A \\otimes B \\equiv [A_{ik}B] \\in M^{mp, nq},$$\n",
    "\n",
    "and \n",
    "\n",
    "$$ C \\otimes D \\equiv [C_{kj}D] \\in M^{nq, sr}.$$\n",
    "\n",
    "With that, one has\n",
    "\n",
    "\\begin{eqnarray}\n",
    "[(A\\otimes B)(C\\otimes D)]_{ij} &=& \\sum_{k'=1}^{nq} \\Bigg([A_{ik}B]_{i'k'} [C_{kj}D]_{k'j'}\\Bigg)=\n",
    "\\sum_{k=1}^n A_{ik}BC_{kj}D\\\\\n",
    "&=&\\Bigg(\\sum_{k=1}^n A_{ik}C_{kj}\\Bigg)(BD)\n",
    "=[AC]_{ij}(BD)\\\\\n",
    "&=& [(AC) \\otimes (BD)]_{ij},\n",
    "\\end{eqnarray}\n",
    "\n",
    "which is the $(ij)$-th block of $(A\\otimes B)(C\\otimes D) = AC\\otimes BD$.\n",
    "\n",
    "Q.E.D."
   ]
  },
  {
   "cell_type": "markdown",
   "metadata": {
    "id": "ZgGgjhQvmcbL"
   },
   "source": [
    "**Matrix approach:**\n"
   ]
  },
  {
   "cell_type": "markdown",
   "metadata": {
    "id": "nICCUBzCmhVu"
   },
   "source": [
    "\\begin{eqnarray}\n",
    "(A\\otimes B)(C\\otimes D) &=&\n",
    "\\begin{bmatrix} \n",
    "A_{11} B && \\cdots && A_{1n} B \\\\ \n",
    "\\vdots  &&\\ddots  && \\vdots \\\\ \n",
    "A_{m1} B && \\cdots && A_{mn} B\n",
    "\\end{bmatrix}\n",
    "\\begin{bmatrix} \n",
    "C_{11} D && \\cdots && C_{1s} D \\\\ \n",
    "\\vdots  &&\\ddots  && \\vdots \\\\ \n",
    "C_{n1} D && \\cdots && C_{ns} D\n",
    "\\end{bmatrix}\\\\\n",
    "&=& \n",
    "\\begin{bmatrix} \n",
    "(A_{11}BC_{11}D +\\cdots+ A_{1n}BC_{n1}D) & \\cdots & (A_{11}BC_{1s}D +\\cdots+ A_{1n}BC_{ns}D) \\\\ \n",
    "\\vdots  &\\ddots& \\vdots \\\\ \n",
    "(A_{m1}BC_{11}D + \\cdots + A_{mn}BC_{n1}D) &\\cdots& (A_{m1}BC_{1s}D + \\cdots + A_{mn}BC_{ns}D)\n",
    "\\end{bmatrix}\\\\\n",
    "&=&\n",
    "\\begin{bmatrix} \n",
    "(A_{11}C_{11} +\\cdots+ A_{1n}C_{n1})BD & \\cdots & (A_{11}C_{1s} +\\cdots+ A_{1n}C_{ns})BD \\\\ \n",
    "\\vdots  &\\ddots& \\vdots \\\\ \n",
    "(A_{m1}C_{11} + \\cdots + A_{mn}C_{n1})BD &\\cdots& (A_{m1}C_{1s} + \\cdots + A_{mn}C_{ns})BD\n",
    "\\end{bmatrix}\\\\\n",
    "&=&\n",
    "\\begin{bmatrix} \n",
    "\\Bigg(\\sum_{k=1}^n A_{1k}C_{k1}\\Bigg)BD && \\cdots && \\Bigg(\\sum_{k=1}^n A_{1k}C_{ks}\\Bigg)BD \\\\ \n",
    "\\vdots  &&\\ddots  && \\vdots \\\\ \n",
    "\\Bigg(\\sum_{k=1}^n A_{mk}C_{k1}\\Bigg)BD && \\cdots && \\Bigg(\\sum_{k=1}^n A_{mk}C_{ks}\\Bigg)BD\n",
    "\\end{bmatrix}\\\\\n",
    "&=&\n",
    "\\begin{bmatrix} \n",
    "(AC)_{11}BD && \\cdots && (AC)_{1s}BD\\\\ \n",
    "\\vdots  &&\\ddots  && \\vdots \\\\ \n",
    "(AC)_{m1}BD && \\cdots && (AC)_{ms}BD\n",
    "\\end{bmatrix}\\\\\n",
    "&=&\n",
    "\\begin{bmatrix} \n",
    "(AC)_{11} && \\cdots && (AC)_{1s}\\\\ \n",
    "\\vdots  &&\\ddots  && \\vdots \\\\ \n",
    "(AC)_{m1} && \\cdots && (AC)_{ms}\n",
    "\\end{bmatrix}\n",
    "\\otimes BD\n",
    "\\\\\n",
    "&=& AC\\otimes BD\n",
    "\\end{eqnarray}\n",
    "\n",
    "Q.E.D."
   ]
  },
  {
   "cell_type": "markdown",
   "metadata": {
    "id": "5j32HyrMrOaE"
   },
   "source": [
    "## $(|a\\rangle + |b\\rangle)\\otimes(|c\\rangle + |d\\rangle)=|a\\rangle \\otimes |c\\rangle + |a\\rangle \\otimes |d\\rangle + |b\\rangle \\otimes |c\\rangle + |b\\rangle \\otimes |d\\rangle$\n",
    "\n",
    "**Distributive property.**"
   ]
  },
  {
   "cell_type": "markdown",
   "metadata": {
    "id": "LF-llFESVAoj"
   },
   "source": [
    "**Index notation approach:**\n"
   ]
  },
  {
   "cell_type": "markdown",
   "metadata": {
    "id": "0gAf0z-mrPYo"
   },
   "source": [
    "Let's first compute the right-distributive property:\n",
    "\n",
    "\\begin{eqnarray}\n",
    "(|a\\rangle+|b\\rangle)\\otimes |c\\rangle &=& \\Bigg([a_{j}] + [b_{j}] \\Bigg) \\otimes |c\\rangle = [a_j + b_j] \\otimes |c\\rangle = [(a_j + b_j) |c\\rangle] = [a_j |c\\rangle + b_j |c\\rangle] = [a_j |c\\rangle] + [b_j |c\\rangle] \\\\\n",
    "&=&\n",
    "|a\\rangle \\otimes |c\\rangle+ |b\\rangle \\otimes |c\\rangle.\n",
    "\\end{eqnarray}\n",
    "\n",
    "Let's now compute the left-distributive property:\n",
    "\n",
    "\\begin{eqnarray}\n",
    "|a\\rangle \\otimes (|b\\rangle+|c\\rangle) = [a_j (|b\\rangle+|c\\rangle)] = [a_j |b\\rangle  + a_j |c\\rangle] = [a_j |b\\rangle] + [a_j |c\\rangle] = |a\\rangle \\otimes |b\\rangle + |a\\rangle \\otimes |c\\rangle.\n",
    "\\end{eqnarray}\n",
    "\n",
    "Using both properties, one finally gets:\n",
    "\n",
    "\\begin{eqnarray}\n",
    "(|a\\rangle+|b\\rangle)\\otimes (|c\\rangle+|d\\rangle) &=& |a\\rangle \\otimes (|c\\rangle+|d\\rangle) + |b\\rangle \\otimes (|c\\rangle+|d\\rangle) \\\\\n",
    "&=& |a\\rangle \\otimes |c\\rangle + |a\\rangle \\otimes |d\\rangle + |b\\rangle \\otimes |c\\rangle + |b\\rangle \\otimes |d\\rangle.\n",
    "\\end{eqnarray}\n",
    "\n",
    "Q.E.D."
   ]
  },
  {
   "cell_type": "markdown",
   "metadata": {
    "id": "8reczGGXXwbq"
   },
   "source": [
    "## $|a\\rangle \\otimes \\langle b| = |a\\rangle \\langle b|$\n"
   ]
  },
  {
   "cell_type": "markdown",
   "metadata": {
    "id": "r-5OZGtv_Doh"
   },
   "source": [
    "**Index notation approach:**\n"
   ]
  },
  {
   "cell_type": "markdown",
   "metadata": {
    "id": "TuLsaq4VXxAe"
   },
   "source": [
    "$\\forall \\hspace{1mm} |a\\rangle, |b\\rangle \\in \\mathbb{C}^n$:\n",
    "\n",
    "$$|a\\rangle \\otimes \\langle b| = [a_i \\langle b|] = [a_i b^*_j] = |a\\rangle \\langle b|,$$\n",
    "\n",
    "for $i, j=1, \\cdots, n$.\n",
    "\n",
    "Q.E.D."
   ]
  },
  {
   "cell_type": "markdown",
   "metadata": {
    "id": "YhEo4jrY_ERH"
   },
   "source": [
    "**Matrix approach:**\n"
   ]
  },
  {
   "cell_type": "markdown",
   "metadata": {
    "id": "wCpskeqU_GNF"
   },
   "source": [
    "\\begin{eqnarray}\n",
    "|a\\rangle \\otimes \\langle b| &=& \n",
    "\\begin{bmatrix} \n",
    "a_1 \\\\ \n",
    "\\vdots \\\\\n",
    "a_n\n",
    "\\end{bmatrix}\n",
    "\\otimes\n",
    "\\begin{bmatrix} \n",
    "b^*_1 &\\cdots& b^*_n\n",
    "\\end{bmatrix} \n",
    "=\n",
    "\\begin{bmatrix} \n",
    "a_1 [b^*_1 &\\cdots& b^*_n] \\\\\n",
    "&\\vdots& \\\\\n",
    "a_n [b^*_1 &\\cdots& b^*_n]\n",
    "\\end{bmatrix}\n",
    "=\n",
    "\\begin{bmatrix} \n",
    "a_1b^*_1 & a_1b^*_2 &\\cdots& a_1b^*_n \\\\\n",
    "\\vdots & \\vdots & \\cdots & \\vdots \\\\\n",
    "a_nb^*_1 & a_nb^*_2 & \\cdots & a_nb^*_n\n",
    "\\end{bmatrix}.\n",
    "\\\\\n",
    "|a\\rangle \\langle b| &=& \n",
    "\\begin{bmatrix} \n",
    "a_1 \\\\ \n",
    "\\vdots \\\\\n",
    "a_n\n",
    "\\end{bmatrix}\n",
    "\\begin{bmatrix} \n",
    "b^*_1 &\\cdots& b^*_n\n",
    "\\end{bmatrix} \n",
    "=\n",
    "\\begin{bmatrix} \n",
    "a_1b^*_1 & a_1b^*_2 &\\cdots& a_1b^*_n \\\\\n",
    "\\vdots & \\vdots & \\cdots & \\vdots \\\\\n",
    "a_nb^*_1 & a_nb^*_2 & \\cdots & a_nb^*_n\n",
    "\\end{bmatrix}.\n",
    "\\\\ &\\implies& |a\\rangle \\otimes \\langle b| = |a\\rangle \\langle b|.\n",
    "\\end{eqnarray}\n",
    "\n",
    "Q.E.D."
   ]
  },
  {
   "cell_type": "markdown",
   "metadata": {
    "id": "b7fab640-60fe-4291-ac17-51c11c156a5f"
   },
   "source": [
    "## $(|a\\rangle \\langle c|) \\otimes (|b\\rangle \\langle d|)  = \\big(|a\\rangle \\otimes |b\\rangle\\big)\\big(\\langle c| \\otimes \\langle d|\\big) \\equiv |ab\\rangle \\langle cd|$"
   ]
  },
  {
   "cell_type": "markdown",
   "metadata": {
    "id": "-p8sxmhg5GAR"
   },
   "source": [
    "Note: the verification will be carried out for state vectors in the two-dimensional Hilbert space, but it can be extended to a space of $n$-dimensions."
   ]
  },
  {
   "cell_type": "code",
   "execution_count": null,
   "metadata": {
    "colab": {
     "base_uri": "https://localhost:8080/"
    },
    "executionInfo": {
     "elapsed": 6,
     "status": "ok",
     "timestamp": 1662047180841,
     "user": {
      "displayName": "Lucas Camponogara Viera",
      "userId": "14322290658374940800"
     },
     "user_tz": -480
    },
    "id": "SgS8YMBG5hxk",
    "outputId": "d62d3417-9201-4ed7-f972-c1268601c1c4"
   },
   "outputs": [
    {
     "data": {
      "text/plain": [
       "((2, 1), (2, 1), (1, 2), (1, 2))"
      ]
     },
     "execution_count": 8,
     "metadata": {},
     "output_type": "execute_result"
    }
   ],
   "source": [
    "'''Defining 2D state vectors with SymPy. Recall that for the kronecker product, the shape of the matrices do matter.'''\n",
    "\n",
    "a1,a2,b1,b2,c1,c2,d1,d2=sym.symbols('a1,a2,b1,b2,c1,c2,d1,d2') # Unpacking\n",
    "\n",
    "# 2-D column-like arrays representing ket vectors:\n",
    "a=sym.Matrix([[a1,a2]]).T  \n",
    "b=sym.Matrix([[b1,b2]]).T \n",
    "\n",
    "# 2-D row-like arrays representing bra vectors:\n",
    "c=sym.Matrix([[c1,c2]])  \n",
    "d=sym.Matrix([[d1,d2]]) \n",
    "\n",
    "# Reading dimensions:\n",
    "a.shape, b.shape, c.shape, d.shape"
   ]
  },
  {
   "cell_type": "markdown",
   "metadata": {
    "id": "vyWqJ6eF4-z7"
   },
   "source": [
    "### **Matrix approach:**\n",
    "\n"
   ]
  },
  {
   "cell_type": "markdown",
   "metadata": {
    "id": "qymBc1A321dP"
   },
   "source": [
    "**Left hand side:**\n",
    "\n",
    "For any vectors $|a\\rangle$, $|b\\rangle \\in \\mathbb{C}^2$:\n",
    "\n",
    "\\begin{eqnarray}\n",
    "(|a\\rangle \\langle c|) \\otimes (|b\\rangle \\langle d|) &=& \n",
    "\\Bigg(\n",
    "\\begin{bmatrix} \n",
    "a_1 \\\\ \n",
    "a_2\n",
    "\\end{bmatrix}\n",
    "\\begin{bmatrix} \n",
    "c_1 & c_2\n",
    "\\end{bmatrix}\n",
    "\\Bigg)\n",
    "\\otimes\n",
    "\\Bigg(\n",
    "\\begin{bmatrix} \n",
    "b_1 \\\\ \n",
    "b_2\n",
    "\\end{bmatrix}\n",
    "\\begin{bmatrix} \n",
    "d_1 & d_2\n",
    "\\end{bmatrix} \\Bigg) \\\\\n",
    "&=&\n",
    "\\begin{bmatrix} \n",
    "a1c1 & a1c2 \\\\\n",
    "a2c1 & a2c2\n",
    "\\end{bmatrix}\n",
    "\\otimes\n",
    "\\begin{bmatrix} \n",
    "b1d1 & b1d2 \\\\\n",
    "b2d1 & b2d2\n",
    "\\end{bmatrix} \\\\\n",
    "&=& \n",
    "\\begin{bmatrix} \n",
    "a1c1\\begin{bmatrix} \n",
    "b1d1 & b1d2 \\\\\n",
    "b2d1 & b2d2\n",
    "\\end{bmatrix}  & a1c2\\begin{bmatrix} \n",
    "b1d1 & b1d2 \\\\\n",
    "b2d1 & b2d2\n",
    "\\end{bmatrix}  \\\\\n",
    "a2c1\\begin{bmatrix} \n",
    "b1d1 & b1d2 \\\\\n",
    "b2d1 & b2d2\n",
    "\\end{bmatrix}  & a2c2\\begin{bmatrix} \n",
    "b1d1 & b1d2 \\\\\n",
    "b2d1 & b2d2\n",
    "\\end{bmatrix} \n",
    "\\end{bmatrix} \\\\\n",
    "&=& \n",
    "\\begin{bmatrix} \n",
    "a1c1 b1d1 & a1c1 b1d2 & a1c2 b1d1 & a1c2 b1d2\\\\\n",
    "a1c1 b2d1 & a1c1 b2d2 & a1c2 b2d1 & a1c2 b2d2\\\\\n",
    "a2c1 b1d1 & a2c1 b1d2 & a2c2 b1d1 & a2c2 b1d2\\\\\n",
    "a2c1 b2d1 & a2c1 b2d2 & a2c2 b2d1 & a2c2 b2d2\\\\\n",
    "\\end{bmatrix} \\\\\n",
    "&=&\n",
    "\\begin{bmatrix} \n",
    "a1b1c1d1 & a1b1c1d2 & a1b1c2d1 & a1b1c2d2 \\\\\n",
    "a1b2c1d1 & a1b2c1d2 & a1b2c2d1 & a1b2c2d2 \\\\\n",
    "a2b1c1d1 & a2b1c1d2 & a2b1c2d1 & a2b1c2d2 \\\\\n",
    "a2b2c1d1 & a2b2c1d2 & a2b2c2d1 & a2b2c2d2 \\\\\n",
    "\\end{bmatrix}.\n",
    "\\end{eqnarray}\n",
    "\n",
    "Q.E.D."
   ]
  },
  {
   "cell_type": "markdown",
   "metadata": {
    "id": "kSgv4GUZ8Y7J"
   },
   "source": [
    "**Right hand side:**\n",
    "\n",
    "For any vectors $|a\\rangle$, $|b\\rangle \\in \\mathbb{C}^2$:\n",
    "\n",
    "\\begin{eqnarray}\n",
    "\\big(|a\\rangle \\otimes |b\\rangle\\big)\\big(\\langle c| \\otimes \\langle d|\\big) &=&\n",
    "\\Bigg(\n",
    "\\begin{bmatrix} \n",
    "a_1 \\\\ \n",
    "a_2\n",
    "\\end{bmatrix}\n",
    "\\otimes\n",
    "\\begin{bmatrix} \n",
    "b_1 \\\\ \n",
    "b_2\n",
    "\\end{bmatrix}\n",
    "\\Bigg)\n",
    "\\Bigg(\n",
    "\\begin{bmatrix} \n",
    "c_1 & c_2\n",
    "\\end{bmatrix}\n",
    "\\otimes\n",
    "\\begin{bmatrix} \n",
    "d_1 & d_2\n",
    "\\end{bmatrix} \\Bigg) \\\\\n",
    "&=&\n",
    "\\begin{bmatrix} \n",
    "a_1 b_1 \\\\ \n",
    "a_1 b_2\\\\\n",
    "a_2 b_1 \\\\\n",
    "a_2 b_2\n",
    "\\end{bmatrix}\n",
    "\\begin{bmatrix} \n",
    "c_1d_1 & c_1d_2 & c_2d_1 & c_2d_2\n",
    "\\end{bmatrix} \\\\\n",
    "&=& \n",
    "\\begin{bmatrix} \n",
    "a1b1c1d1 & a1b1c1d2 & a1b1c2d1 & a1b1c2d2 \\\\\n",
    "a1b2c1d1 & a1b2c1d2 & a1b2c2d1 & a1b2c2d2 \\\\\n",
    "a2b1c1d1 & a2b1c1d2 & a2b1c2d1 & a2b1c2d2 \\\\\n",
    "a2b2c1d1 & a2b2c1d2 & a2b2c2d1 & a2b2c2d2 \\\\\n",
    "\\end{bmatrix}.\n",
    "\\end{eqnarray}"
   ]
  },
  {
   "cell_type": "markdown",
   "metadata": {
    "id": "QSZIi6ATn4AX"
   },
   "source": [
    "### **Verifying with SymPy:**"
   ]
  },
  {
   "cell_type": "code",
   "execution_count": null,
   "metadata": {
    "colab": {
     "base_uri": "https://localhost:8080/"
    },
    "executionInfo": {
     "elapsed": 6,
     "status": "ok",
     "timestamp": 1662047180841,
     "user": {
      "displayName": "Lucas Camponogara Viera",
      "userId": "14322290658374940800"
     },
     "user_tz": -480
    },
    "id": "p2BO8vOLzVuw",
    "outputId": "79f8334e-40d2-4f5b-dc20-9e3283f091a3"
   },
   "outputs": [
    {
     "data": {
      "text/plain": [
       "True"
      ]
     },
     "execution_count": 9,
     "metadata": {},
     "output_type": "execute_result"
    }
   ],
   "source": [
    "# Using SymPy's TensorProduct:\n",
    "\n",
    "TensorProduct(a*c,b*d) == TensorProduct(a,b)*TensorProduct(c,d)"
   ]
  },
  {
   "cell_type": "markdown",
   "metadata": {
    "id": "HvWn175P0bXC"
   },
   "source": [
    "### **Verifying with NumPy:**"
   ]
  },
  {
   "cell_type": "code",
   "execution_count": null,
   "metadata": {
    "colab": {
     "base_uri": "https://localhost:8080/"
    },
    "executionInfo": {
     "elapsed": 6,
     "status": "ok",
     "timestamp": 1662047180841,
     "user": {
      "displayName": "Lucas Camponogara Viera",
      "userId": "14322290658374940800"
     },
     "user_tz": -480
    },
    "id": "e3e9db92-6676-43d4-b600-4a6676ff8b56",
    "outputId": "5127cf7a-102b-4181-e0ca-8ebcefc6b1c9"
   },
   "outputs": [
    {
     "data": {
      "text/plain": [
       "True"
      ]
     },
     "execution_count": 10,
     "metadata": {},
     "output_type": "execute_result"
    }
   ],
   "source": [
    "# Using outer product:\n",
    "\n",
    "(np.kron(np.outer(a,c),np.outer(b,d)) == (np.kron(a,b))@(np.kron(c,d))).all() "
   ]
  },
  {
   "cell_type": "code",
   "execution_count": null,
   "metadata": {
    "colab": {
     "base_uri": "https://localhost:8080/"
    },
    "executionInfo": {
     "elapsed": 5,
     "status": "ok",
     "timestamp": 1662047180841,
     "user": {
      "displayName": "Lucas Camponogara Viera",
      "userId": "14322290658374940800"
     },
     "user_tz": -480
    },
    "id": "69e74c74-c08f-4cb3-b419-8f0a5b17db2e",
    "outputId": "e2ec3caf-3c0c-4925-f74c-ebde8e80595f"
   },
   "outputs": [
    {
     "data": {
      "text/plain": [
       "True"
      ]
     },
     "execution_count": 11,
     "metadata": {},
     "output_type": "execute_result"
    }
   ],
   "source": [
    "# Using NumPy's '@' operator:\n",
    "\n",
    "(np.kron(a@c, b@d) == (np.kron(a,b))@(np.kron(c,d))).all() "
   ]
  },
  {
   "cell_type": "code",
   "execution_count": null,
   "metadata": {
    "colab": {
     "base_uri": "https://localhost:8080/"
    },
    "executionInfo": {
     "elapsed": 6,
     "status": "ok",
     "timestamp": 1662047180842,
     "user": {
      "displayName": "Lucas Camponogara Viera",
      "userId": "14322290658374940800"
     },
     "user_tz": -480
    },
    "id": "a3412b1d-521e-4790-9fdc-f1929510d3f9",
    "outputId": "8d2e9d93-121b-45fc-fd71-ec113c3f8e65"
   },
   "outputs": [
    {
     "data": {
      "text/plain": [
       "array([[a1*b1*c1*d1, a1*b1*c1*d2, a1*b1*c2*d1, a1*b1*c2*d2],\n",
       "       [a1*b2*c1*d1, a1*b2*c1*d2, a1*b2*c2*d1, a1*b2*c2*d2],\n",
       "       [a2*b1*c1*d1, a2*b1*c1*d2, a2*b1*c2*d1, a2*b1*c2*d2],\n",
       "       [a2*b2*c1*d1, a2*b2*c1*d2, a2*b2*c2*d1, a2*b2*c2*d2]], dtype=object)"
      ]
     },
     "execution_count": 12,
     "metadata": {},
     "output_type": "execute_result"
    }
   ],
   "source": [
    "# Visualizing the left side using outer product:\n",
    "\n",
    "np.kron(np.outer(a,c),np.outer(b,d))"
   ]
  },
  {
   "cell_type": "code",
   "execution_count": null,
   "metadata": {
    "colab": {
     "base_uri": "https://localhost:8080/"
    },
    "executionInfo": {
     "elapsed": 6,
     "status": "ok",
     "timestamp": 1662047180842,
     "user": {
      "displayName": "Lucas Camponogara Viera",
      "userId": "14322290658374940800"
     },
     "user_tz": -480
    },
    "id": "357f39c9-7e27-4361-ae0e-f534602ef056",
    "outputId": "ad3483c7-6414-44a4-f424-08d62ba156df"
   },
   "outputs": [
    {
     "data": {
      "text/plain": [
       "array([[a1*b1*c1*d1, a1*b1*c1*d2, a1*b1*c2*d1, a1*b1*c2*d2],\n",
       "       [a1*b2*c1*d1, a1*b2*c1*d2, a1*b2*c2*d1, a1*b2*c2*d2],\n",
       "       [a2*b1*c1*d1, a2*b1*c1*d2, a2*b1*c2*d1, a2*b1*c2*d2],\n",
       "       [a2*b2*c1*d1, a2*b2*c1*d2, a2*b2*c2*d1, a2*b2*c2*d2]], dtype=object)"
      ]
     },
     "execution_count": 13,
     "metadata": {},
     "output_type": "execute_result"
    }
   ],
   "source": [
    "# Visualizing the left side (using NumPy @ operator):\n",
    "\n",
    "np.kron(a@c, b@d)"
   ]
  },
  {
   "cell_type": "code",
   "execution_count": null,
   "metadata": {
    "colab": {
     "base_uri": "https://localhost:8080/"
    },
    "executionInfo": {
     "elapsed": 5,
     "status": "ok",
     "timestamp": 1662047180842,
     "user": {
      "displayName": "Lucas Camponogara Viera",
      "userId": "14322290658374940800"
     },
     "user_tz": -480
    },
    "id": "f5c08a0f-7932-498b-bf03-15b360a2a666",
    "outputId": "40e9c3fa-cac9-475a-a356-2a5f4dbc49f1"
   },
   "outputs": [
    {
     "data": {
      "text/plain": [
       "array([[a1*b1*c1*d1, a1*b1*c1*d2, a1*b1*c2*d1, a1*b1*c2*d2],\n",
       "       [a1*b2*c1*d1, a1*b2*c1*d2, a1*b2*c2*d1, a1*b2*c2*d2],\n",
       "       [a2*b1*c1*d1, a2*b1*c1*d2, a2*b1*c2*d1, a2*b1*c2*d2],\n",
       "       [a2*b2*c1*d1, a2*b2*c1*d2, a2*b2*c2*d1, a2*b2*c2*d2]], dtype=object)"
      ]
     },
     "execution_count": 14,
     "metadata": {},
     "output_type": "execute_result"
    }
   ],
   "source": [
    "# Visualizing the right side:\n",
    "\n",
    "(np.kron(a,b))@(np.kron(c,d))"
   ]
  },
  {
   "cell_type": "markdown",
   "metadata": {
    "id": "VOJRQ1w_dwrM"
   },
   "source": [
    "## $(A|v\\rangle)^{\\dagger} = |v\\rangle^{\\dagger}A^{\\dagger} = \\langle v| A^{\\dagger}$"
   ]
  },
  {
   "cell_type": "markdown",
   "metadata": {
    "id": "6LwKFvb3MoCW"
   },
   "source": [
    "Consider the inner product for the *adjoint* of a linear operator $A$ on a Hilbert space $\\mathbb{C}^d$, stated as\n",
    "\n",
    "$$\\langle w|A v\\rangle \\equiv (|w\\rangle, A|v\\rangle)=(A^{\\dagger}|w\\rangle,|v\\rangle).$$\n",
    "\n",
    "One then has\n",
    "\n",
    "\\begin{eqnarray}\n",
    "(|w\\rangle, A|v\\rangle)^*=(A|v\\rangle,|w\\rangle)=(A|v\\rangle)^{\\dagger}|w\\rangle=(A^{\\dagger}|w\\rangle,|v\\rangle)^*=(|v\\rangle,A^{\\dagger}|w\\rangle)=|v\\rangle^{\\dagger}A^{\\dagger}|w\\rangle.\n",
    "\\end{eqnarray}\n",
    "\n",
    "Noting the equality between the third and the last terms:\n",
    "\n",
    "$$(A|v\\rangle)^{\\dagger}|w\\rangle = |v\\rangle^{\\dagger}A^{\\dagger}|w\\rangle \\implies (A|v\\rangle)^{\\dagger}=|v\\rangle^{\\dagger} A^{\\dagger}.$$\n",
    "Q.E.D."
   ]
  },
  {
   "cell_type": "markdown",
   "metadata": {
    "id": "NNFyBlG94rym"
   },
   "source": [
    "## $A |v\\rangle \\otimes B |w\\rangle = (A\\otimes B)(|v\\rangle \\otimes |w\\rangle) \\equiv (A\\otimes B)|vw\\rangle$"
   ]
  },
  {
   "cell_type": "markdown",
   "metadata": {
    "id": "2ueHZQ2D5Unu"
   },
   "source": [
    "Note: the verification will be carried out for state vectors in the two-dimensional Hilbert space, but it can be extended to a space of $n$-dimensions."
   ]
  },
  {
   "cell_type": "code",
   "execution_count": null,
   "metadata": {
    "colab": {
     "base_uri": "https://localhost:8080/"
    },
    "executionInfo": {
     "elapsed": 5,
     "status": "ok",
     "timestamp": 1662047180842,
     "user": {
      "displayName": "Lucas Camponogara Viera",
      "userId": "14322290658374940800"
     },
     "user_tz": -480
    },
    "id": "aJjkKvYBnmVc",
    "outputId": "3d2c4f7b-45e5-4b65-8f52-5cbd1ac96b3f"
   },
   "outputs": [
    {
     "data": {
      "text/plain": [
       "((2, 1), (2, 1), (2, 2), (2, 2))"
      ]
     },
     "execution_count": 15,
     "metadata": {},
     "output_type": "execute_result"
    }
   ],
   "source": [
    "'''Definitions.'''\n",
    "\n",
    "A11, A12, A21, A22, B11, B12, B21, B22,v1,v2,w1,w2=sym.symbols('A11, A12, A21, A22, B11, B12, B21, B22,v1,v2,w1,w2') # Unpacking\n",
    "\n",
    "# 2-D column-like arrays representing ket vectors:\n",
    "v=sym.Matrix([[v1,v2]]).T  \n",
    "w=sym.Matrix([[w1,w2]]).T \n",
    "\n",
    "# 2x2 matrices:\n",
    "A=np.array([[A11,A12],[A21,A22]])\n",
    "B=np.array([[B11,B12],[B21,B22]])\n",
    "\n",
    "# Reading dimensions:\n",
    "v.shape, w.shape, A.shape, B.shape"
   ]
  },
  {
   "cell_type": "markdown",
   "metadata": {
    "id": "PxWzSF8Y5Unu"
   },
   "source": [
    "### **Verifying with SymPy:**"
   ]
  },
  {
   "cell_type": "code",
   "execution_count": null,
   "metadata": {
    "colab": {
     "base_uri": "https://localhost:8080/"
    },
    "executionInfo": {
     "elapsed": 584,
     "status": "ok",
     "timestamp": 1662047181422,
     "user": {
      "displayName": "Lucas Camponogara Viera",
      "userId": "14322290658374940800"
     },
     "user_tz": -480
    },
    "id": "p0xpvC4Ay4Vc",
    "outputId": "5f7b7b2b-edc4-44b0-a6de-fe061625427b"
   },
   "outputs": [
    {
     "data": {
      "text/plain": [
       "True"
      ]
     },
     "execution_count": 16,
     "metadata": {},
     "output_type": "execute_result"
    }
   ],
   "source": [
    "TensorProduct(A*v, B*w).expand() == TensorProduct(A, B)*TensorProduct(v,w)"
   ]
  },
  {
   "cell_type": "code",
   "execution_count": null,
   "metadata": {
    "colab": {
     "base_uri": "https://localhost:8080/",
     "height": 98
    },
    "executionInfo": {
     "elapsed": 11,
     "status": "ok",
     "timestamp": 1662047181423,
     "user": {
      "displayName": "Lucas Camponogara Viera",
      "userId": "14322290658374940800"
     },
     "user_tz": -480
    },
    "id": "ShOnsDL14bPN",
    "outputId": "8446536e-fe55-4248-8b94-3b417e23a22d"
   },
   "outputs": [
    {
     "data": {
      "text/latex": [
       "$\\displaystyle \\left[\\begin{matrix}A_{11} B_{11} v_{1} w_{1} + A_{11} B_{12} v_{1} w_{2} + A_{12} B_{11} v_{2} w_{1} + A_{12} B_{12} v_{2} w_{2}\\\\A_{11} B_{21} v_{1} w_{1} + A_{11} B_{22} v_{1} w_{2} + A_{12} B_{21} v_{2} w_{1} + A_{12} B_{22} v_{2} w_{2}\\\\A_{21} B_{11} v_{1} w_{1} + A_{21} B_{12} v_{1} w_{2} + A_{22} B_{11} v_{2} w_{1} + A_{22} B_{12} v_{2} w_{2}\\\\A_{21} B_{21} v_{1} w_{1} + A_{21} B_{22} v_{1} w_{2} + A_{22} B_{21} v_{2} w_{1} + A_{22} B_{22} v_{2} w_{2}\\end{matrix}\\right]$"
      ],
      "text/plain": [
       "Matrix([\n",
       "[A11*B11*v1*w1 + A11*B12*v1*w2 + A12*B11*v2*w1 + A12*B12*v2*w2],\n",
       "[A11*B21*v1*w1 + A11*B22*v1*w2 + A12*B21*v2*w1 + A12*B22*v2*w2],\n",
       "[A21*B11*v1*w1 + A21*B12*v1*w2 + A22*B11*v2*w1 + A22*B12*v2*w2],\n",
       "[A21*B21*v1*w1 + A21*B22*v1*w2 + A22*B21*v2*w1 + A22*B22*v2*w2]])"
      ]
     },
     "execution_count": 17,
     "metadata": {},
     "output_type": "execute_result"
    }
   ],
   "source": [
    "# Visualizing the left hand side:\n",
    "\n",
    "TensorProduct(A*v, B*w).expand()"
   ]
  },
  {
   "cell_type": "code",
   "execution_count": null,
   "metadata": {
    "colab": {
     "base_uri": "https://localhost:8080/",
     "height": 98
    },
    "executionInfo": {
     "elapsed": 10,
     "status": "ok",
     "timestamp": 1662047181423,
     "user": {
      "displayName": "Lucas Camponogara Viera",
      "userId": "14322290658374940800"
     },
     "user_tz": -480
    },
    "id": "oqf6sD5k4G7_",
    "outputId": "efa6e254-7bfc-4f30-9fc0-11342d67e6f4"
   },
   "outputs": [
    {
     "data": {
      "text/latex": [
       "$\\displaystyle \\left[\\begin{matrix}A_{11} B_{11} v_{1} w_{1} + A_{11} B_{12} v_{1} w_{2} + A_{12} B_{11} v_{2} w_{1} + A_{12} B_{12} v_{2} w_{2}\\\\A_{11} B_{21} v_{1} w_{1} + A_{11} B_{22} v_{1} w_{2} + A_{12} B_{21} v_{2} w_{1} + A_{12} B_{22} v_{2} w_{2}\\\\A_{21} B_{11} v_{1} w_{1} + A_{21} B_{12} v_{1} w_{2} + A_{22} B_{11} v_{2} w_{1} + A_{22} B_{12} v_{2} w_{2}\\\\A_{21} B_{21} v_{1} w_{1} + A_{21} B_{22} v_{1} w_{2} + A_{22} B_{21} v_{2} w_{1} + A_{22} B_{22} v_{2} w_{2}\\end{matrix}\\right]$"
      ],
      "text/plain": [
       "Matrix([\n",
       "[A11*B11*v1*w1 + A11*B12*v1*w2 + A12*B11*v2*w1 + A12*B12*v2*w2],\n",
       "[A11*B21*v1*w1 + A11*B22*v1*w2 + A12*B21*v2*w1 + A12*B22*v2*w2],\n",
       "[A21*B11*v1*w1 + A21*B12*v1*w2 + A22*B11*v2*w1 + A22*B12*v2*w2],\n",
       "[A21*B21*v1*w1 + A21*B22*v1*w2 + A22*B21*v2*w1 + A22*B22*v2*w2]])"
      ]
     },
     "execution_count": 18,
     "metadata": {},
     "output_type": "execute_result"
    }
   ],
   "source": [
    "# Visualizing the right hand side:\n",
    "\n",
    "TensorProduct(A, B)*TensorProduct(v,w)"
   ]
  },
  {
   "cell_type": "markdown",
   "metadata": {
    "id": "r61zXyt-1kDJ"
   },
   "source": [
    "### **Verifying with NumPy:**"
   ]
  },
  {
   "cell_type": "code",
   "execution_count": null,
   "metadata": {
    "colab": {
     "base_uri": "https://localhost:8080/"
    },
    "executionInfo": {
     "elapsed": 9,
     "status": "ok",
     "timestamp": 1662047181423,
     "user": {
      "displayName": "Lucas Camponogara Viera",
      "userId": "14322290658374940800"
     },
     "user_tz": -480
    },
    "id": "uCM4k3SD1rCn",
    "outputId": "287bc4ab-4cdb-4d8a-efd6-6865e2eefb3d"
   },
   "outputs": [
    {
     "data": {
      "text/plain": [
       "array([[(A11*v1 + A12*v2)*(B11*w1 + B12*w2)],\n",
       "       [(A11*v1 + A12*v2)*(B21*w1 + B22*w2)],\n",
       "       [(A21*v1 + A22*v2)*(B11*w1 + B12*w2)],\n",
       "       [(A21*v1 + A22*v2)*(B21*w1 + B22*w2)]], dtype=object)"
      ]
     },
     "execution_count": 19,
     "metadata": {},
     "output_type": "execute_result"
    }
   ],
   "source": [
    "# Visualizing the left hand side:\n",
    "\n",
    "np.kron(A@v,B@w)"
   ]
  },
  {
   "cell_type": "code",
   "execution_count": null,
   "metadata": {
    "colab": {
     "base_uri": "https://localhost:8080/"
    },
    "executionInfo": {
     "elapsed": 9,
     "status": "ok",
     "timestamp": 1662047181423,
     "user": {
      "displayName": "Lucas Camponogara Viera",
      "userId": "14322290658374940800"
     },
     "user_tz": -480
    },
    "id": "vmU2z-iayBnm",
    "outputId": "a1c73946-20bb-4ef0-91dc-bf9c2a6f500e"
   },
   "outputs": [
    {
     "data": {
      "text/plain": [
       "array([[A11*B11*v1*w1 + A11*B12*v1*w2 + A12*B11*v2*w1 + A12*B12*v2*w2],\n",
       "       [A11*B21*v1*w1 + A11*B22*v1*w2 + A12*B21*v2*w1 + A12*B22*v2*w2],\n",
       "       [A21*B11*v1*w1 + A21*B12*v1*w2 + A22*B11*v2*w1 + A22*B12*v2*w2],\n",
       "       [A21*B21*v1*w1 + A21*B22*v1*w2 + A22*B21*v2*w1 + A22*B22*v2*w2]],\n",
       "      dtype=object)"
      ]
     },
     "execution_count": 20,
     "metadata": {},
     "output_type": "execute_result"
    }
   ],
   "source": [
    "# Visualizing the right hand side:\n",
    "\n",
    "np.kron(A, B)@np.kron(v,w)"
   ]
  },
  {
   "cell_type": "markdown",
   "metadata": {
    "id": "do1SmhqTtjxw"
   },
   "source": [
    "## $(|+\\rangle \\langle+|)⊗(|−\\rangle \\langle−|)=(|+−\\rangle \\langle+−|)$"
   ]
  },
  {
   "cell_type": "markdown",
   "metadata": {
    "id": "3oK6TYpVnzj7"
   },
   "source": [
    "**Verifying with NumPy:**"
   ]
  },
  {
   "cell_type": "code",
   "execution_count": null,
   "metadata": {
    "colab": {
     "base_uri": "https://localhost:8080/"
    },
    "executionInfo": {
     "elapsed": 8,
     "status": "ok",
     "timestamp": 1662047181423,
     "user": {
      "displayName": "Lucas Camponogara Viera",
      "userId": "14322290658374940800"
     },
     "user_tz": -480
    },
    "id": "JH6obmPhtl3t",
    "outputId": "c0f38891-f8d4-476a-8c11-c67a4da8ff1d"
   },
   "outputs": [
    {
     "data": {
      "text/plain": [
       "True"
      ]
     },
     "execution_count": 21,
     "metadata": {},
     "output_type": "execute_result"
    }
   ],
   "source": [
    "#(|+⟩⟨+|)⊗(|−⟩⟨−|) == (|+−⟩⟨+−|)\n",
    "(np.kron(np.outer(plus.T,plus),np.outer(minus.T,minus)) == (np.kron(plus.T, minus.T))@(np.kron(plus, minus))).all()"
   ]
  },
  {
   "cell_type": "code",
   "execution_count": null,
   "metadata": {
    "colab": {
     "base_uri": "https://localhost:8080/"
    },
    "executionInfo": {
     "elapsed": 9,
     "status": "ok",
     "timestamp": 1662047181424,
     "user": {
      "displayName": "Lucas Camponogara Viera",
      "userId": "14322290658374940800"
     },
     "user_tz": -480
    },
    "id": "vTAfmtqixHox",
    "outputId": "687fdb60-2e63-4072-a5ac-129a2d6cc6a1"
   },
   "outputs": [
    {
     "data": {
      "text/plain": [
       "array([[ 0.25, -0.25,  0.25, -0.25],\n",
       "       [-0.25,  0.25, -0.25,  0.25],\n",
       "       [ 0.25, -0.25,  0.25, -0.25],\n",
       "       [-0.25,  0.25, -0.25,  0.25]])"
      ]
     },
     "execution_count": 22,
     "metadata": {},
     "output_type": "execute_result"
    }
   ],
   "source": [
    "(np.kron(plus.T, minus.T))@(np.kron(plus, minus))"
   ]
  },
  {
   "cell_type": "code",
   "execution_count": null,
   "metadata": {
    "colab": {
     "base_uri": "https://localhost:8080/"
    },
    "executionInfo": {
     "elapsed": 9,
     "status": "ok",
     "timestamp": 1662047181424,
     "user": {
      "displayName": "Lucas Camponogara Viera",
      "userId": "14322290658374940800"
     },
     "user_tz": -480
    },
    "id": "tjLupcrSxBxv",
    "outputId": "c0f5aa38-8f9c-4801-cbad-96d9c73f90e6"
   },
   "outputs": [
    {
     "data": {
      "text/plain": [
       "array([[ 0.25, -0.25,  0.25, -0.25],\n",
       "       [-0.25,  0.25, -0.25,  0.25],\n",
       "       [ 0.25, -0.25,  0.25, -0.25],\n",
       "       [-0.25,  0.25, -0.25,  0.25]])"
      ]
     },
     "execution_count": 23,
     "metadata": {},
     "output_type": "execute_result"
    }
   ],
   "source": [
    "np.kron(np.outer(plus.T,plus),np.outer(minus.T,minus))"
   ]
  },
  {
   "cell_type": "markdown",
   "metadata": {
    "id": "_7p0lsFKxo01"
   },
   "source": [
    "## $(|-\\rangle \\langle-|)⊗(|+\\rangle \\langle+|) = (|−+\\rangle \\langle−+|)$"
   ]
  },
  {
   "cell_type": "markdown",
   "metadata": {
    "id": "BEM8UpnLnyZB"
   },
   "source": [
    "**Verifying with NumPy:**"
   ]
  },
  {
   "cell_type": "code",
   "execution_count": null,
   "metadata": {
    "colab": {
     "base_uri": "https://localhost:8080/"
    },
    "executionInfo": {
     "elapsed": 8,
     "status": "ok",
     "timestamp": 1662047181424,
     "user": {
      "displayName": "Lucas Camponogara Viera",
      "userId": "14322290658374940800"
     },
     "user_tz": -480
    },
    "id": "7TFHRGxhxYWc",
    "outputId": "97bc37af-d76c-46fc-adf3-df39509971cf"
   },
   "outputs": [
    {
     "data": {
      "text/plain": [
       "True"
      ]
     },
     "execution_count": 24,
     "metadata": {},
     "output_type": "execute_result"
    }
   ],
   "source": [
    "# (|-⟩⟨-|)⊗(|+⟩⟨+|) == (|−+⟩⟨−+|) >>> True\n",
    "(np.kron(np.outer(minus.T,minus),np.outer(plus.T,plus)) == (np.kron(minus.T, plus.T))@(np.kron(minus, plus))).all()"
   ]
  },
  {
   "cell_type": "code",
   "execution_count": null,
   "metadata": {
    "colab": {
     "base_uri": "https://localhost:8080/"
    },
    "executionInfo": {
     "elapsed": 8,
     "status": "ok",
     "timestamp": 1662047181424,
     "user": {
      "displayName": "Lucas Camponogara Viera",
      "userId": "14322290658374940800"
     },
     "user_tz": -480
    },
    "id": "Chz38Ezh1wDA",
    "outputId": "da4561e5-c805-44a1-9c14-cf04089107ac"
   },
   "outputs": [
    {
     "data": {
      "text/plain": [
       "array([[ 0.25,  0.25, -0.25, -0.25],\n",
       "       [ 0.25,  0.25, -0.25, -0.25],\n",
       "       [-0.25, -0.25,  0.25,  0.25],\n",
       "       [-0.25, -0.25,  0.25,  0.25]])"
      ]
     },
     "execution_count": 25,
     "metadata": {},
     "output_type": "execute_result"
    }
   ],
   "source": [
    "np.kron(np.outer(minus.T,minus),np.outer(plus.T,plus))"
   ]
  },
  {
   "cell_type": "code",
   "execution_count": null,
   "metadata": {
    "colab": {
     "base_uri": "https://localhost:8080/"
    },
    "executionInfo": {
     "elapsed": 8,
     "status": "ok",
     "timestamp": 1662047181424,
     "user": {
      "displayName": "Lucas Camponogara Viera",
      "userId": "14322290658374940800"
     },
     "user_tz": -480
    },
    "id": "MlkIWKj41wVY",
    "outputId": "2a0b9909-6122-45a3-f95b-0c0d9c3c99c7"
   },
   "outputs": [
    {
     "data": {
      "text/plain": [
       "array([[ 0.25,  0.25, -0.25, -0.25],\n",
       "       [ 0.25,  0.25, -0.25, -0.25],\n",
       "       [-0.25, -0.25,  0.25,  0.25],\n",
       "       [-0.25, -0.25,  0.25,  0.25]])"
      ]
     },
     "execution_count": 26,
     "metadata": {},
     "output_type": "execute_result"
    }
   ],
   "source": [
    "(np.kron(minus.T, plus.T))@(np.kron(minus, plus))"
   ]
  },
  {
   "cell_type": "markdown",
   "metadata": {
    "id": "1e2d62d7-368d-41eb-b319-cbb80644d976"
   },
   "source": [
    "## $H|0\\rangle = R_y(\\pi/2)|0\\rangle = |+\\rangle$\n",
    "\n"
   ]
  },
  {
   "cell_type": "markdown",
   "metadata": {
    "id": "k1_Iu7Kc_F4f"
   },
   "source": [
    "### **Matrix approach:**"
   ]
  },
  {
   "cell_type": "markdown",
   "metadata": {
    "id": "4_ULvxR8nozS"
   },
   "source": [
    "$$H |0\\rangle = \\frac{1}{\\sqrt{2}} \\begin{bmatrix} 1 & 1 \\\\ 1 & -1 \\end{bmatrix} \\begin{bmatrix} 1 \\\\ 0 \\end{bmatrix} =  \\frac{1}{\\sqrt{2}} \\begin{bmatrix} 1*1 + 1*0 \\\\ 1*1 -1*0 \\end{bmatrix} = \\frac{1}{\\sqrt{2}}\\begin{bmatrix} 1 \\\\ 1 \\end{bmatrix} =  \\frac{1}{\\sqrt{2}} \\Bigg( \\begin{bmatrix} 1 \\\\ 0 \\end{bmatrix} + \\begin{bmatrix} 0 \\\\ 1 \\end{bmatrix} \\Bigg) = \\frac{1}{\\sqrt{2}}\\Big(|0\\rangle+|1\\rangle\\Big) \\equiv |+\\rangle.$$"
   ]
  },
  {
   "cell_type": "markdown",
   "metadata": {
    "id": "3zRjPgnMrDQk"
   },
   "source": [
    "\\begin{eqnarray}\n",
    "R_y(\\theta) \\doteq \\exp(-iY\\theta/2) =  \n",
    "\\begin{bmatrix} cos(\\theta/2) & -sin(\\theta/2) \\\\ sin(\\theta/2) & cos(\\theta/2) \\end{bmatrix}.\n",
    "\\end{eqnarray}"
   ]
  },
  {
   "cell_type": "markdown",
   "metadata": {
    "id": "9Al_oH4JHWVq"
   },
   "source": [
    "\\begin{eqnarray}\n",
    "R_y(\\pi/2)|0\\rangle &=&  \n",
    "\\begin{bmatrix} \n",
    "cos(\\pi/4) & -sin(\\pi/4) \\\\ sin(\\pi/4) & cos(\\pi/4) \\end{bmatrix} \\begin{bmatrix} 1 \\\\ 0 \n",
    "\\end{bmatrix}\n",
    "=\n",
    "\\begin{bmatrix} \n",
    "cos(\\pi/4) \\\\ sin(\\pi/4) \n",
    "\\end{bmatrix}\\\\\n",
    "&=& \\frac{1}{\\sqrt(2)} \n",
    "\\begin{bmatrix} \n",
    "1 \\\\ 1 \n",
    "\\end{bmatrix}\n",
    "= |+\\rangle.\n",
    "\\end{eqnarray}\n",
    "\n",
    "One should note that $sin(\\pi/4) = cos(\\pi/4) = \\frac{1}{\\sqrt{2}}$.\n"
   ]
  },
  {
   "cell_type": "code",
   "execution_count": null,
   "metadata": {
    "colab": {
     "base_uri": "https://localhost:8080/"
    },
    "executionInfo": {
     "elapsed": 7,
     "status": "ok",
     "timestamp": 1662047181424,
     "user": {
      "displayName": "Lucas Camponogara Viera",
      "userId": "14322290658374940800"
     },
     "user_tz": -480
    },
    "id": "pBGRBZDCIUCp",
    "outputId": "2fbfc1a4-bb3f-43df-97f6-696157466965"
   },
   "outputs": [
    {
     "data": {
      "text/plain": [
       "True"
      ]
     },
     "execution_count": 27,
     "metadata": {},
     "output_type": "execute_result"
    }
   ],
   "source": [
    "# sine(pi/4) = cosine(pi/4)\n",
    "np.sin(np.pi/4).round(9)  == np.cos(np.pi/4).round(9)"
   ]
  },
  {
   "cell_type": "code",
   "execution_count": null,
   "metadata": {
    "colab": {
     "base_uri": "https://localhost:8080/"
    },
    "executionInfo": {
     "elapsed": 8,
     "status": "ok",
     "timestamp": 1662047181425,
     "user": {
      "displayName": "Lucas Camponogara Viera",
      "userId": "14322290658374940800"
     },
     "user_tz": -480
    },
    "id": "LV1HLxReIWBX",
    "outputId": "37d7e820-c9a9-48c3-b9de-542bcbe247cd"
   },
   "outputs": [
    {
     "data": {
      "text/plain": [
       "True"
      ]
     },
     "execution_count": 28,
     "metadata": {},
     "output_type": "execute_result"
    }
   ],
   "source": [
    "# sine(pi/4) = 1/sqrt(2)\n",
    "np.sin(np.pi/4).round(9) == (1/np.sqrt(2)).round(9)"
   ]
  },
  {
   "cell_type": "markdown",
   "metadata": {
    "id": "jGitZhadHchZ"
   },
   "source": [
    "### **Verifying with NumPy:**"
   ]
  },
  {
   "cell_type": "code",
   "execution_count": null,
   "metadata": {
    "id": "828ed967-f2ec-4fd6-b196-86a275dd6fe1"
   },
   "outputs": [],
   "source": [
    "zero = np.array([[1,0]]).T # |0>.\n",
    "one = np.array([[0,1]]).T  # |1>."
   ]
  },
  {
   "cell_type": "code",
   "execution_count": null,
   "metadata": {
    "colab": {
     "base_uri": "https://localhost:8080/"
    },
    "executionInfo": {
     "elapsed": 7,
     "status": "ok",
     "timestamp": 1662047181425,
     "user": {
      "displayName": "Lucas Camponogara Viera",
      "userId": "14322290658374940800"
     },
     "user_tz": -480
    },
    "id": "bc973b17-bc94-4dfd-a763-9dc0f63c3f66",
    "outputId": "6d4941c0-6b0c-4870-ad81-b4e622db96ba"
   },
   "outputs": [
    {
     "data": {
      "text/plain": [
       "array([[0.70710678],\n",
       "       [0.70710678]])"
      ]
     },
     "execution_count": 30,
     "metadata": {},
     "output_type": "execute_result"
    }
   ],
   "source": [
    "had@zero # H|0>."
   ]
  },
  {
   "cell_type": "code",
   "execution_count": null,
   "metadata": {
    "colab": {
     "base_uri": "https://localhost:8080/"
    },
    "executionInfo": {
     "elapsed": 7,
     "status": "ok",
     "timestamp": 1662047181425,
     "user": {
      "displayName": "Lucas Camponogara Viera",
      "userId": "14322290658374940800"
     },
     "user_tz": -480
    },
    "id": "b5b8e5db-6a2c-4658-8815-d8140b37e69f",
    "outputId": "9c62e6b0-046e-45a3-f478-0a4e36f7be74"
   },
   "outputs": [
    {
     "data": {
      "text/plain": [
       "array([[0.70710678],\n",
       "       [0.70710678]])"
      ]
     },
     "execution_count": 31,
     "metadata": {},
     "output_type": "execute_result"
    }
   ],
   "source": [
    "ry_pi2@zero # RY(pi/2)|0>."
   ]
  },
  {
   "cell_type": "markdown",
   "metadata": {
    "id": "8bMlUIyiHfYi"
   },
   "source": [
    "### **Verifying with Qiskit:**"
   ]
  },
  {
   "cell_type": "code",
   "execution_count": null,
   "metadata": {
    "colab": {
     "base_uri": "https://localhost:8080/"
    },
    "executionInfo": {
     "elapsed": 593,
     "status": "ok",
     "timestamp": 1662047182012,
     "user": {
      "displayName": "Lucas Camponogara Viera",
      "userId": "14322290658374940800"
     },
     "user_tz": -480
    },
    "id": "7ebc9e46-7890-498c-adb7-637bc2d5572f",
    "outputId": "ffef406b-4dd9-4123-98bb-99d46d81a406"
   },
   "outputs": [
    {
     "name": "stdout",
     "output_type": "stream",
     "text": [
      "    ┌───┐\n",
      "q0: ┤ H ├\n",
      "    └───┘\n",
      "Statevector([0.70710678+0.j, 0.70710678+0.j],\n",
      "            dims=(2,))\n"
     ]
    },
    {
     "data": {
      "image/png": "[encoded data removed]",
      "text/plain": [
       "<Figure size 146.507x84.28 with 1 Axes>"
      ]
     },
     "execution_count": 32,
     "metadata": {},
     "output_type": "execute_result"
    }
   ],
   "source": [
    "sim = Aer.get_backend('aer_simulator')  # Define the simulator.\n",
    "\n",
    "qr = QuantumRegister(1)  # Define the number of qubits in the quantum circuit.\n",
    "qc = QuantumCircuit(qr)\n",
    "qc.h(0)  # Apply the Hadamard gate on qubit 0.\n",
    "print(qc)  # Print the circuit.\n",
    "\n",
    "'''\n",
    "qc.save_statevector()  # Save the statevector.\n",
    "qobj = assemble(qc)    # Create a Qobj from the circuit for the simulator to run.\n",
    "result = sim.run(qobj).result() # Run the simulation and return the result.\n",
    "out_state = result.get_statevector()\n",
    "print(out_state)  # Print the output statevector.\n",
    "'''\n",
    "\n",
    "print(Statevector.from_instruction(qc))\n",
    "qc.draw(output='mpl')  "
   ]
  },
  {
   "cell_type": "code",
   "execution_count": null,
   "metadata": {
    "colab": {
     "base_uri": "https://localhost:8080/"
    },
    "executionInfo": {
     "elapsed": 4,
     "status": "ok",
     "timestamp": 1662047182012,
     "user": {
      "displayName": "Lucas Camponogara Viera",
      "userId": "14322290658374940800"
     },
     "user_tz": -480
    },
    "id": "f557213a-f3a8-41a9-acd1-24258ea4554f",
    "outputId": "e4e28c1a-94c2-4059-ec39-aebb5b3e8f0e"
   },
   "outputs": [
    {
     "name": "stdout",
     "output_type": "stream",
     "text": [
      "    ┌─────────┐\n",
      "q1: ┤ Ry(π/2) ├\n",
      "    └─────────┘\n",
      "Statevector([0.70710678+0.j, 0.70710678+0.j],\n",
      "            dims=(2,))\n"
     ]
    },
    {
     "data": {
      "image/png": "[encoded data removed]",
      "text/plain": [
       "<Figure size 146.652x84.28 with 1 Axes>"
      ]
     },
     "execution_count": 33,
     "metadata": {},
     "output_type": "execute_result"
    }
   ],
   "source": [
    "qr = QuantumRegister(1)  # Define the number of qubits in the quantum circuit.\n",
    "qc = QuantumCircuit(qr)\n",
    "qc.ry(np.pi/2,0)  # Apply the RY(pi/2) gate on qubit 0.\n",
    "print(qc)  # Print the circuit.\n",
    "\n",
    "'''\n",
    "qc.save_statevector()  # Save the statevector.\n",
    "qobj = assemble(qc)    # Create a Qobj from the circuit for the simulator to run.\n",
    "result = sim.run(qobj).result() # Run the simulation and return the result.\n",
    "out_state = result.get_statevector()\n",
    "print(out_state)  # Print the output statevector.\n",
    "'''\n",
    "\n",
    "print(Statevector.from_instruction(qc))\n",
    "qc.draw(output='mpl')  "
   ]
  },
  {
   "cell_type": "markdown",
   "metadata": {
    "id": "ac2270ef-5017-465e-a63f-4e6a9f33b832"
   },
   "source": [
    "## $H|1\\rangle = R_y(-\\pi/2)|0\\rangle = |-\\rangle$"
   ]
  },
  {
   "cell_type": "markdown",
   "metadata": {
    "id": "fNtjVj0s_ZeK"
   },
   "source": [
    "### **Matrix approach**"
   ]
  },
  {
   "cell_type": "markdown",
   "metadata": {
    "id": "_TJOXHT5pDax"
   },
   "source": [
    "$$H |1\\rangle = \\frac{1}{\\sqrt{2}} \\begin{bmatrix} 1 & 1 \\\\ 1 & -1 \\end{bmatrix} \\begin{bmatrix} 0 \\\\ 1 \\end{bmatrix} =  \\frac{1}{\\sqrt{2}} \\begin{bmatrix} 1*0 + 1*1 \\\\ 1*0 -1*1 \\end{bmatrix} = \\frac{1}{\\sqrt{2}}\\begin{bmatrix} 1 \\\\ -1 \\end{bmatrix} =  \\frac{1}{\\sqrt{2}} \\Bigg( \\begin{bmatrix} 1 \\\\ 0 \\end{bmatrix} - \\begin{bmatrix} 0 \\\\ 1 \\end{bmatrix} \\Bigg) = \\frac{1}{\\sqrt{2}}\\Big(|0\\rangle-|1\\rangle\\Big) \\equiv |-\\rangle.$$"
   ]
  },
  {
   "cell_type": "markdown",
   "metadata": {
    "id": "PgPXU2lKsEMQ"
   },
   "source": [
    "\\begin{eqnarray}\n",
    "R_y(\\theta) \\doteq \\exp(-iY\\theta/2) =  \n",
    "\\begin{bmatrix} cos(\\theta/2) & -sin(\\theta/2) \\\\ sin(\\theta/2) & cos(\\theta/2) \\end{bmatrix}.\n",
    "\\end{eqnarray}"
   ]
  },
  {
   "cell_type": "markdown",
   "metadata": {
    "id": "mSmmWO5OsGug"
   },
   "source": [
    "\\begin{eqnarray}\n",
    "R_y(-\\pi/2)|0\\rangle &=&  \n",
    "\\begin{bmatrix} \n",
    "cos(-\\pi/4) & -sin(-\\pi/4) \\\\ sin(-\\pi/4) & cos(-\\pi/4) \\end{bmatrix} \\begin{bmatrix} 1 \\\\ 0 \n",
    "\\end{bmatrix}\n",
    "=\n",
    "\\begin{bmatrix} \n",
    "cos(-\\pi/4) \\\\ sin(-\\pi/4) \n",
    "\\end{bmatrix}\\\\\n",
    "&=&\\begin{bmatrix} \n",
    "cos(\\pi/4) \\\\ -sin(\\pi/4) \n",
    "\\end{bmatrix}\n",
    "= \\frac{1}{\\sqrt(2)} \n",
    "\\begin{bmatrix} \n",
    "1 \\\\ -1 \n",
    "\\end{bmatrix}\n",
    "= |-\\rangle.\n",
    "\\end{eqnarray}\n",
    "\n",
    "One should note that cosine is an even function, $cos(-x)=cos(x)$, and sine is an odd function, $sin(-x) = -sin(x)$. Moreover, $sin(\\pi/4) = cos(\\pi/4)=\\frac{1}{\\sqrt{2}}$.\n"
   ]
  },
  {
   "cell_type": "code",
   "execution_count": null,
   "metadata": {
    "colab": {
     "base_uri": "https://localhost:8080/"
    },
    "executionInfo": {
     "elapsed": 5,
     "status": "ok",
     "timestamp": 1662047182013,
     "user": {
      "displayName": "Lucas Camponogara Viera",
      "userId": "14322290658374940800"
     },
     "user_tz": -480
    },
    "id": "Kf_6VSWeyofU",
    "outputId": "ad17329a-1dfd-418f-dc0d-e37921ed6778"
   },
   "outputs": [
    {
     "data": {
      "text/plain": [
       "True"
      ]
     },
     "execution_count": 34,
     "metadata": {},
     "output_type": "execute_result"
    }
   ],
   "source": [
    "# sine(pi/4) = cosine(pi/4)\n",
    "np.sin(np.pi/4).round(9)  == np.cos(np.pi/4).round(9)"
   ]
  },
  {
   "cell_type": "markdown",
   "metadata": {
    "id": "Hs7SWqISCLKr"
   },
   "source": [
    "### **Verifying with NumPy:**"
   ]
  },
  {
   "cell_type": "code",
   "execution_count": null,
   "metadata": {
    "colab": {
     "base_uri": "https://localhost:8080/"
    },
    "executionInfo": {
     "elapsed": 4,
     "status": "ok",
     "timestamp": 1662047182013,
     "user": {
      "displayName": "Lucas Camponogara Viera",
      "userId": "14322290658374940800"
     },
     "user_tz": -480
    },
    "id": "a371d192-84b8-4ed8-892f-e9267f113c4e",
    "outputId": "afe7f1f9-e1e3-4683-e5fa-f07e94608b58"
   },
   "outputs": [
    {
     "data": {
      "text/plain": [
       "array([[ 0.70710678],\n",
       "       [-0.70710678]])"
      ]
     },
     "execution_count": 35,
     "metadata": {},
     "output_type": "execute_result"
    }
   ],
   "source": [
    "had@one # H|1>."
   ]
  },
  {
   "cell_type": "code",
   "execution_count": null,
   "metadata": {
    "colab": {
     "base_uri": "https://localhost:8080/"
    },
    "executionInfo": {
     "elapsed": 4,
     "status": "ok",
     "timestamp": 1662047182013,
     "user": {
      "displayName": "Lucas Camponogara Viera",
      "userId": "14322290658374940800"
     },
     "user_tz": -480
    },
    "id": "4f260424-df27-4595-8ac4-6f2a428e1bdb",
    "outputId": "57213b36-bc99-40be-86fb-c94124b0b42c"
   },
   "outputs": [
    {
     "data": {
      "text/plain": [
       "array([[ 0.70710678],\n",
       "       [-0.70710678]])"
      ]
     },
     "execution_count": 36,
     "metadata": {},
     "output_type": "execute_result"
    }
   ],
   "source": [
    "ry_mpi2@zero # RY(-pi/2)|0>."
   ]
  },
  {
   "cell_type": "markdown",
   "metadata": {
    "id": "7bwVZbAgCHb5"
   },
   "source": [
    "### **Verifying with Qiskit:**"
   ]
  },
  {
   "cell_type": "code",
   "execution_count": null,
   "metadata": {
    "colab": {
     "base_uri": "https://localhost:8080/"
    },
    "executionInfo": {
     "elapsed": 511,
     "status": "ok",
     "timestamp": 1662047182520,
     "user": {
      "displayName": "Lucas Camponogara Viera",
      "userId": "14322290658374940800"
     },
     "user_tz": -480
    },
    "id": "40ec91e6-5222-4645-a0fe-47f5e2d87b7d",
    "outputId": "b097fab4-4714-4b5f-9a8b-8c865448f1c9"
   },
   "outputs": [
    {
     "name": "stdout",
     "output_type": "stream",
     "text": [
      "    ┌───┐┌───┐\n",
      "q2: ┤ X ├┤ H ├\n",
      "    └───┘└───┘\n",
      "Statevector([ 0.70710678+0.j, -0.70710678+0.j],\n",
      "            dims=(2,))\n"
     ]
    },
    {
     "data": {
      "image/png": "[encoded data removed]",
      "text/plain": [
       "<Figure size 206.997x84.28 with 1 Axes>"
      ]
     },
     "execution_count": 37,
     "metadata": {},
     "output_type": "execute_result"
    }
   ],
   "source": [
    "qr = QuantumRegister(1)  # Define the number of qubits in the quantum circuit.\n",
    "qc = QuantumCircuit(qr)\n",
    "qc.x(0)  # Apply the Pauli-X gate on qubit 0.\n",
    "qc.h(0)  # Apply the Hadamard gate on qubit 0.\n",
    "print(qc)  # Print the circuit.\n",
    "\n",
    "'''\n",
    "qc.save_statevector()  # Save the statevector.\n",
    "qobj = assemble(qc)    # Create a Qobj from the circuit for the simulator to run.\n",
    "result = sim.run(qobj).result() # Run the simulation and return the result.\n",
    "out_state = result.get_statevector()\n",
    "print(out_state)  # Print the output statevector.\n",
    "'''\n",
    "\n",
    "print(Statevector.from_instruction(qc))\n",
    "qc.draw(output='mpl')  "
   ]
  },
  {
   "cell_type": "code",
   "execution_count": null,
   "metadata": {
    "colab": {
     "base_uri": "https://localhost:8080/"
    },
    "executionInfo": {
     "elapsed": 7,
     "status": "ok",
     "timestamp": 1662047182520,
     "user": {
      "displayName": "Lucas Camponogara Viera",
      "userId": "14322290658374940800"
     },
     "user_tz": -480
    },
    "id": "564cf597-c276-4c1e-9f40-073a73bf3964",
    "outputId": "39e40929-a427-4bbf-9459-5f5a1c09b420"
   },
   "outputs": [
    {
     "name": "stdout",
     "output_type": "stream",
     "text": [
      "    ┌──────────┐\n",
      "q3: ┤ Ry(-π/2) ├\n",
      "    └──────────┘\n",
      "Statevector([ 0.70710678+0.j, -0.70710678+0.j],\n",
      "            dims=(2,))\n"
     ]
    },
    {
     "data": {
      "image/png": "[encoded data removed]",
      "text/plain": [
       "<Figure size 146.797x84.28 with 1 Axes>"
      ]
     },
     "execution_count": 38,
     "metadata": {},
     "output_type": "execute_result"
    }
   ],
   "source": [
    "qr = QuantumRegister(1)  # Define the number of qubits in the quantum circuit.\n",
    "qc = QuantumCircuit(qr)\n",
    "qc.ry(-np.pi/2,0)  # Apply the RY(-pi/2) gate on qubit 0.\n",
    "print(qc)  # Print the circuit.\n",
    "\n",
    "'''\n",
    "qc.save_statevector()  # Save the statevector.\n",
    "qobj = assemble(qc)    # Create a Qobj from the circuit for the simulator to run.\n",
    "result = sim.run(qobj).result() # Run the simulation and return the result.\n",
    "out_state = result.get_statevector()\n",
    "print(out_state)  # Print the output statevector.\n",
    "'''\n",
    "\n",
    "print(Statevector.from_instruction(qc))\n",
    "qc.draw(output='mpl')  "
   ]
  },
  {
   "cell_type": "markdown",
   "metadata": {
    "id": "7fb2137d-da89-4235-b909-4e6c74a4a872"
   },
   "source": [
    "## $|++\\rangle\\langle ++|=(H\\otimes H)|00\\rangle\\langle 00|(H\\otimes H):$"
   ]
  },
  {
   "cell_type": "markdown",
   "metadata": {
    "id": "ex7Fh7z4nxZ7"
   },
   "source": [
    "**Verifying with NumPy:**"
   ]
  },
  {
   "cell_type": "code",
   "execution_count": null,
   "metadata": {
    "colab": {
     "base_uri": "https://localhost:8080/"
    },
    "executionInfo": {
     "elapsed": 6,
     "status": "ok",
     "timestamp": 1662047182520,
     "user": {
      "displayName": "Lucas Camponogara Viera",
      "userId": "14322290658374940800"
     },
     "user_tz": -480
    },
    "id": "49b77f90-ec76-41c7-bc21-e4bba83ec93b",
    "outputId": "09d5198e-7e29-43fe-8345-b2530738f34b",
    "tags": []
   },
   "outputs": [
    {
     "data": {
      "text/plain": [
       "True"
      ]
     },
     "execution_count": 39,
     "metadata": {},
     "output_type": "execute_result"
    }
   ],
   "source": [
    "(np.kron(plus.T,plus.T)@np.kron(plus,plus) == (np.kron(had,had))@zeros@(np.kron(had,had))).all()"
   ]
  },
  {
   "cell_type": "code",
   "execution_count": null,
   "metadata": {
    "colab": {
     "base_uri": "https://localhost:8080/"
    },
    "executionInfo": {
     "elapsed": 6,
     "status": "ok",
     "timestamp": 1662047182520,
     "user": {
      "displayName": "Lucas Camponogara Viera",
      "userId": "14322290658374940800"
     },
     "user_tz": -480
    },
    "id": "g9dmwygNgXkH",
    "outputId": "d286b432-747c-461d-ae21-755532b92d9c"
   },
   "outputs": [
    {
     "data": {
      "text/plain": [
       "array([[0.25, 0.25, 0.25, 0.25],\n",
       "       [0.25, 0.25, 0.25, 0.25],\n",
       "       [0.25, 0.25, 0.25, 0.25],\n",
       "       [0.25, 0.25, 0.25, 0.25]])"
      ]
     },
     "execution_count": 40,
     "metadata": {},
     "output_type": "execute_result"
    }
   ],
   "source": [
    "np.kron(plus.T,plus.T)@np.kron(plus,plus)"
   ]
  },
  {
   "cell_type": "code",
   "execution_count": null,
   "metadata": {
    "colab": {
     "base_uri": "https://localhost:8080/"
    },
    "executionInfo": {
     "elapsed": 7,
     "status": "ok",
     "timestamp": 1662047182521,
     "user": {
      "displayName": "Lucas Camponogara Viera",
      "userId": "14322290658374940800"
     },
     "user_tz": -480
    },
    "id": "ZOWkEGX5gYml",
    "outputId": "c0e4ebb2-99cd-4027-8f8e-5827134d6089"
   },
   "outputs": [
    {
     "data": {
      "text/plain": [
       "array([[0.25, 0.25, 0.25, 0.25],\n",
       "       [0.25, 0.25, 0.25, 0.25],\n",
       "       [0.25, 0.25, 0.25, 0.25],\n",
       "       [0.25, 0.25, 0.25, 0.25]])"
      ]
     },
     "execution_count": 41,
     "metadata": {},
     "output_type": "execute_result"
    }
   ],
   "source": [
    "(np.kron(had,had))@zeros@(np.kron(had,had))"
   ]
  },
  {
   "cell_type": "markdown",
   "metadata": {
    "id": "ed3acf9f-8827-4f78-bb36-1b0572e8906a"
   },
   "source": [
    "## $|--\\rangle\\langle --|=(H\\otimes H)|11\\rangle\\langle 11|(H\\otimes H):$"
   ]
  },
  {
   "cell_type": "markdown",
   "metadata": {
    "id": "scuAjgrcnwX5"
   },
   "source": [
    "**Verifying with NumPy:**"
   ]
  },
  {
   "cell_type": "code",
   "execution_count": null,
   "metadata": {
    "colab": {
     "base_uri": "https://localhost:8080/"
    },
    "executionInfo": {
     "elapsed": 6,
     "status": "ok",
     "timestamp": 1662047182521,
     "user": {
      "displayName": "Lucas Camponogara Viera",
      "userId": "14322290658374940800"
     },
     "user_tz": -480
    },
    "id": "b0f8f822-cb95-4de1-979b-09a329abf22d",
    "outputId": "4b069582-ea2a-454b-d886-6f00765d7358"
   },
   "outputs": [
    {
     "data": {
      "text/plain": [
       "True"
      ]
     },
     "execution_count": 42,
     "metadata": {},
     "output_type": "execute_result"
    }
   ],
   "source": [
    "(np.kron(minus.T,minus.T)@np.kron(minus,minus) == (np.kron(had,had))@ones@(np.kron(had,had))).all()"
   ]
  },
  {
   "cell_type": "code",
   "execution_count": null,
   "metadata": {
    "colab": {
     "base_uri": "https://localhost:8080/"
    },
    "executionInfo": {
     "elapsed": 6,
     "status": "ok",
     "timestamp": 1662047182521,
     "user": {
      "displayName": "Lucas Camponogara Viera",
      "userId": "14322290658374940800"
     },
     "user_tz": -480
    },
    "id": "txoLGCjLg5xj",
    "outputId": "d058206e-d8da-4ea8-d79d-11d7a09226f4"
   },
   "outputs": [
    {
     "data": {
      "text/plain": [
       "array([[ 0.25, -0.25, -0.25,  0.25],\n",
       "       [-0.25,  0.25,  0.25, -0.25],\n",
       "       [-0.25,  0.25,  0.25, -0.25],\n",
       "       [ 0.25, -0.25, -0.25,  0.25]])"
      ]
     },
     "execution_count": 43,
     "metadata": {},
     "output_type": "execute_result"
    }
   ],
   "source": [
    "np.kron(minus.T,minus.T)@np.kron(minus,minus)"
   ]
  },
  {
   "cell_type": "code",
   "execution_count": null,
   "metadata": {
    "colab": {
     "base_uri": "https://localhost:8080/"
    },
    "executionInfo": {
     "elapsed": 6,
     "status": "ok",
     "timestamp": 1662047182521,
     "user": {
      "displayName": "Lucas Camponogara Viera",
      "userId": "14322290658374940800"
     },
     "user_tz": -480
    },
    "id": "tEe_UfV2g_vG",
    "outputId": "aa26ffc8-c0b1-42de-9b80-8c5a17e83281"
   },
   "outputs": [
    {
     "data": {
      "text/plain": [
       "array([[ 0.25, -0.25, -0.25,  0.25],\n",
       "       [-0.25,  0.25,  0.25, -0.25],\n",
       "       [-0.25,  0.25,  0.25, -0.25],\n",
       "       [ 0.25, -0.25, -0.25,  0.25]])"
      ]
     },
     "execution_count": 44,
     "metadata": {},
     "output_type": "execute_result"
    }
   ],
   "source": [
    "(np.kron(had,had))@ones@(np.kron(had,had))"
   ]
  },
  {
   "cell_type": "markdown",
   "metadata": {
    "id": "c880929d-a2dc-4c0d-848a-60f2d6619380"
   },
   "source": [
    "## $|+-\\rangle\\langle +-|=(H\\otimes H)|01\\rangle\\langle 01|(H\\otimes H):$"
   ]
  },
  {
   "cell_type": "markdown",
   "metadata": {
    "id": "nb2XR5VOnutj"
   },
   "source": [
    "**Verifying with NumPy:**"
   ]
  },
  {
   "cell_type": "code",
   "execution_count": null,
   "metadata": {
    "colab": {
     "base_uri": "https://localhost:8080/"
    },
    "executionInfo": {
     "elapsed": 5,
     "status": "ok",
     "timestamp": 1662047182521,
     "user": {
      "displayName": "Lucas Camponogara Viera",
      "userId": "14322290658374940800"
     },
     "user_tz": -480
    },
    "id": "968ea01f-764d-4a2c-8b71-b8b949382e61",
    "outputId": "57ca076c-42c2-4c43-b538-e787c7a2dc54"
   },
   "outputs": [
    {
     "data": {
      "text/plain": [
       "True"
      ]
     },
     "execution_count": 45,
     "metadata": {},
     "output_type": "execute_result"
    }
   ],
   "source": [
    "(np.kron(plus.T,minus.T)@np.kron(plus,minus) == (np.kron(had,had))@(zerone)@(np.kron(had,had))).all()"
   ]
  },
  {
   "cell_type": "code",
   "execution_count": null,
   "metadata": {
    "colab": {
     "base_uri": "https://localhost:8080/"
    },
    "executionInfo": {
     "elapsed": 482,
     "status": "ok",
     "timestamp": 1662047182998,
     "user": {
      "displayName": "Lucas Camponogara Viera",
      "userId": "14322290658374940800"
     },
     "user_tz": -480
    },
    "id": "ebkyvZUbhDAY",
    "outputId": "4ba275da-ecaa-4cdb-ef44-1462dbdcc73b"
   },
   "outputs": [
    {
     "data": {
      "text/plain": [
       "array([[ 0.25, -0.25,  0.25, -0.25],\n",
       "       [-0.25,  0.25, -0.25,  0.25],\n",
       "       [ 0.25, -0.25,  0.25, -0.25],\n",
       "       [-0.25,  0.25, -0.25,  0.25]])"
      ]
     },
     "execution_count": 46,
     "metadata": {},
     "output_type": "execute_result"
    }
   ],
   "source": [
    "np.kron(plus.T,minus.T)@np.kron(plus,minus)"
   ]
  },
  {
   "cell_type": "code",
   "execution_count": null,
   "metadata": {
    "colab": {
     "base_uri": "https://localhost:8080/"
    },
    "executionInfo": {
     "elapsed": 10,
     "status": "ok",
     "timestamp": 1662047182999,
     "user": {
      "displayName": "Lucas Camponogara Viera",
      "userId": "14322290658374940800"
     },
     "user_tz": -480
    },
    "id": "ZqTueoNthDGX",
    "outputId": "2cb23dcb-1927-4f28-ebcd-14dfd9c4b004"
   },
   "outputs": [
    {
     "data": {
      "text/plain": [
       "array([[ 0.25, -0.25,  0.25, -0.25],\n",
       "       [-0.25,  0.25, -0.25,  0.25],\n",
       "       [ 0.25, -0.25,  0.25, -0.25],\n",
       "       [-0.25,  0.25, -0.25,  0.25]])"
      ]
     },
     "execution_count": 47,
     "metadata": {},
     "output_type": "execute_result"
    }
   ],
   "source": [
    "(np.kron(had,had))@(zerone)@(np.kron(had,had))"
   ]
  },
  {
   "cell_type": "markdown",
   "metadata": {
    "id": "48887a12-eceb-4ac8-bec6-1a5a435bd0c3"
   },
   "source": [
    "## $|-+\\rangle\\langle -+|=(H\\otimes H)|10\\rangle\\langle 10|(H\\otimes H):$"
   ]
  },
  {
   "cell_type": "markdown",
   "metadata": {
    "id": "1ZC-j5u2nrTg"
   },
   "source": [
    "**Verifying with NumPy:**"
   ]
  },
  {
   "cell_type": "code",
   "execution_count": null,
   "metadata": {
    "colab": {
     "base_uri": "https://localhost:8080/"
    },
    "executionInfo": {
     "elapsed": 9,
     "status": "ok",
     "timestamp": 1662047182999,
     "user": {
      "displayName": "Lucas Camponogara Viera",
      "userId": "14322290658374940800"
     },
     "user_tz": -480
    },
    "id": "0836f311-4593-45d1-8e67-7ad6b6c90693",
    "outputId": "9b2a0d6d-3995-406e-d0e3-a4b5329465b4"
   },
   "outputs": [
    {
     "data": {
      "text/plain": [
       "True"
      ]
     },
     "execution_count": 48,
     "metadata": {},
     "output_type": "execute_result"
    }
   ],
   "source": [
    "(np.kron(minus.T,plus.T)@np.kron(minus,plus) == (np.kron(had,had))@(onezero)@(np.kron(had,had))).all()"
   ]
  },
  {
   "cell_type": "code",
   "execution_count": null,
   "metadata": {
    "colab": {
     "base_uri": "https://localhost:8080/"
    },
    "executionInfo": {
     "elapsed": 9,
     "status": "ok",
     "timestamp": 1662047182999,
     "user": {
      "displayName": "Lucas Camponogara Viera",
      "userId": "14322290658374940800"
     },
     "user_tz": -480
    },
    "id": "TLHQw--KhPMG",
    "outputId": "6106b6b6-5822-49a1-82a3-6a961fa98412"
   },
   "outputs": [
    {
     "data": {
      "text/plain": [
       "array([[ 0.25,  0.25, -0.25, -0.25],\n",
       "       [ 0.25,  0.25, -0.25, -0.25],\n",
       "       [-0.25, -0.25,  0.25,  0.25],\n",
       "       [-0.25, -0.25,  0.25,  0.25]])"
      ]
     },
     "execution_count": 49,
     "metadata": {},
     "output_type": "execute_result"
    }
   ],
   "source": [
    "np.kron(minus.T,plus.T)@np.kron(minus,plus)"
   ]
  },
  {
   "cell_type": "code",
   "execution_count": null,
   "metadata": {
    "colab": {
     "base_uri": "https://localhost:8080/"
    },
    "executionInfo": {
     "elapsed": 8,
     "status": "ok",
     "timestamp": 1662047182999,
     "user": {
      "displayName": "Lucas Camponogara Viera",
      "userId": "14322290658374940800"
     },
     "user_tz": -480
    },
    "id": "481Jb4iUhPOh",
    "outputId": "2ba15c5a-6451-4a3e-b9b4-447944c1e2da"
   },
   "outputs": [
    {
     "data": {
      "text/plain": [
       "array([[ 0.25,  0.25, -0.25, -0.25],\n",
       "       [ 0.25,  0.25, -0.25, -0.25],\n",
       "       [-0.25, -0.25,  0.25,  0.25],\n",
       "       [-0.25, -0.25,  0.25,  0.25]])"
      ]
     },
     "execution_count": 50,
     "metadata": {},
     "output_type": "execute_result"
    }
   ],
   "source": [
    "(np.kron(had,had))@(onezero)@(np.kron(had,had))"
   ]
  },
  {
   "cell_type": "markdown",
   "metadata": {
    "id": "7a08e005-68b0-41d4-a630-fa041d05f0ee",
    "tags": []
   },
   "source": [
    "## $SH|0\\rangle = R_x(-\\pi/2)|0\\rangle = |\\oplus\\rangle$\n",
    "\n"
   ]
  },
  {
   "cell_type": "markdown",
   "metadata": {
    "id": "pNX20mawmyTV"
   },
   "source": [
    "### **Verifying with NumPy:**"
   ]
  },
  {
   "cell_type": "markdown",
   "metadata": {
    "id": "Syzf_OBMk7sC"
   },
   "source": [
    "Here, ket vectors $|0 \\rangle$ and $|1\\rangle$ will be represented using 1-D numpy arrays:"
   ]
  },
  {
   "cell_type": "code",
   "execution_count": null,
   "metadata": {
    "colab": {
     "base_uri": "https://localhost:8080/"
    },
    "executionInfo": {
     "elapsed": 8,
     "status": "ok",
     "timestamp": 1662047182999,
     "user": {
      "displayName": "Lucas Camponogara Viera",
      "userId": "14322290658374940800"
     },
     "user_tz": -480
    },
    "id": "63b8905f-d668-4bd6-99c7-6cd76611ed72",
    "outputId": "e3468a28-8d36-4d58-94e2-91a5c9027c14"
   },
   "outputs": [
    {
     "data": {
      "text/plain": [
       "((2,), (2,))"
      ]
     },
     "execution_count": 51,
     "metadata": {},
     "output_type": "execute_result"
    }
   ],
   "source": [
    "zero = np.array([1,0]) # 1-D NumPy array representing the state |0>.\n",
    "one = np.array([0,1])  # 1-D NumPy array representing the state |1>.\n",
    "\n",
    "zero.shape, one.shape"
   ]
  },
  {
   "cell_type": "code",
   "execution_count": null,
   "metadata": {
    "colab": {
     "base_uri": "https://localhost:8080/"
    },
    "executionInfo": {
     "elapsed": 8,
     "status": "ok",
     "timestamp": 1662047182999,
     "user": {
      "displayName": "Lucas Camponogara Viera",
      "userId": "14322290658374940800"
     },
     "user_tz": -480
    },
    "id": "0e323e9f-f740-4fee-8598-408e43ddfa24",
    "outputId": "dc157965-cdec-491c-e6b1-926de0c889ac"
   },
   "outputs": [
    {
     "data": {
      "text/plain": [
       "array([0.70710678+0.j        , 0.        +0.70710678j])"
      ]
     },
     "execution_count": 52,
     "metadata": {},
     "output_type": "execute_result"
    }
   ],
   "source": [
    "(phase@had)@zero # SH|0>."
   ]
  },
  {
   "cell_type": "code",
   "execution_count": null,
   "metadata": {
    "colab": {
     "base_uri": "https://localhost:8080/"
    },
    "executionInfo": {
     "elapsed": 8,
     "status": "ok",
     "timestamp": 1662047183000,
     "user": {
      "displayName": "Lucas Camponogara Viera",
      "userId": "14322290658374940800"
     },
     "user_tz": -480
    },
    "id": "16e5fb7d-33bb-4d80-8f3b-ccac30ccb5b8",
    "outputId": "13e500fc-45bf-4d4e-86f3-763718f42e3f"
   },
   "outputs": [
    {
     "data": {
      "text/plain": [
       "array([0.70710678+0.j        , 0.        +0.70710678j])"
      ]
     },
     "execution_count": 53,
     "metadata": {},
     "output_type": "execute_result"
    }
   ],
   "source": [
    "rx_mpi2@zero # RX(-pi/2)|0>."
   ]
  },
  {
   "cell_type": "markdown",
   "metadata": {
    "id": "FhWeJ4jBDOg9"
   },
   "source": [
    "Here, ket vectors $|0 \\rangle$ and $|1\\rangle$ will be represented using 2-D numpy arrays:"
   ]
  },
  {
   "cell_type": "code",
   "execution_count": null,
   "metadata": {
    "colab": {
     "base_uri": "https://localhost:8080/"
    },
    "executionInfo": {
     "elapsed": 8,
     "status": "ok",
     "timestamp": 1662047183000,
     "user": {
      "displayName": "Lucas Camponogara Viera",
      "userId": "14322290658374940800"
     },
     "user_tz": -480
    },
    "id": "hzSHP8KdCiAU",
    "outputId": "78e09cad-8a98-4012-8bbf-d31fc01fc738"
   },
   "outputs": [
    {
     "data": {
      "text/plain": [
       "((2, 1), (2, 1))"
      ]
     },
     "execution_count": 54,
     "metadata": {},
     "output_type": "execute_result"
    }
   ],
   "source": [
    "zero = np.array([[1,0]]).T # 2-D NumPy array representing the state |0>.\n",
    "one = np.array([[0,1]]).T  # 2-D NumPy array representing the state |1>.\n",
    "\n",
    "zero.shape, one.shape"
   ]
  },
  {
   "cell_type": "code",
   "execution_count": null,
   "metadata": {
    "colab": {
     "base_uri": "https://localhost:8080/"
    },
    "executionInfo": {
     "elapsed": 8,
     "status": "ok",
     "timestamp": 1662047183000,
     "user": {
      "displayName": "Lucas Camponogara Viera",
      "userId": "14322290658374940800"
     },
     "user_tz": -480
    },
    "id": "PqX04yC6Cxs4",
    "outputId": "54371068-790e-48e4-91a0-4699e181321a"
   },
   "outputs": [
    {
     "data": {
      "text/plain": [
       "array([[0.70710678+0.j        ],\n",
       "       [0.        +0.70710678j]])"
      ]
     },
     "execution_count": 55,
     "metadata": {},
     "output_type": "execute_result"
    }
   ],
   "source": [
    "(phase@had)@zero # SH|0>."
   ]
  },
  {
   "cell_type": "code",
   "execution_count": null,
   "metadata": {
    "colab": {
     "base_uri": "https://localhost:8080/"
    },
    "executionInfo": {
     "elapsed": 7,
     "status": "ok",
     "timestamp": 1662047183000,
     "user": {
      "displayName": "Lucas Camponogara Viera",
      "userId": "14322290658374940800"
     },
     "user_tz": -480
    },
    "id": "siFe4LaPCxwV",
    "outputId": "c0cd7e6e-9c3f-4183-9f02-15d059ae68af"
   },
   "outputs": [
    {
     "data": {
      "text/plain": [
       "array([[0.70710678+0.j        ],\n",
       "       [0.        +0.70710678j]])"
      ]
     },
     "execution_count": 56,
     "metadata": {},
     "output_type": "execute_result"
    }
   ],
   "source": [
    "rx_mpi2@zero # RX(-pi/2)|0>."
   ]
  },
  {
   "cell_type": "markdown",
   "metadata": {
    "id": "SLv8GF-omxgR"
   },
   "source": [
    "### **Verifying with Qiskit:**"
   ]
  },
  {
   "cell_type": "code",
   "execution_count": null,
   "metadata": {
    "colab": {
     "base_uri": "https://localhost:8080/"
    },
    "executionInfo": {
     "elapsed": 7,
     "status": "ok",
     "timestamp": 1662047183000,
     "user": {
      "displayName": "Lucas Camponogara Viera",
      "userId": "14322290658374940800"
     },
     "user_tz": -480
    },
    "id": "3fb627d7-6962-4861-84f2-c55777fde7c2",
    "outputId": "1a1b41fc-8aea-4f11-fca5-c0cb92dc1376"
   },
   "outputs": [
    {
     "name": "stdout",
     "output_type": "stream",
     "text": [
      "    ┌───┐┌───┐\n",
      "q4: ┤ H ├┤ S ├\n",
      "    └───┘└───┘\n",
      "Statevector([0.70710678+0.j        , 0.        +0.70710678j],\n",
      "            dims=(2,))\n"
     ]
    },
    {
     "data": {
      "image/png": "[encoded data removed]",
      "text/plain": [
       "<Figure size 206.997x84.28 with 1 Axes>"
      ]
     },
     "execution_count": 57,
     "metadata": {},
     "output_type": "execute_result"
    }
   ],
   "source": [
    "qr = QuantumRegister(1)  # Define the number of qubits in the quantum circuit.\n",
    "qc = QuantumCircuit(qr)\n",
    "qc.h(0)  # Apply the Hadamard gate on qubit 0.\n",
    "qc.s(0)  # Apply the S gate on qubit 0.\n",
    "print(qc)  # Print the circuit.\n",
    "\n",
    "'''\n",
    "qc.save_statevector()  # Save the statevector.\n",
    "qobj = assemble(qc)    # Create a Qobj from the circuit for the simulator to run.\n",
    "result = sim.run(qobj).result() # Run the simulation and return the result.\n",
    "out_state = result.get_statevector()\n",
    "print(out_state)  # Print the output statevector.\n",
    "'''\n",
    "\n",
    "print(Statevector.from_instruction(qc))\n",
    "qc.draw(output='mpl')  "
   ]
  },
  {
   "cell_type": "code",
   "execution_count": null,
   "metadata": {
    "colab": {
     "base_uri": "https://localhost:8080/"
    },
    "executionInfo": {
     "elapsed": 7,
     "status": "ok",
     "timestamp": 1662047183001,
     "user": {
      "displayName": "Lucas Camponogara Viera",
      "userId": "14322290658374940800"
     },
     "user_tz": -480
    },
    "id": "4b84a2bd-b6ae-4101-a1cc-2b4eb28ed030",
    "outputId": "b7edc623-5c96-4c61-a36a-f60aedcf0f99"
   },
   "outputs": [
    {
     "name": "stdout",
     "output_type": "stream",
     "text": [
      "    ┌──────────┐\n",
      "q5: ┤ Rx(-π/2) ├\n",
      "    └──────────┘\n",
      "Statevector([0.70710678+0.j        , 0.        +0.70710678j],\n",
      "            dims=(2,))\n"
     ]
    },
    {
     "data": {
      "image/png": "[encoded data removed]",
      "text/plain": [
       "<Figure size 146.797x84.28 with 1 Axes>"
      ]
     },
     "execution_count": 58,
     "metadata": {},
     "output_type": "execute_result"
    }
   ],
   "source": [
    "qr = QuantumRegister(1)  # Define the number of qubits in the quantum circuit.\n",
    "qc = QuantumCircuit(qr)\n",
    "qc.rx(-np.pi/2,0)  # Apply the RX(-pi/2) gate on qubit 0.\n",
    "print(qc)  # Print the circuit.\n",
    "\n",
    "'''\n",
    "qc.save_statevector()  # Save the statevector.\n",
    "qobj = assemble(qc)    # Create a Qobj from the circuit for the simulator to run.\n",
    "result = sim.run(qobj).result() # Run the simulation and return the result.\n",
    "out_state = result.get_statevector()\n",
    "print(out_state)  # Print the output statevector.\n",
    "'''\n",
    "\n",
    "print(Statevector.from_instruction(qc))\n",
    "qc.draw(output='mpl')  "
   ]
  },
  {
   "cell_type": "markdown",
   "metadata": {
    "id": "8a2c441a-59c5-45e3-84dd-e71e8f194bab"
   },
   "source": [
    "## $SH|1\\rangle = R_x(\\pi/2)|0\\rangle = |\\ominus\\rangle$"
   ]
  },
  {
   "cell_type": "markdown",
   "metadata": {
    "id": "1etC8lPllTKu"
   },
   "source": [
    "### **Verifying with NumPy:**"
   ]
  },
  {
   "cell_type": "code",
   "execution_count": null,
   "metadata": {
    "colab": {
     "base_uri": "https://localhost:8080/"
    },
    "executionInfo": {
     "elapsed": 7,
     "status": "ok",
     "timestamp": 1662047183001,
     "user": {
      "displayName": "Lucas Camponogara Viera",
      "userId": "14322290658374940800"
     },
     "user_tz": -480
    },
    "id": "2487853c-db3e-4fe0-a716-c92a6ff2ad47",
    "outputId": "4aa2368c-d49e-4f0e-adea-5e9d64b161d7"
   },
   "outputs": [
    {
     "data": {
      "text/plain": [
       "array([[0.70710678+0.j        ],\n",
       "       [0.        -0.70710678j]])"
      ]
     },
     "execution_count": 59,
     "metadata": {},
     "output_type": "execute_result"
    }
   ],
   "source": [
    "(phase@had)@one # SH|1>."
   ]
  },
  {
   "cell_type": "code",
   "execution_count": null,
   "metadata": {
    "colab": {
     "base_uri": "https://localhost:8080/"
    },
    "executionInfo": {
     "elapsed": 551,
     "status": "ok",
     "timestamp": 1662047183546,
     "user": {
      "displayName": "Lucas Camponogara Viera",
      "userId": "14322290658374940800"
     },
     "user_tz": -480
    },
    "id": "5b4bc746-a109-45d0-8eb3-56c9e70bd200",
    "outputId": "03f1cb31-7aee-402b-cd12-1e050957811c"
   },
   "outputs": [
    {
     "data": {
      "text/plain": [
       "array([[0.70710678+0.j        ],\n",
       "       [0.        -0.70710678j]])"
      ]
     },
     "execution_count": 60,
     "metadata": {},
     "output_type": "execute_result"
    }
   ],
   "source": [
    "rx_pi2@zero # RX(pi/2)|0>."
   ]
  },
  {
   "cell_type": "markdown",
   "metadata": {
    "id": "5h52fMirlNya"
   },
   "source": [
    "### **Verifying with Qiskit:**"
   ]
  },
  {
   "cell_type": "code",
   "execution_count": null,
   "metadata": {
    "colab": {
     "base_uri": "https://localhost:8080/"
    },
    "executionInfo": {
     "elapsed": 6,
     "status": "ok",
     "timestamp": 1662047183547,
     "user": {
      "displayName": "Lucas Camponogara Viera",
      "userId": "14322290658374940800"
     },
     "user_tz": -480
    },
    "id": "743bb143-7a47-4de0-9e61-954936bca600",
    "outputId": "aa223a14-4249-4d43-c4e8-88d18581fdfb"
   },
   "outputs": [
    {
     "name": "stdout",
     "output_type": "stream",
     "text": [
      "    ┌───┐┌───┐┌───┐\n",
      "q6: ┤ X ├┤ H ├┤ S ├\n",
      "    └───┘└───┘└───┘\n",
      "Statevector([0.70710678+0.j        , 0.        -0.70710678j],\n",
      "            dims=(2,))\n"
     ]
    },
    {
     "data": {
      "image/png": "[encoded data removed]",
      "text/plain": [
       "<Figure size 267.052x84.28 with 1 Axes>"
      ]
     },
     "execution_count": 61,
     "metadata": {},
     "output_type": "execute_result"
    }
   ],
   "source": [
    "qr = QuantumRegister(1)  # Define the number of qubits in the quantum circuit.\n",
    "qc = QuantumCircuit(qr)\n",
    "qc.x(0)  # Apply the Pauli-X gate on qubit 0.\n",
    "qc.h(0)  # Apply the Hadamard gate on qubit 0.\n",
    "qc.s(0)  # Apply the S gate on qubit 0.\n",
    "print(qc)  # Print the circuit.\n",
    "\n",
    "'''\n",
    "qc.save_statevector()  # Save the statevector.\n",
    "qobj = assemble(qc)    # Create a Qobj from the circuit for the simulator to run.\n",
    "result = sim.run(qobj).result() # Run the simulation and return the result.\n",
    "out_state = result.get_statevector()\n",
    "print(out_state)  # Print the output statevector.\n",
    "'''\n",
    "\n",
    "print(Statevector.from_instruction(qc))\n",
    "qc.draw(output='mpl') "
   ]
  },
  {
   "cell_type": "code",
   "execution_count": null,
   "metadata": {
    "colab": {
     "base_uri": "https://localhost:8080/"
    },
    "executionInfo": {
     "elapsed": 5,
     "status": "ok",
     "timestamp": 1662047183547,
     "user": {
      "displayName": "Lucas Camponogara Viera",
      "userId": "14322290658374940800"
     },
     "user_tz": -480
    },
    "id": "c924499f-7c19-4c97-bb05-cf93794148a8",
    "outputId": "da00c883-2161-4243-f75d-1c4f4f11bf14"
   },
   "outputs": [
    {
     "name": "stdout",
     "output_type": "stream",
     "text": [
      "    ┌─────────┐\n",
      "q7: ┤ Rx(π/2) ├\n",
      "    └─────────┘\n",
      "Statevector([0.70710678+0.j        , 0.        -0.70710678j],\n",
      "            dims=(2,))\n"
     ]
    },
    {
     "data": {
      "image/png": "[encoded data removed]",
      "text/plain": [
       "<Figure size 146.797x84.28 with 1 Axes>"
      ]
     },
     "execution_count": 62,
     "metadata": {},
     "output_type": "execute_result"
    }
   ],
   "source": [
    "qr = QuantumRegister(1)  # Define the number of qubits in the quantum circuit.\n",
    "qc = QuantumCircuit(qr)\n",
    "qc.rx(np.pi/2,0)  # Apply the RX(-pi/2) gate on qubit 0.\n",
    "print(qc)  # Print the circuit.\n",
    "\n",
    "'''\n",
    "qc.save_statevector()  # Save the statevector.\n",
    "qobj = assemble(qc)    # Create a Qobj from the circuit for the simulator to run.\n",
    "result = sim.run(qobj).result() # Run the simulation and return the result.\n",
    "out_state = result.get_statevector()\n",
    "print(out_state)  # Print the output statevector.\n",
    "'''\n",
    "\n",
    "print(Statevector.from_instruction(qc))\n",
    "qc.draw(output='mpl')  "
   ]
  },
  {
   "cell_type": "markdown",
   "metadata": {
    "id": "a8f39d7c-0407-4eaa-9b25-bec76cde9de9"
   },
   "source": [
    "## $X \\otimes X = (X \\otimes X)^{\\dagger}:$\n",
    "\n",
    "**Hermitian property of Pauli X.**"
   ]
  },
  {
   "cell_type": "markdown",
   "metadata": {
    "id": "ks5dw2UcMdT7"
   },
   "source": [
    "### **Matrix approach:**"
   ]
  },
  {
   "cell_type": "markdown",
   "metadata": {
    "id": "tEsAdv_b3Iwg"
   },
   "source": [
    "\\begin{eqnarray}\n",
    "\\sigma_{j=1} &\\equiv& X \\doteq\n",
    "\\begin{pmatrix}\n",
    "0 & 1 \\\\\n",
    "1 & 0\n",
    "\\end{pmatrix}.\\\\\n",
    "X\\otimes X &=&\n",
    "\\begin{pmatrix}\n",
    "0 & 1 \\\\\n",
    "1 & 0\n",
    "\\end{pmatrix}\n",
    "\\otimes \n",
    "\\begin{pmatrix}\n",
    "0 & 1 \\\\\n",
    "1 & 0\n",
    "\\end{pmatrix}\n",
    "=\n",
    "\\begin{bmatrix} \n",
    "0\n",
    "\\begin{bmatrix} \n",
    "0 & 1 \\\\\n",
    "1 & 0\n",
    "\\end{bmatrix}\n",
    "1\n",
    "\\begin{bmatrix} \n",
    "0 & 1 \\\\\n",
    "1 & 0\n",
    "\\end{bmatrix}\\\\\n",
    "1\n",
    "\\begin{bmatrix} \n",
    "0 & 1 \\\\\n",
    "1 & 0\n",
    "\\end{bmatrix}\n",
    "0\n",
    "\\begin{bmatrix} \n",
    "0 & 1 \\\\\n",
    "1 & 0\n",
    "\\end{bmatrix} \n",
    "\\end{bmatrix}\n",
    "=\n",
    "\\begin{bmatrix} \n",
    "0 & 0 & 0 & 1\\\\\n",
    "0 & 0 & 1 & 0\\\\\n",
    "0 & 1 & 0 & 0\\\\\n",
    "1 & 0 & 0 & 0\\\\\n",
    "\\end{bmatrix}.\\\\\n",
    "(X\\otimes X)^{\\dagger} &=& {\\Bigg[(X\\otimes X)^{T}\\Bigg]}^* =\n",
    "\\begin{bmatrix} \n",
    "0 & 0 & 0 & 1\\\\\n",
    "0 & 0 & 1 & 0\\\\\n",
    "0 & 1 & 0 & 0\\\\\n",
    "1 & 0 & 0 & 0\\\\\n",
    "\\end{bmatrix}^*\n",
    "=\n",
    "\\begin{bmatrix} \n",
    "0 & 0 & 0 & 1\\\\\n",
    "0 & 0 & 1 & 0\\\\\n",
    "0 & 1 & 0 & 0\\\\\n",
    "1 & 0 & 0 & 0\\\\\n",
    "\\end{bmatrix}\n",
    "= X\\otimes X.\n",
    "\\end{eqnarray}\n",
    "\n",
    "Q.E.D."
   ]
  },
  {
   "cell_type": "markdown",
   "metadata": {
    "id": "tEFvH073NUMP"
   },
   "source": [
    "### **Using NumPy:**"
   ]
  },
  {
   "cell_type": "code",
   "execution_count": null,
   "metadata": {
    "colab": {
     "base_uri": "https://localhost:8080/"
    },
    "executionInfo": {
     "elapsed": 4,
     "status": "ok",
     "timestamp": 1662047183547,
     "user": {
      "displayName": "Lucas Camponogara Viera",
      "userId": "14322290658374940800"
     },
     "user_tz": -480
    },
    "id": "1f333fca-210d-4f93-bb00-3dfbf8d85961",
    "outputId": "2adf1f0f-e320-4830-eed6-7988518e0d92"
   },
   "outputs": [
    {
     "data": {
      "text/plain": [
       "True"
      ]
     },
     "execution_count": 63,
     "metadata": {},
     "output_type": "execute_result"
    }
   ],
   "source": [
    "(np.kron(sigma1, sigma1) == np.kron(sigma1, sigma1).conj().T).all() "
   ]
  },
  {
   "cell_type": "code",
   "execution_count": null,
   "metadata": {
    "colab": {
     "base_uri": "https://localhost:8080/"
    },
    "executionInfo": {
     "elapsed": 4,
     "status": "ok",
     "timestamp": 1662047183547,
     "user": {
      "displayName": "Lucas Camponogara Viera",
      "userId": "14322290658374940800"
     },
     "user_tz": -480
    },
    "id": "LJm8VQPjgE5u",
    "outputId": "3fc722bc-537f-40ee-ecee-0fa5fe2e8317"
   },
   "outputs": [
    {
     "data": {
      "text/plain": [
       "array([[0., 0., 0., 1.],\n",
       "       [0., 0., 1., 0.],\n",
       "       [0., 1., 0., 0.],\n",
       "       [1., 0., 0., 0.]], dtype=float32)"
      ]
     },
     "execution_count": 64,
     "metadata": {},
     "output_type": "execute_result"
    }
   ],
   "source": [
    "np.kron(sigma1, sigma1)"
   ]
  },
  {
   "cell_type": "code",
   "execution_count": null,
   "metadata": {
    "colab": {
     "base_uri": "https://localhost:8080/"
    },
    "executionInfo": {
     "elapsed": 3,
     "status": "ok",
     "timestamp": 1662047183547,
     "user": {
      "displayName": "Lucas Camponogara Viera",
      "userId": "14322290658374940800"
     },
     "user_tz": -480
    },
    "id": "KaXyiCW9gHdb",
    "outputId": "976b4db6-6153-42b2-a110-3af55c110985"
   },
   "outputs": [
    {
     "data": {
      "text/plain": [
       "array([[0., 0., 0., 1.],\n",
       "       [0., 0., 1., 0.],\n",
       "       [0., 1., 0., 0.],\n",
       "       [1., 0., 0., 0.]], dtype=float32)"
      ]
     },
     "execution_count": 65,
     "metadata": {},
     "output_type": "execute_result"
    }
   ],
   "source": [
    "np.kron(sigma1, sigma1).conj().T"
   ]
  },
  {
   "cell_type": "markdown",
   "metadata": {
    "id": "864_5ltpEXc5"
   },
   "source": [
    "# Verifying Quantum Circuits\n",
    "\n",
    "- $ZZ(t)$, $XX(t)$, and $YY(t)$ gates."
   ]
  },
  {
   "cell_type": "markdown",
   "metadata": {
    "id": "ZjouLXJGTgOf"
   },
   "source": [
    "## Short notes on linear algebra\n",
    "\n"
   ]
  },
  {
   "cell_type": "markdown",
   "metadata": {
    "id": "z95HyKwK9aNs"
   },
   "source": [
    "Recall that Pauli operators $X, Y,$ and $Z$ are all represented by matrices that are both Hermitian and Unitary and, therefore, Involutory. Since they are Involutory, their eigenvalues are $\\pm 1$. Moreover, Hermitian and Unitary matrices are Normal matrices. The converse is not true, i.e, Normal matrices are not always Hermitian and Unitary. A Normal matrix is Unitary iff all of its eigenvalues (the matrix spectrum) lie on the unit circle of the complex plane, i.e, they have modulus (absolute value) equal to one ($|\\lambda|=1$), and hence they can be written in the form $\\lambda=e^{i\\theta}$ for some real-valued number $\\theta$. And a Normal matrix is Hermitian iff all of its eigenvalues are real ($\\lambda=\\lambda^*$)."
   ]
  },
  {
   "cell_type": "markdown",
   "metadata": {
    "id": "jC_YxNaqOZAY"
   },
   "source": [
    "**Spectral decomposition theorem for Normal matrices** *Any Normal operator $\\hat{\\mathcal{O}}$ on a vector space $V$ of dimension $\\dim V=d$ is unitarily diagonalizable with respect to some orthonormal basis for $V$. Conversely, any unitarily diagonalizable operator is normal.*\n",
    "\n",
    "It follows that an operator is Normal iff it is unitarily diagonalizable. Therefore, any Normal operator has a spectral (eigenvalue) decomposition in terms of the outer product representation, and in the basis of its eigenvectors, of the form:\n",
    "\n",
    "$$ \\hat{O} = \\sum_{j=1}^{d}= o_j P_{o_j} = \\sum_{j=1}^{d} o_j |o_j \\rangle \\langle o_j|.$$\n",
    "\n",
    "Where:\n",
    "\n",
    "- $o_j$ and $P_{o_j}$ are the corresponding eigenvalue and projector operator of the observable $\\hat{O}$, respectively. \n",
    "\n",
    "- $\\{o_j\\}|_{j=1}^d$ is a basis set of $d$ linearly independent orthonormal eigenvectors $|o_j\\rangle$ of $\\hat{O}$ with eigenvalue $o_j$.\n",
    "\n",
    "Note that:\n",
    "\n",
    "$$ \\Bigg( \\sum_{j=1}^{d} o_j |o_j \\rangle \\langle o_j| \\Bigg) |o_k \\rangle =  \\sum_{j=1}^{d} o_j |o_j \\rangle \\delta_{jk}= o_k |o_k \\rangle = \\hat{O} |o_k \\rangle.$$\n",
    "\n",
    "**Note:** the above theorem does not imply that any diagonalizable operator is Normal, this is only true for `unitary diagonalization`. There are matrices which are not Normal, but are diagonalizable by orthogonal operators (`orthogonal diagonalization`). See the `spectral theorem for Symmetric matrices` for more information."
   ]
  },
  {
   "cell_type": "markdown",
   "metadata": {
    "id": "oIo-DkFdR8M7"
   },
   "source": [
    "Let $A \\in M^{n,n}$ be a square matrix of dimension $n$x$n$.\n",
    "\n",
    "- 1) $A$ is `unitary diagonalizable` if and only if $A$ is Normal: $AA^{\\dagger}=A^{\\dagger}A$.\n",
    "\n",
    "- 2) $A$ is `orthogonally diagonalizable` if and only if $A$ is symmetric: $A=A^{T}$."
   ]
  },
  {
   "cell_type": "markdown",
   "metadata": {
    "id": "2iE8qfEO1Z8c"
   },
   "source": [
    "Given the spectral decomposition theorem, it is possible to write the operator function (matrix function) on a Normal matrix $\\hat{O}$ as follows:\n",
    "\n",
    "$$f(\\hat{O})= \\sum_j f(o_j) |o_j\\rangle \\langle o_j|,$$\n",
    "\n",
    "which is equivalent to (after writing $\\hat{O} = UDU^{\\dagger}$)\n",
    "\n",
    "\\begin{eqnarray}\n",
    "f(\\hat{O}) = Uf(D)U^{\\dagger}.\n",
    "\\end{eqnarray}\n",
    "\n",
    "For the exponential function over the field $\\mathbb{C}^n$ of the complex numbers, this becomes:\n",
    "\n",
    "$$ e^{i\\theta\\hat{O}} = \\sum_{j=1}^n e^{i\\theta o_j} |o_j\\rangle \\langle o_j| = e^{i\\theta o_1} |o_{1}\\rangle \\langle o_{1}| + \\cdots + e^{i\\theta o_n} |o_{n}\\rangle \\langle o_{n}|.$$\n",
    "\n",
    "To see this is true, recall that the eigenvalues of a matrix are multiplied by a scalar when the matrix is multiplied by the same scalar, while the eigenvectors are left unchanged. One can extend this identity to a tensor product of Normal operators noting that `the tensor product of two Hermitian operators is another Hermitian operator`. Recall that Hermitian and Unitary operators are also Normal operators and, therefore, they also have a spectral decomposition in terms of the outer product representation."
   ]
  },
  {
   "cell_type": "markdown",
   "metadata": {
    "id": "tBmjoW4bPpij"
   },
   "source": [
    "## $ZZ(t)$ gate\n",
    "\n",
    "\n"
   ]
  },
  {
   "cell_type": "markdown",
   "metadata": {
    "id": "t1JD2jrePv7-"
   },
   "source": [
    "In this section, the following gate will be verified:\n",
    "\n",
    "$$ZZ(t)=e^{-itZ\\otimes Z} = C_{x}^{01}\\big(\\mathbb{I}\\otimes R_z(2t)\\big)C_{x}^{01} = C_{x}^{01}\\big(\\mathbb{I}\\otimes e^{-itZ}\\big)C_{x}^{01}.$$\n",
    "\n"
   ]
  },
  {
   "cell_type": "markdown",
   "metadata": {
    "id": "XcvM6VJ-7ByW"
   },
   "source": [
    "Recall that a general single-qubit standard rotation gate can be written as:\n",
    "\n",
    "$$ R_{\\hat{n}}(\\theta) \\doteq e^{\\pm i(\\hat{n} \\cdot \\vec{\\sigma})\\theta /2}= \\cos(\\theta/2) I \\pm i \\sin(\\theta/2)(\\hat{n}\\cdot \\hat{\\sigma}),$$\n",
    "\n",
    "and after defining $\\theta \\doteq 2t$, one has\n",
    "\n",
    "\\begin{eqnarray}\n",
    "RZ(2t) \\equiv R_z(2t)&=& R_{(0,0,1)}(2t) \\doteq \\exp(- iZ2t/2) = e^{-itZ} \n",
    "= cos(t)I -isin(t)Z = \n",
    "\\begin{bmatrix} e^{- it} & 0 \\\\0 &  e^{it}\n",
    "\\end{bmatrix} = e^{- it}|0 \\rangle\\langle 0| + e^{it} |1 \\rangle\\langle 1|.\n",
    "\\end{eqnarray}\n",
    "\n",
    "With that, the $e^{-itZZ}$ gate (a.k.a [RZZ](https://qiskit.org/documentation/stubs/qiskit.circuit.library.RZZGate.html)(2t)) can be written as follows:\n",
    "\n",
    "\\begin{equation}\n",
    "R_{zz}(2t)= \\exp(-it Z\\otimes Z)=cos\\left(t\\right)(\\mathbb{I}_2\\otimes \\mathbb{I}_2)-isin\\left(t\\right)(Z\\otimes Z).\n",
    "\\end{equation}"
   ]
  },
  {
   "cell_type": "markdown",
   "metadata": {
    "id": "YkHuY5ZfNEwT"
   },
   "source": [
    "**1) The $e^{-itZ\\otimes Z}$ gate is already diagonalized in the canonical basis a.k.a $Z$-basis.**\n",
    "\n",
    "To see this is true, recall that Pauli operators are Normal operators, therefore, one can write the following spectral decomposition for the Pauli-$Z$ gate in the canonical basis: \n",
    "\n",
    "$$Z=\\sum_{j=1}^{d} z_j |z_j \\rangle \\langle z_j|=|0\\rangle\\langle 0|-|1\\rangle\\langle 1|.$$\n",
    "\n",
    "Note that the eigenvalues are $o_j = \\pm 1$, since Pauli operators are represented by Involutory matrices. With that, one then has \n",
    "\n",
    "\\begin{eqnarray}\n",
    "Z\\otimes Z &=& (|0\\rangle\\langle 0|-|1\\rangle\\langle 1|)\\otimes(|0\\rangle\\langle 0|-|1\\rangle\\langle 1|) \\tag{ZZ1}\\\\\n",
    "&=& (|0\\rangle\\langle 0|) \\otimes (|0\\rangle\\langle 0|) - (|0\\rangle\\langle 0|) \\otimes (|1\\rangle\\langle 1|) - (|1\\rangle\\langle 1|)\\otimes(|0\\rangle\\langle 0|) + (|1\\rangle\\langle 1|)\\otimes(|1\\rangle\\langle 1|) \\tag{ZZ2}\\\\\n",
    "&=&|00\\rangle\\langle 00|-|01\\rangle\\langle 01|-|10\\rangle\\langle 10|+|11\\rangle\\langle 11| \\tag{ZZ3} \\\\\n",
    "&=& \\begin{bmatrix} \n",
    "1 & 0 & 0 & 0 \\\\ 0 & -1 & 0 & 0 \\\\ 0 & 0 & -1 & 0 \\\\ 0 & 0 & 0 & 1  \n",
    "\\end{bmatrix}.\n",
    "\\end{eqnarray}\n",
    "\n",
    "- Eq. ($ZZ2$) was obtained from Eq. ($ZZ1$) using the distributive property for matrices:\n",
    "\n",
    "$$(A+B) \\otimes (C+D)=A\\otimes C+A\\otimes D+B\\otimes C+B\\otimes D.$$\n",
    "\n",
    "- Eq. ($ZZ3$) was obtained from Eq. ($ZZ2$) using:\n",
    "\n",
    "$$|a\\rangle \\langle c| \\otimes |b\\rangle \\langle d|  = (|a\\rangle \\otimes |b\\rangle)(\\langle c| \\otimes \\langle d|) \\equiv |ab\\rangle\\langle cd|.$$\n",
    "\n",
    "Finally, \n",
    "\n",
    "\\begin{eqnarray}\n",
    "e^{-itZ \\otimes Z}&=&e^{-it}|00\\rangle\\langle 00|+ e^{it}|01\\rangle\\langle 01|+ e^{it}|10\\rangle\\langle 10|+e^{-it}|11\\rangle\\langle 11|\\tag{ZZ4} \\\\\n",
    "&=&e^{-it}\\bigg(|00\\rangle\\langle 00|+|11\\rangle\\langle 11|\\bigg)+e^{it}\\bigg(|01\\rangle\\langle 01|+|10\\rangle\\langle 10|\\bigg) \\\\\n",
    "&=& \n",
    "\\begin{bmatrix} \n",
    "e^{-it} & 0 & 0 & 0 \\\\ 0 & e^{it} & 0 & 0 \\\\ 0 & 0 & e^{it} & 0 \\\\ 0 & 0 & 0 & e^{-it}  \n",
    "\\end{bmatrix}.\n",
    "\\end{eqnarray}\n",
    "\n",
    "- As for Eq. ($ZZ4$), it is the result of acting an operator function (in this case $e^{i\\theta \\hat{O}}$) on a Normal matrix (in this case $Z\\otimes Z$) represented by its spectral decomposition, according to:\n",
    "\n",
    "$$ e^{i\\theta\\hat{O}} = \\sum_{j=1}^n e^{i\\theta o_j} |o_j\\rangle \\langle o_j| = e^{i\\theta o_1} |o_{1}\\rangle \\langle o_{1}| + \\cdots + e^{i\\theta o_n} |o_{n}\\rangle \\langle o_{n}|.$$\n",
    "\n",
    "In another perspective, when the matrix is diagonal, the function acts on its diagonal entries."
   ]
  },
  {
   "cell_type": "markdown",
   "metadata": {
    "id": "E4p8FcXo-IBY"
   },
   "source": [
    "**2) Computing the parity information by acting with the $ZZ$ operator.**\n",
    "\n",
    "To build quantum circuits corresponding to unitary evolution operators from exponentials of the form $U=e^{-i\\hat{H}\\Delta t}$, one can use the parity trick (see Ref. [[1](#ref1)], Sec. 4.7.3). In this case, one can obtain Eq. ($ZZ4$) by computing the parity information, as follows:\n",
    "\n",
    "\\begin{eqnarray}\n",
    "(Z\\otimes Z)|00\\rangle &=& |00\\rangle, \\\\\n",
    "(Z\\otimes Z)|10\\rangle &=& -|10\\rangle, \\\\\n",
    "(Z\\otimes Z)|01\\rangle &=& -|01\\rangle, \\\\\n",
    "(Z\\otimes Z)|11\\rangle &=& |11\\rangle. \\\\\n",
    "\\end{eqnarray}\n",
    "\n",
    "One can see that a minus sign (phase) is introduced whenever the basis state has odd parity (01 or 10). Therefore, in the computational basis, a phase shift will be applied to the system according to $e^{i\\Delta t}$ if the parity of the $n$ qubits in the computational basis is odd, otherwise, the phase shift will be $e^{-i\\Delta t}$ if the parity is even (see Ref. [[1](#ref1)], Sec. 4.7.3). With this result, one can write:\n",
    "\n",
    "\\begin{eqnarray}\n",
    "e^{-itZ \\otimes Z} &=& e^{-it}|00\\rangle\\langle 00| + e^{it}|01\\rangle\\langle 01| + e^{it}|10 \\rangle\\langle 10| + e^{-it}|11 \\rangle\\langle 11|.\n",
    "\\end{eqnarray}"
   ]
  },
  {
   "cell_type": "markdown",
   "metadata": {
    "id": "mFT2hncsDjEq"
   },
   "source": [
    "**3) Implementing the CNOT gates and the $R_z(2t)$ gate for the parity computation circuit:**\n",
    "\n",
    "\\begin{eqnarray}\n",
    "CX^{01}\\big(\\mathbb{I} \\otimes R_z(2t)\\big)CX^{01} =\n",
    "CX^{01}\\big(\\mathbb{I} \\otimes e^{-itZ}\\big)CX^{01},\n",
    "\\end{eqnarray}\n",
    "\n",
    "where it was used $RZ(2t) = e^{-itZ}$.\n",
    "\n",
    "Using the equation for a generic CU gate, one can write $CX^{01} = \\mathbb{I} \\otimes |0\\rangle\\langle 0\\rangle + X \\otimes |1 \\rangle \\langle 1|$. However, in textbook convention the CNOT gate reads $CX^{01}=|0\\rangle\\langle 0|\\otimes \\mathbb{I} +|1\\rangle\\langle 1|\\otimes X$. One then has\n",
    "\n",
    "\\begin{eqnarray}\n",
    "CX^{01}\\big(\\mathbb{I} \\otimes e^{-itZ}\\big)CX^{01}=CX^{01}\\big( \\mathbb{I} \\otimes e^{-itZ}\\big)\\big(|0\\rangle\\langle 0|\\otimes \\mathbb{I}  +|1\\rangle\\langle 1|\\otimes X \\big).\n",
    "\\end{eqnarray}\n",
    "\n",
    "From here, the distributive property of matrix multiplication over matrix addition yelds:\n",
    "\n",
    "$$\\big(\\mathbb{I}\\otimes e^{-itZ}\\big)\\big(|0\\rangle\\langle 0|\\otimes \\mathbb{I} +|1\\rangle\\langle 1|\\otimes X \\big) = \\big(\\mathbb{I}\\otimes e^{-itZ}\\big) \\big(|0\\rangle\\langle 0|\\otimes \\mathbb{I} \\big) + \\big(\\mathbb{I} \\otimes e^{-itZ}\\big)\\big(|1\\rangle\\langle 1|\\otimes X \\big).$$\n",
    "\n",
    "Using $(A\\otimes B)\\cdot(C\\otimes D)=A\\cdot C\\otimes B\\cdot D$, the right hand side becomes:\n",
    "\n",
    "$$\\Bigg[(\\mathbb{I} \\cdot |0\\rangle\\langle 0|) \\otimes (e^{-itZ} \\cdot \\mathbb{I})\\Bigg] + \\Bigg[ (\\mathbb{I} \\cdot |1\\rangle\\langle 1|) \\otimes (e^{-itZ} \\cdot X) \\Bigg] = \\Bigg(|0\\rangle\\langle 0|\\otimes e^{-itZ} \\Bigg) + \\Bigg(|1\\rangle\\langle 1|\\otimes e^{-itZ}X \\Bigg) .$$ \n",
    "\n",
    "With that, one then has:\n",
    "\n",
    "\\begin{eqnarray}\n",
    "CX^{01}\\bigg(\\mathbb{I}\\otimes e^{-itZ}\\bigg)CX^{01} &=& CX^{01}\\bigg(|0\\rangle\\langle 0|\\otimes e^{-itZ} +|1\\rangle\\langle 1|\\otimes e^{-itZ}X \\bigg) = \\bigg(|0\\rangle\\langle 0|\\otimes \\mathbb{I} +|1\\rangle\\langle 1|\\otimes X \\bigg)\\bigg(|0\\rangle\\langle 0|\\otimes e^{-itZ} +|1\\rangle\\langle 1|\\otimes e^{-itZ}X \\bigg).\n",
    "\\end{eqnarray}\n",
    "\n",
    "Once again, applying the distributive property over matrix addition, the last term becomes\n",
    "\n",
    "\\begin{eqnarray}\n",
    "CX^{01}\\bigg(\\mathbb{I}\\otimes e^{-itZ}\\bigg)CX^{01} &=& \\bigg(|0\\rangle\\langle 0|\\otimes \\mathbb{I} \\Bigg)\\bigg(|0\\rangle\\langle 0|\\otimes e^{-itZ} \\Bigg)+\\bigg(|0\\rangle\\langle 0|\\otimes \\mathbb{I} \\Bigg)\\bigg(|1\\rangle\\langle 1|\\otimes e^{-itZ}X \\Bigg)\\\\\n",
    "&+&\\bigg(|1\\rangle\\langle 1|\\otimes X\\bigg)\\bigg(|0\\rangle\\langle 0|\\otimes e^{-itZ}\\bigg)+\\bigg(|1\\rangle\\langle 1|\\otimes X\\bigg)\\bigg(|1\\rangle\\langle 1|\\otimes e^{-itZ}X\\bigg)\\\\\n",
    "&=& \\Bigg(|0\\rangle\\langle 0|0\\rangle\\langle 0| \\otimes e^{-itZ}\\Bigg)\\Bigg(|0\\rangle\\langle 0|1\\rangle\\langle 1| \\otimes e^{-itZ}X\\Bigg)\\Bigg(|1\\rangle\\langle 1|0\\rangle\\langle 0| \\otimes Xe^{-itZ}\\Bigg)\\Bigg(|1\\rangle\\langle 1|1\\rangle\\langle 1| \\otimes Xe^{-itZ}X\\Bigg)\\\\\n",
    "&=& \\Bigg(|0\\rangle\\langle 0|\\otimes e^{-itZ} \\Bigg)+\\Bigg(|1\\rangle\\langle 1|\\otimes Xe^{-itZ}X \\Bigg) \\\\ \n",
    "&=& \\Bigg(|0\\rangle\\langle 0|\\otimes (e^{-it}|0\\rangle\\langle 0|+e^{it}|1\\rangle\\langle 1|)\\Bigg) +\\Bigg(|1\\rangle\\langle 1|\\otimes X (e^{-it}|0\\rangle\\langle 0|+e^{it}|1\\rangle\\langle 1|)X\\Bigg) \\\\\n",
    "&=&\\Bigg(|0\\rangle\\langle 0|\\otimes (e^{-it}|0\\rangle\\langle 0|+e^{it}|1\\rangle\\langle 1|)\\Bigg) +\\Bigg(|1\\rangle\\langle 1|\\otimes  (e^{-it}X|0\\rangle\\langle 0|X+e^{it}X|1\\rangle\\langle 1|X)\\Bigg),\n",
    "\\end{eqnarray}\n",
    "\n",
    "where it was used $\\langle i|j\\rangle = \\delta_{ij}$ for a set of orthonormal eigenvectors, and $e^{-itZ}=e^{- it}|0 \\rangle\\langle 0| + e^{it} |1 \\rangle\\langle 1|$. \n",
    "\n",
    "To compute $\\big(e^{-it}X|0\\rangle\\langle 0|X+e^{it}X|1\\rangle\\langle 1|X\\big)$, one should note that \n",
    "\n",
    "\\begin{eqnarray}\n",
    "X|0\\rangle &=& |1\\rangle, \\\\\n",
    "X|1\\rangle &=& |0\\rangle, \\\\\n",
    "(A|\\psi\\rangle)^{\\dagger} &=& |\\psi\\rangle^{\\dagger} A^{\\dagger} = \\langle \\psi| A^{\\dagger}, \\\\\n",
    "X^{\\dagger}&=&X,\\\\\n",
    "\\langle 0| X &=& (X|0\\rangle)^{\\dagger} = (|1\\rangle)^{\\dagger} = \\langle 1|,\\\\\n",
    "\\langle 1| X &=& (X|1\\rangle)^{\\dagger} = (|0\\rangle)^{\\dagger} = \\langle 0|.\n",
    "\\end{eqnarray}\n",
    "\n",
    "Finally,\n",
    "\\begin{eqnarray}\n",
    "CX^{01}(\\mathbb{I}\\otimes e^{-itZ})CX^{01}&=& \\Bigg(|0\\rangle\\langle 0|\\otimes (e^{-it}|0\\rangle\\langle 0|+e^{it}|1\\rangle\\langle 1|)\\Bigg) + \\Bigg(|1\\rangle\\langle 1|\\otimes (e^{-it}|1\\rangle\\langle 1|+e^{it}|0\\rangle\\langle 0|)\\Bigg) \\\\\n",
    "&=& \\Bigg(e^{-it}|0\\rangle\\langle 0|\\otimes|0\\rangle\\langle 0|+e^{it}|0\\rangle\\langle 0|\\otimes|1\\rangle\\langle 1|\\Bigg) + \\Bigg(e^{-it}|1\\rangle\\langle 1|\\otimes|1\\rangle\\langle 1|+e^{it}|1\\rangle\\langle 1|\\otimes|0\\rangle\\langle 0|\\Bigg) \\\\\n",
    "&=& e^{-it}|00\\rangle\\langle 00| + e^{it}|01\\rangle\\langle 01| + e^{-it}|11\\rangle\\langle 11|+ e^{it}|10\\rangle\\langle 10| \\\\\n",
    "&=& e^{-itZZ},\n",
    "\\end{eqnarray}\n",
    "\n",
    "where it was used the left–distributive property $$A \\otimes (B+C) = A\\otimes B+A\\otimes C,$$ and the identity $$(|a\\rangle \\langle c|) \\otimes (|b\\rangle \\langle d|)=(|a\\rangle \\otimes |b\\rangle)(\\langle c| \\otimes \\langle d|) \\equiv |ab\\rangle \\langle cd|.$$\n",
    "\n",
    "Q.E.D."
   ]
  },
  {
   "cell_type": "markdown",
   "metadata": {
    "id": "f640c94a-c8a9-4675-a91d-07e12b12aa1c",
    "jp-MarkdownHeadingCollapsed": true,
    "tags": []
   },
   "source": [
    "## $XX(t)$ gate"
   ]
  },
  {
   "cell_type": "markdown",
   "metadata": {
    "id": "7e08e7df-6055-4169-907d-db244ba97a6a"
   },
   "source": [
    "One should note that $e^{-itXX}$ is shorthand for $e^{-itX \\otimes X}.$ Recall that Pauli operators are all involutory operators, i.e, their eigenvalues are $o_j = \\pm 1$. According to the spectral decomposition theorem for Normal matrices, one then has:\n",
    "\n",
    "$$X = \\sum_{j=1}^{d} x_j |x_j \\rangle \\langle x_j| = |+\\rangle\\langle +|-|-\\rangle\\langle -|,$$\n",
    "\n",
    "where $$ |\\pm\\rangle \\equiv \\frac{1}{\\sqrt{2}}(|0\\rangle\\pm|1\\rangle) $$ \n",
    "\n",
    "denotes the two orthonormal eigenstates (eigenvectors) of the Pauli $X$-gate according to:\n",
    "\n",
    "$$X |+\\rangle = \\frac{1}{\\sqrt{2}}(X|0\\rangle+X|1\\rangle)=\\frac{1}{\\sqrt{2}}(|1\\rangle+|0\\rangle)=|+\\rangle,$$\n",
    "$$X |-\\rangle = \\frac{1}{\\sqrt{2}}(X|0\\rangle-X|1\\rangle) =\\frac{1}{\\sqrt{2}}(|1\\rangle-|0\\rangle)=-|-\\rangle.$$\n",
    "\n",
    "With that, one gets:\n",
    "\n",
    "\\begin{eqnarray}\n",
    "XX &\\equiv& X\\otimes X = (|+\\rangle\\langle +|-|-\\rangle\\langle -|)\\otimes(|+\\rangle\\langle +|-|-\\rangle\\langle -|) \\tag{XX1}\\\\\n",
    "&=& (|+\\rangle\\langle +|) \\otimes (|+\\rangle\\langle +|) - (|+\\rangle\\langle +|) \\otimes (|-\\rangle\\langle -|) - (|-\\rangle\\langle -|)\\otimes (|+\\rangle\\langle +|) + (|-\\rangle\\langle -|) \\otimes (|-\\rangle\\langle -|) \\tag{XX2} \\\\\n",
    "&=& (|++\\rangle\\langle ++|)-(|+-\\rangle\\langle +-|)-(|-+\\rangle\\langle -+|)+(|--\\rangle\\langle --|) \\tag{XX3} \\\\\n",
    "\\implies e^{-itX \\otimes X}\n",
    "&=&e^{-it}|++\\rangle\\langle ++|+ e^{-it}|--\\rangle\\langle --|+e^{it}|+-\\rangle\\langle +-|+ e^{it}|-+\\rangle\\langle -+|\\tag{XX4} \\\\\n",
    "&=&e^{-it}\\bigg(|++\\rangle\\langle ++|+|--\\rangle\\langle --|\\bigg)+e^{it}\\bigg(|+-\\rangle\\langle +-|+|-+\\rangle\\langle -+|\\bigg).\n",
    "\\end{eqnarray}\n",
    "\n",
    "- Eq. ($XX2$) was obtained from Eq. ($XX1$) using the distributive property for matrices:\n",
    "\n",
    "$$(A+B) \\otimes (C+D)=A\\otimes C+A\\otimes D+B\\otimes C+B\\otimes D.$$\n",
    "\n",
    "- Eq. ($XX3$) was obtained from Eq. ($XX2$) using:\n",
    "\n",
    "$$|a\\rangle \\langle c| \\otimes |b\\rangle \\langle d|  = (|a\\rangle \\otimes |b\\rangle)(\\langle c| \\otimes \\langle d|) \\equiv |ab\\rangle\\langle cd|.$$\n",
    "\n",
    "- Just as before, Eq. ($XX4$) is the result of acting an operator function (in this case $e^{i\\theta \\hat{O}}$) on a Normal matrix (in this case $X\\otimes X$) represented by its corresponding spectral decomposition. \n",
    "\n",
    "As one can see, the $e^{-itX\\otimes X}$ gate is not diagonalized in the $Z$-basis. Since measurements are computed in the $Z$-basis, one must apply a Hadamard gate to change between the $X$ and $Z$ bases according to\n",
    "\n",
    "\\begin{eqnarray}\n",
    "|+\\rangle &=& H|0\\rangle = R_y(\\pi/2)|0\\rangle, \\\\\n",
    "|-\\rangle &=& H|1\\rangle = R_y(-\\pi/2)|0\\rangle, \\\\\n",
    "\\langle +| &=& (|+\\rangle)^{\\dagger} = (H|0\\rangle)^{\\dagger} = (|0\\rangle)^{\\dagger}H^{\\dagger} = \\langle 0|H,\\\\\n",
    "\\langle -| &=& (|-\\rangle)^{\\dagger} == (H|1\\rangle)^{\\dagger} = (|1\\rangle)^{\\dagger}H^{\\dagger} = \\langle 1|H.\n",
    "\\end{eqnarray}"
   ]
  },
  {
   "cell_type": "markdown",
   "metadata": {
    "id": "OOzoRtcgcEmN"
   },
   "source": [
    "With that, and using $A |v\\rangle \\otimes B |w\\rangle = (A\\otimes B)(|v\\rangle \\otimes |w\\rangle),$ one can write the respective outer products as follows:\n",
    "\n",
    "\\begin{eqnarray}\n",
    "|++\\rangle\\langle ++| &=& (H|0\\rangle \\otimes H|0\\rangle)(\\langle 0| H \\otimes \\langle 0| H)\\\\\n",
    "&=& \\Bigg[(H \\otimes H)(|0\\rangle \\otimes |0\\rangle)\\Bigg]\\Bigg[(\\langle 0| \\otimes \\langle 0|)(H \\otimes H)\\Bigg] \\\\\n",
    "&=&(H\\otimes H)|00\\rangle\\langle 00|(H\\otimes H),\\\\\n",
    "\\end{eqnarray}"
   ]
  },
  {
   "cell_type": "markdown",
   "metadata": {
    "id": "04MLdxyqnP4X"
   },
   "source": [
    "\\begin{eqnarray}\n",
    "|--\\rangle\\langle --| &=& (H|1\\rangle \\otimes H|1\\rangle)(\\langle 1| H\\otimes \\langle 1| H)\\\\\n",
    "&=& \\Bigg[(H \\otimes H)(|1\\rangle \\otimes |1\\rangle)\\Bigg]\\Bigg[(\\langle 1| \\otimes \\langle 1|)(H \\otimes H)\\Bigg] \\\\\n",
    "&=&(H\\otimes H)|11\\rangle\\langle 11|(H\\otimes H),\n",
    "\\end{eqnarray}"
   ]
  },
  {
   "cell_type": "markdown",
   "metadata": {
    "id": "0PZzU-pLnQH4"
   },
   "source": [
    "\\begin{eqnarray}\n",
    "|+-\\rangle\\langle +-| &=& (H|0\\rangle \\otimes H|1\\rangle)(\\langle 0| H \\otimes \\langle 1| H)\\\\\n",
    "&=& \\Bigg[(H \\otimes H)(|0\\rangle \\otimes |1\\rangle)\\Bigg]\\Bigg[(\\langle 0| \\otimes \\langle 1|)(H \\otimes H)\\Bigg] \\\\\n",
    "&=&(H\\otimes H)|01\\rangle\\langle 01|(H\\otimes H),\n",
    "\\end{eqnarray}"
   ]
  },
  {
   "cell_type": "markdown",
   "metadata": {
    "id": "LTQESG6GolZd"
   },
   "source": [
    "\\begin{eqnarray}\n",
    "|-+\\rangle\\langle -+| &=& (H|1\\rangle \\otimes H|0\\rangle)(\\langle 1| H \\otimes \\langle 0| H)\\\\\n",
    "&=& \\Bigg[(H \\otimes H)(|1\\rangle \\otimes |0\\rangle)\\Bigg]\\Bigg[(\\langle 1| \\otimes \\langle 0|)(H \\otimes H)\\Bigg] \\\\\n",
    "&=&(H\\otimes H)|10\\rangle\\langle 10|(H\\otimes H).\n",
    "\\end{eqnarray}"
   ]
  },
  {
   "cell_type": "markdown",
   "metadata": {
    "id": "NPtcXZv3bxaU"
   },
   "source": [
    "Finally,\n",
    "\n",
    "\\begin{eqnarray}\n",
    "e^{-itX \\otimes X} &=& e^{-it}\\Bigg[(H\\otimes H)|00\\rangle\\langle 00|(H\\otimes H)+(H\\otimes H)|11\\rangle\\langle 11|(H\\otimes H)\\Bigg]+e^{it}\\Bigg[(H\\otimes H)|01\\rangle\\langle 01|(H\\otimes H)+(H\\otimes H)|10\\rangle\\langle 10|(H\\otimes H)\\Bigg] \\\\\n",
    "&=& (H\\otimes H)\\Bigg[e^{-it}\\Bigg(|00\\rangle\\langle 00|+|11\\rangle\\langle 11|\\Bigg)+e^{it}\\Bigg(|01\\rangle\\langle 01|+|10\\rangle\\langle 10|\\Bigg)\\Bigg](H\\otimes H)\\\\\n",
    "&=& (H\\otimes H)e^{-itZ\\otimes Z}(H\\otimes H) \\\\\n",
    "&=& (H\\otimes H)C_{x}^{01}\\big(\\mathbb{I}\\otimes e^{-itZ}\\big)C_{x}^{01}(H\\otimes H) \\\\\n",
    "&=& (H\\otimes H)C_{x}^{01}\\big(\\mathbb{I}\\otimes R_Z(2t)\\big)C_{x}^{01}(H\\otimes H),\n",
    "\\end{eqnarray}\n",
    "\n",
    "where it was used the previously obtained decomposition of the $ZZ(t)$ gate, given by\n",
    "\n",
    "\\begin{eqnarray}\n",
    "ZZ(t)=e^{-itZ\\otimes Z} &=& e^{-it}\\Bigg(|00\\rangle\\langle 00|+|11\\rangle\\langle 11|\\Bigg)+e^{it}\\Bigg(|01\\rangle\\langle 01|+|10\\rangle\\langle 10|\\Bigg)=C_{x}^{01}\\big(\\mathbb{I}\\otimes e^{-itZ}\\big)C_{x}^{01},\n",
    "\\end{eqnarray}\n",
    "\n",
    "and the fact that $e^{-itZ} = R_z(2t)$.\n",
    "\n",
    "Q.E.D."
   ]
  },
  {
   "cell_type": "markdown",
   "metadata": {
    "id": "e8e7e781-9bca-4a00-acc0-d920b7bf3161",
    "jp-MarkdownHeadingCollapsed": true,
    "tags": []
   },
   "source": [
    "## $YY(t)$ gate"
   ]
  },
  {
   "cell_type": "markdown",
   "metadata": {
    "id": "8391ff44-f7df-4a49-a719-1f70fff7557a"
   },
   "source": [
    "One should note that $e^{-itYY}$ is shorthand for $e^{-itY \\otimes Y}$. Following the same thought process as before, one writes the spectral decomposition of the Pauli operator $Y$ in the basis of its eigenvectors:\n",
    "\n",
    "$$Y=\\sum_{j=1}^{d} y_j |y_j \\rangle \\langle y_j|=|\\oplus\\rangle\\langle \\oplus|-|\\ominus\\rangle\\langle \\ominus|,$$\n",
    "\n",
    "where\n",
    "\n",
    "\\begin{eqnarray}\n",
    "|+y\\rangle &\\equiv& |\\oplus\\rangle \\doteq \\frac{1}{\\sqrt{2}}(|0\\rangle+i|1\\rangle), \\\\\n",
    "|-y\\rangle &\\equiv& |\\ominus\\rangle \\doteq \\frac{1}{\\sqrt{2}}(|0\\rangle-i|1\\rangle),\n",
    "\\end{eqnarray}\n",
    "\n",
    "denotes the two orthonormal eigenstates (eigenvectors) of the Pauli $Y$-gate. "
   ]
  },
  {
   "cell_type": "markdown",
   "metadata": {
    "id": "v-YoV0T8RxDZ"
   },
   "source": [
    "With that, one has\n",
    "\n",
    "\\begin{eqnarray}\n",
    "YY &\\equiv& Y \\otimes Y = (|\\oplus\\rangle\\langle \\oplus|-|\\ominus\\rangle\\langle \\ominus|)\\otimes(|\\oplus\\rangle\\langle \\oplus|-|\\ominus\\rangle\\langle \\ominus|) \\tag{YY1}\\\\\n",
    "&=& (|\\oplus\\rangle\\langle \\oplus|) \\otimes (|\\oplus\\rangle\\langle \\oplus|) - (|\\oplus\\rangle\\langle \\oplus|) \\otimes (|\\ominus\\rangle\\langle \\ominus|) - (|\\ominus\\rangle\\langle \\ominus|)\\otimes(|\\oplus\\rangle\\langle \\oplus|) + (|\\ominus\\rangle\\langle \\ominus|)\\otimes(|\\ominus\\rangle\\langle \\ominus|) \\tag{YY2}\\\\\n",
    "&=&|\\oplus\\oplus\\rangle\\langle \\oplus\\oplus|-|\\oplus\\ominus\\rangle\\langle \\oplus\\ominus|-|\\ominus\\oplus\\rangle\\langle \\ominus\\oplus|+|\\ominus\\ominus\\rangle\\langle \\ominus\\ominus| \\tag{YY3}.\n",
    "\\end{eqnarray}\n",
    "\n",
    "- Eq. ($YY2$) was obtained from Eq. ($YY1$) using the distributive property for matrices:\n",
    "\n",
    "$$(A+B) \\otimes (C+D)=A\\otimes C+A\\otimes D+B\\otimes C+B\\otimes D.$$\n",
    "\n",
    "- Eq. ($YY3$) was obtained from Eq. ($YY2$) using:\n",
    "\n",
    "$$|a\\rangle \\langle c| \\otimes |b\\rangle \\langle d|  = (|a\\rangle \\otimes |b\\rangle)(\\langle c| \\otimes \\langle d|) \\equiv |ab\\rangle\\langle cd|.$$"
   ]
  },
  {
   "cell_type": "markdown",
   "metadata": {
    "id": "X6m_pwNwUPHe"
   },
   "source": [
    "Henceforth, \n",
    "\n",
    "\\begin{eqnarray}\n",
    "e^{-itY \\otimes Y}&=&e^{-it}|\\oplus\\oplus\\rangle\\langle \\oplus\\oplus|+ e^{it}|\\oplus\\ominus\\rangle\\langle \\oplus\\ominus|+ e^{it}|\\ominus\\oplus\\rangle\\langle \\ominus\\oplus|+e^{-it}|\\ominus\\ominus\\rangle\\langle \\ominus\\ominus|\\tag{YY4} \\\\\n",
    "&=&e^{-it}\\Bigg(|\\oplus\\oplus\\rangle\\langle \\oplus\\oplus|+|\\ominus\\ominus\\rangle\\langle \\ominus\\ominus|\\Bigg) + e^{it}\\Bigg(|\\oplus\\ominus\\rangle\\langle \\oplus\\ominus|+|\\ominus\\oplus\\rangle\\langle \\ominus\\oplus|\\Bigg).\n",
    "\\end{eqnarray}\n",
    "\n",
    "- Once more, Eq. ($YY4$) is the result of acting an operator function (in this case $e^{i\\theta \\hat{O}}$) on a Normal matrix (in this case $Y\\otimes Y$) with the spectral decomposition, according to:\n",
    "\n",
    "$$ e^{i\\theta\\hat{O}} = \\sum_{j=1}^n e^{i\\theta o_j} |o_j\\rangle \\langle o_j| = e^{i\\theta o_1} |o_{1}\\rangle \\langle o_{1}| + \\cdots + e^{i\\theta o_n} |o_{n}\\rangle \\langle o_{n}|.$$"
   ]
  },
  {
   "cell_type": "markdown",
   "metadata": {
    "id": "YFNot9kqS98Z"
   },
   "source": [
    "As one can see, the $e^{-itY\\otimes Y}$ gate is not diagonalized in the $Z$-basis. Since measurements are computed in the $Z$-basis, the next step is to apply a basis change, as follows:\n",
    "\n",
    "\\begin{eqnarray}\n",
    "|\\oplus\\rangle &=& SH|0\\rangle = R_x(-\\pi/2)|0\\rangle, \\\\\n",
    "|\\ominus\\rangle &=& SH|1\\rangle = R_x(\\pi/2)|0\\rangle, \\\\\n",
    "\\langle \\oplus| &=& (|\\oplus\\rangle)^{\\dagger} = (SH|0\\rangle)^{\\dagger} = (|0\\rangle)^{\\dagger} (SH)^{\\dagger} = \\langle 0| H^{\\dagger}S^{\\dagger}=\\langle 0|HS^{\\dagger},\\\\\n",
    "\\langle \\ominus| &=& (|\\ominus\\rangle)^{\\dagger} = (SH|1\\rangle)^{\\dagger} = (|1\\rangle)^{\\dagger} (SH)^{\\dagger} = \\langle 1| H^{\\dagger}S^{\\dagger}=\\langle 1|HS^{\\dagger}.\n",
    "\\end{eqnarray}"
   ]
  },
  {
   "cell_type": "markdown",
   "metadata": {
    "id": "m8rg8UVZFioC"
   },
   "source": [
    "With that, and using $A |v\\rangle \\otimes B |w\\rangle = (A\\otimes B)(|v\\rangle \\otimes |w\\rangle),$ one can write the respective outer products as follows:\n",
    "\n",
    "\\begin{eqnarray}\n",
    "|\\oplus\\oplus\\rangle\\langle \\oplus\\oplus| &=& (SH|0\\rangle \\otimes SH|0\\rangle)(\\langle 0| HS^{\\dagger} \\otimes \\langle 0| HS^{\\dagger})\\\\\n",
    "&=& \\Bigg[(SH \\otimes SH)(|0\\rangle \\otimes |0\\rangle)\\Bigg]\\Bigg[(\\langle 0| \\otimes \\langle 0|)(HS^{\\dagger} \\otimes HS^{\\dagger})\\Bigg] \\\\\n",
    "&=&(S\\otimes S)(H\\otimes H)|00\\rangle\\langle 00|(H\\otimes H)(S^{\\dagger}\\otimes S^{\\dagger}),\n",
    "\\end{eqnarray}"
   ]
  },
  {
   "cell_type": "markdown",
   "metadata": {
    "id": "u4womFgXFs4h"
   },
   "source": [
    "\\begin{eqnarray}\n",
    "|\\ominus\\ominus\\rangle\\langle \\ominus\\ominus| &=& (SH|1\\rangle \\otimes SH|1\\rangle)(\\langle 1| HS^{\\dagger} \\otimes \\langle 1| HS^{\\dagger})\\\\\n",
    "&=& \\Bigg[(SH \\otimes SH)(|1\\rangle \\otimes |1\\rangle)\\Bigg]\\Bigg[(\\langle 1| \\otimes \\langle 1|)(HS^{\\dagger} \\otimes HS^{\\dagger})\\Bigg] \\\\\n",
    "&=&(S\\otimes S)(H\\otimes H)|11\\rangle\\langle 11|(H\\otimes H)(S^{\\dagger}\\otimes S^{\\dagger}),\n",
    "\\end{eqnarray}"
   ]
  },
  {
   "cell_type": "markdown",
   "metadata": {
    "id": "-6R-H7OGJB7H"
   },
   "source": [
    "\\begin{eqnarray}\n",
    "|\\oplus\\ominus\\rangle\\langle \\oplus\\ominus| &=& (SH|0\\rangle \\otimes SH|1\\rangle)(\\langle 0| HS^{\\dagger} \\otimes \\langle 1| HS^{\\dagger})\\\\\n",
    "&=& \\Bigg[(SH \\otimes SH)(|0\\rangle \\otimes |1\\rangle)\\Bigg]\\Bigg[(\\langle 0| \\otimes \\langle 1|)(HS^{\\dagger} \\otimes HS^{\\dagger})\\Bigg] \\\\\n",
    "&=&(S\\otimes S)(H\\otimes H)|01\\rangle\\langle 01|(H\\otimes H)(S^{\\dagger}\\otimes S^{\\dagger}),\n",
    "\\end{eqnarray}"
   ]
  },
  {
   "cell_type": "markdown",
   "metadata": {
    "id": "74QSfo9jKTvA"
   },
   "source": [
    "\\begin{eqnarray}\n",
    "|\\ominus\\oplus\\rangle\\langle \\ominus\\oplus| &=& (SH|1\\rangle \\otimes SH|0\\rangle)(\\langle 1| HS^{\\dagger} \\otimes \\langle 0| HS^{\\dagger})\\\\\n",
    "&=& \\Bigg[(SH \\otimes SH)(|1\\rangle \\otimes |0\\rangle)\\Bigg]\\Bigg[(\\langle 1| \\otimes \\langle 0|)(HS^{\\dagger} \\otimes HS^{\\dagger})\\Bigg] \\\\\n",
    "&=&(S\\otimes S)(H\\otimes H)|10\\rangle\\langle 10|(H\\otimes H)(S^{\\dagger}\\otimes S^{\\dagger}).\n",
    "\\end{eqnarray}"
   ]
  },
  {
   "cell_type": "markdown",
   "metadata": {
    "id": "LcnEviuCnjP8"
   },
   "source": [
    "Finally,\n",
    "\n",
    "\\begin{eqnarray}\n",
    "e^{-itY\\otimes Y} &=& e^{-it}\\Bigg((S\\otimes S)(H\\otimes H)|00\\rangle\\langle 00|(H\\otimes H)(S^{\\dagger}\\otimes S^{\\dagger})+(S\\otimes S)(H\\otimes H)|11\\rangle\\langle 11|(H\\otimes H)(S^{\\dagger}\\otimes S^{\\dagger})\\Bigg) \\\\\n",
    "&+& e^{it}\\Bigg((S\\otimes S)(H\\otimes H)|01\\rangle\\langle 01|(H\\otimes H)(S^{\\dagger}\\otimes S^{\\dagger}) + (S\\otimes S)(H\\otimes H)|10\\rangle\\langle 10|(H\\otimes H)(S^{\\dagger}\\otimes S^{\\dagger}) \\Bigg)\\\\\n",
    "&=& (S\\otimes S)(H\\otimes H)\\Bigg[e^{-it}\\Bigg(|00\\rangle\\langle 00|+|11\\rangle\\langle 11|\\Bigg)+e^{it}\\Bigg(|01\\rangle\\langle 01|+|10\\rangle\\langle 10|\\Bigg)\\Bigg](H\\otimes H)(S^{\\dagger}\\otimes S^{\\dagger}) \\\\\n",
    "& =& (S\\otimes S)(H\\otimes H)e^{-itZ \\otimes Z}(H\\otimes H)(S^{\\dagger}\\otimes S^{\\dagger}) \\\\\n",
    "&=&(S\\otimes S)(H\\otimes H)C_{x}^{01}\\big(\\mathbb{I}\\otimes e^{-itZ}\\big)C_{x}^{01}(H\\otimes H)(S^{\\dagger}\\otimes S^{\\dagger}) \\\\\n",
    "&=&(S\\otimes S)(H\\otimes H)C_{x}^{01}\\big(\\mathbb{I}\\otimes R_z(2t)\\big)C_{x}^{01}(H\\otimes H)(S^{\\dagger}\\otimes S^{\\dagger}).\n",
    "\\end{eqnarray}\n",
    "\n",
    "Where it was used the previously obtained result for the decomposition of the $ZZ(t)=e^{-itZ\\otimes Z}$ gate and the equality $e^{-itZ} = R_z(2t)$.\n",
    "\n",
    "Q.E.D."
   ]
  },
  {
   "cell_type": "markdown",
   "metadata": {
    "id": "2kL8R2XDa2ms"
   },
   "source": [
    "# &nbsp; <a href=\"#\"><img valign=\"middle\" height=\"45px\" src=\"https://img.icons8.com/book\" width=\"45\" hspace=\"0px\" vspace=\"0px\"></a> References"
   ]
  },
  {
   "cell_type": "markdown",
   "metadata": {
    "id": "izjUWbeEa3_t"
   },
   "source": [
    "[1] Nielsen MA, Chuang IL. 2010. Quantum Computation and Quantum Information. New York: [Cambridge Univ. Press.](https://doi.org/10.1017/CBO9780511976667) 10th Anniv. Ed.  \n",
    "\n",
    "[2] Horn, R., & Johnson, C. (1991). Frontmatter. In Topics in Matrix Analysis (pp. I-Iv). [Cambridge: Cambridge University Press](https://www.cambridge.org/core/books/topics-in-matrix-analysis/B988495A235F1C3406EA484A2C477B03).\n",
    "\n"
   ]
  }
 ],
 "metadata": {
  "colab": {
   "authorship_tag": "ABX9TyNCIWdsFNgFYsS33+HAcFyq",
   "collapsed_sections": [
    "2l8Al1ELgStT",
    "vRsClU6V59yo",
    "F3sWroElytGE",
    "QzxKksEQ6MKk",
    "SUcD93s2h3-O",
    "M4m7mpxuLqup",
    "eHrS4GS8pzPZ",
    "QtKzgiXgL4g0",
    "uManQMaCLtV3",
    "utzuBj5057RX",
    "t3oYZ1YydwtD",
    "dlxWB10nN7_O",
    "8JRVm3-Jzhth",
    "r8jiPap9UAvj",
    "DnB_dlXYUBt3",
    "Sy1J816qq8Ll",
    "rh0zMoBap3ed",
    "5j32HyrMrOaE",
    "8reczGGXXwbq",
    "b7fab640-60fe-4291-ac17-51c11c156a5f",
    "vyWqJ6eF4-z7",
    "QSZIi6ATn4AX",
    "HvWn175P0bXC",
    "VOJRQ1w_dwrM",
    "NNFyBlG94rym",
    "PxWzSF8Y5Unu",
    "r61zXyt-1kDJ",
    "do1SmhqTtjxw",
    "_7p0lsFKxo01",
    "1e2d62d7-368d-41eb-b319-cbb80644d976",
    "k1_Iu7Kc_F4f",
    "jGitZhadHchZ",
    "8bMlUIyiHfYi",
    "ac2270ef-5017-465e-a63f-4e6a9f33b832",
    "fNtjVj0s_ZeK",
    "Hs7SWqISCLKr",
    "7bwVZbAgCHb5",
    "7fb2137d-da89-4235-b909-4e6c74a4a872",
    "ed3acf9f-8827-4f78-bb36-1b0572e8906a",
    "c880929d-a2dc-4c0d-848a-60f2d6619380",
    "48887a12-eceb-4ac8-bec6-1a5a435bd0c3",
    "7a08e005-68b0-41d4-a630-fa041d05f0ee",
    "pNX20mawmyTV",
    "SLv8GF-omxgR",
    "8a2c441a-59c5-45e3-84dd-e71e8f194bab",
    "1etC8lPllTKu",
    "5h52fMirlNya",
    "a8f39d7c-0407-4eaa-9b25-bec76cde9de9",
    "ks5dw2UcMdT7",
    "tEFvH073NUMP",
    "864_5ltpEXc5",
    "ZjouLXJGTgOf",
    "tBmjoW4bPpij",
    "f640c94a-c8a9-4675-a91d-07e12b12aa1c",
    "e8e7e781-9bca-4a00-acc0-d920b7bf3161",
    "2kL8R2XDa2ms"
   ],
   "provenance": []
  },
  "kernelspec": {
   "display_name": "Python 3 (ipykernel)",
   "language": "python",
   "name": "python3"
  },
  "language_info": {
   "codemirror_mode": {
    "name": "ipython",
    "version": 3
   },
   "file_extension": ".py",
   "mimetype": "text/x-python",
   "name": "python",
   "nbconvert_exporter": "python",
   "pygments_lexer": "ipython3",
   "version": "3.8.8"
  }
 },
 "nbformat": 4,
 "nbformat_minor": 1
}
